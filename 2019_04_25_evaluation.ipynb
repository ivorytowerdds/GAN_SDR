{
 "cells": [
  {
   "cell_type": "code",
   "execution_count": 2,
   "metadata": {},
   "outputs": [],
   "source": [
    "import pandas as pd\n",
    "import matplotlib.pyplot as plt"
   ]
  },
  {
   "cell_type": "code",
   "execution_count": 3,
   "metadata": {},
   "outputs": [],
   "source": [
    "data = pd.read_csv(\"data.csv\", dtype = {'PRICE_NOTATION':'float','ROUNDED_NOTIONAL_AMOUNT_1':'float'})\n",
    "original = pd.read_csv('clean_version2.csv',dtype = {'PRICE_NOTATION':'float','ROUNDED_NOTIONAL_AMOUNT_1':'float'})"
   ]
  },
  {
   "cell_type": "code",
   "execution_count": 4,
   "metadata": {},
   "outputs": [
    {
     "data": {
      "text/plain": [
       "11936"
      ]
     },
     "execution_count": 4,
     "metadata": {},
     "output_type": "execute_result"
    }
   ],
   "source": [
    "original.shape[0]"
   ]
  },
  {
   "cell_type": "code",
   "execution_count": 5,
   "metadata": {},
   "outputs": [
    {
     "data": {
      "text/plain": [
       "719283"
      ]
     },
     "execution_count": 5,
     "metadata": {},
     "output_type": "execute_result"
    }
   ],
   "source": [
    "data.shape[0]"
   ]
  },
  {
   "cell_type": "code",
   "execution_count": 27,
   "metadata": {},
   "outputs": [],
   "source": [
    "data.drop(['Unnamed: 0'], axis = 1, inplace = True)"
   ]
  },
  {
   "cell_type": "code",
   "execution_count": 28,
   "metadata": {},
   "outputs": [
    {
     "data": {
      "text/html": [
       "<div>\n",
       "<style scoped>\n",
       "    .dataframe tbody tr th:only-of-type {\n",
       "        vertical-align: middle;\n",
       "    }\n",
       "\n",
       "    .dataframe tbody tr th {\n",
       "        vertical-align: top;\n",
       "    }\n",
       "\n",
       "    .dataframe thead th {\n",
       "        text-align: right;\n",
       "    }\n",
       "</style>\n",
       "<table border=\"1\" class=\"dataframe\">\n",
       "  <thead>\n",
       "    <tr style=\"text-align: right;\">\n",
       "      <th></th>\n",
       "      <th>ACTION</th>\n",
       "      <th>CLEARED</th>\n",
       "      <th>INDICATION_OF_COLLATERALIZATION</th>\n",
       "      <th>TAXONOMY</th>\n",
       "      <th>PRICE_FORMING_CONTINUATION_DATA</th>\n",
       "      <th>PRICE_NOTATION</th>\n",
       "      <th>ROUNDED_NOTIONAL_AMOUNT_1</th>\n",
       "    </tr>\n",
       "  </thead>\n",
       "  <tbody>\n",
       "    <tr>\n",
       "      <th>0</th>\n",
       "      <td>NEW</td>\n",
       "      <td>U</td>\n",
       "      <td>UC</td>\n",
       "      <td>IG</td>\n",
       "      <td>Novation</td>\n",
       "      <td>0.5</td>\n",
       "      <td>95.0</td>\n",
       "    </tr>\n",
       "    <tr>\n",
       "      <th>1</th>\n",
       "      <td>NEW</td>\n",
       "      <td>U</td>\n",
       "      <td>PC</td>\n",
       "      <td>IG</td>\n",
       "      <td>Partialtermination</td>\n",
       "      <td>75.0</td>\n",
       "      <td>3.5</td>\n",
       "    </tr>\n",
       "    <tr>\n",
       "      <th>2</th>\n",
       "      <td>NEW</td>\n",
       "      <td>U</td>\n",
       "      <td>PC</td>\n",
       "      <td>IG</td>\n",
       "      <td>Novation</td>\n",
       "      <td>0.5</td>\n",
       "      <td>7.5</td>\n",
       "    </tr>\n",
       "    <tr>\n",
       "      <th>3</th>\n",
       "      <td>NEW</td>\n",
       "      <td>U</td>\n",
       "      <td>UC</td>\n",
       "      <td>IG</td>\n",
       "      <td>Novation</td>\n",
       "      <td>0.5</td>\n",
       "      <td>65.0</td>\n",
       "    </tr>\n",
       "    <tr>\n",
       "      <th>4</th>\n",
       "      <td>NEW</td>\n",
       "      <td>U</td>\n",
       "      <td>PC</td>\n",
       "      <td>IG</td>\n",
       "      <td>Partialtermination</td>\n",
       "      <td>75.0</td>\n",
       "      <td>3.5</td>\n",
       "    </tr>\n",
       "  </tbody>\n",
       "</table>\n",
       "</div>"
      ],
      "text/plain": [
       "  ACTION CLEARED INDICATION_OF_COLLATERALIZATION TAXONOMY  \\\n",
       "0    NEW       U                              UC       IG   \n",
       "1    NEW       U                              PC       IG   \n",
       "2    NEW       U                              PC       IG   \n",
       "3    NEW       U                              UC       IG   \n",
       "4    NEW       U                              PC       IG   \n",
       "\n",
       "  PRICE_FORMING_CONTINUATION_DATA  PRICE_NOTATION  ROUNDED_NOTIONAL_AMOUNT_1  \n",
       "0                        Novation             0.5                       95.0  \n",
       "1              Partialtermination            75.0                        3.5  \n",
       "2                        Novation             0.5                        7.5  \n",
       "3                        Novation             0.5                       65.0  \n",
       "4              Partialtermination            75.0                        3.5  "
      ]
     },
     "execution_count": 28,
     "metadata": {},
     "output_type": "execute_result"
    }
   ],
   "source": [
    "data.head()"
   ]
  },
  {
   "cell_type": "code",
   "execution_count": 5,
   "metadata": {},
   "outputs": [
    {
     "data": {
      "text/html": [
       "<div>\n",
       "<style scoped>\n",
       "    .dataframe tbody tr th:only-of-type {\n",
       "        vertical-align: middle;\n",
       "    }\n",
       "\n",
       "    .dataframe tbody tr th {\n",
       "        vertical-align: top;\n",
       "    }\n",
       "\n",
       "    .dataframe thead th {\n",
       "        text-align: right;\n",
       "    }\n",
       "</style>\n",
       "<table border=\"1\" class=\"dataframe\">\n",
       "  <thead>\n",
       "    <tr style=\"text-align: right;\">\n",
       "      <th></th>\n",
       "      <th>ACTION</th>\n",
       "      <th>CLEARED</th>\n",
       "      <th>INDICATION_OF_COLLATERALIZATION</th>\n",
       "      <th>TAXONOMY</th>\n",
       "      <th>PRICE_FORMING_CONTINUATION_DATA</th>\n",
       "      <th>PRICE_NOTATION</th>\n",
       "      <th>ROUNDED_NOTIONAL_AMOUNT_1</th>\n",
       "    </tr>\n",
       "  </thead>\n",
       "  <tbody>\n",
       "    <tr>\n",
       "      <th>0</th>\n",
       "      <td>NEW</td>\n",
       "      <td>U</td>\n",
       "      <td>UC</td>\n",
       "      <td>Credit:Index:CDX:CDXIG</td>\n",
       "      <td>Trade</td>\n",
       "      <td>1.00</td>\n",
       "      <td>100.0</td>\n",
       "    </tr>\n",
       "    <tr>\n",
       "      <th>1</th>\n",
       "      <td>NEW</td>\n",
       "      <td>U</td>\n",
       "      <td>PC</td>\n",
       "      <td>Credit:Index:CDX:CDXIG</td>\n",
       "      <td>Trade</td>\n",
       "      <td>1.00</td>\n",
       "      <td>30.0</td>\n",
       "    </tr>\n",
       "    <tr>\n",
       "      <th>2</th>\n",
       "      <td>CORRECT</td>\n",
       "      <td>U</td>\n",
       "      <td>PC</td>\n",
       "      <td>Credit:Index:CDX:CDXIG</td>\n",
       "      <td>Trade</td>\n",
       "      <td>1.00</td>\n",
       "      <td>30.0</td>\n",
       "    </tr>\n",
       "    <tr>\n",
       "      <th>3</th>\n",
       "      <td>NEW</td>\n",
       "      <td>U</td>\n",
       "      <td>PC</td>\n",
       "      <td>Credit:Index:CDX:CDXIG</td>\n",
       "      <td>Novation</td>\n",
       "      <td>1.24</td>\n",
       "      <td>25.0</td>\n",
       "    </tr>\n",
       "    <tr>\n",
       "      <th>4</th>\n",
       "      <td>CORRECT</td>\n",
       "      <td>C</td>\n",
       "      <td>UC</td>\n",
       "      <td>Credit:Index:CDX:CDXHY</td>\n",
       "      <td>Trade</td>\n",
       "      <td>1.00</td>\n",
       "      <td>5.0</td>\n",
       "    </tr>\n",
       "  </tbody>\n",
       "</table>\n",
       "</div>"
      ],
      "text/plain": [
       "    ACTION CLEARED INDICATION_OF_COLLATERALIZATION                TAXONOMY  \\\n",
       "0      NEW       U                              UC  Credit:Index:CDX:CDXIG   \n",
       "1      NEW       U                              PC  Credit:Index:CDX:CDXIG   \n",
       "2  CORRECT       U                              PC  Credit:Index:CDX:CDXIG   \n",
       "3      NEW       U                              PC  Credit:Index:CDX:CDXIG   \n",
       "4  CORRECT       C                              UC  Credit:Index:CDX:CDXHY   \n",
       "\n",
       "  PRICE_FORMING_CONTINUATION_DATA  PRICE_NOTATION  ROUNDED_NOTIONAL_AMOUNT_1  \n",
       "0                           Trade            1.00                      100.0  \n",
       "1                           Trade            1.00                       30.0  \n",
       "2                           Trade            1.00                       30.0  \n",
       "3                        Novation            1.24                       25.0  \n",
       "4                           Trade            1.00                        5.0  "
      ]
     },
     "execution_count": 5,
     "metadata": {},
     "output_type": "execute_result"
    }
   ],
   "source": [
    "original.head()"
   ]
  },
  {
   "cell_type": "code",
   "execution_count": 29,
   "metadata": {},
   "outputs": [],
   "source": [
    "merged = data.merge(original, indicator=True, how='outer')"
   ]
  },
  {
   "cell_type": "code",
   "execution_count": 30,
   "metadata": {},
   "outputs": [
    {
     "data": {
      "text/html": [
       "<div>\n",
       "<style scoped>\n",
       "    .dataframe tbody tr th:only-of-type {\n",
       "        vertical-align: middle;\n",
       "    }\n",
       "\n",
       "    .dataframe tbody tr th {\n",
       "        vertical-align: top;\n",
       "    }\n",
       "\n",
       "    .dataframe thead th {\n",
       "        text-align: right;\n",
       "    }\n",
       "</style>\n",
       "<table border=\"1\" class=\"dataframe\">\n",
       "  <thead>\n",
       "    <tr style=\"text-align: right;\">\n",
       "      <th></th>\n",
       "      <th>ACTION</th>\n",
       "      <th>CLEARED</th>\n",
       "      <th>INDICATION_OF_COLLATERALIZATION</th>\n",
       "      <th>TAXONOMY</th>\n",
       "      <th>PRICE_FORMING_CONTINUATION_DATA</th>\n",
       "      <th>PRICE_NOTATION</th>\n",
       "      <th>ROUNDED_NOTIONAL_AMOUNT_1</th>\n",
       "      <th>_merge</th>\n",
       "    </tr>\n",
       "  </thead>\n",
       "  <tbody>\n",
       "    <tr>\n",
       "      <th>0</th>\n",
       "      <td>NEW</td>\n",
       "      <td>U</td>\n",
       "      <td>UC</td>\n",
       "      <td>IG</td>\n",
       "      <td>Novation</td>\n",
       "      <td>0.5</td>\n",
       "      <td>95.0</td>\n",
       "      <td>left_only</td>\n",
       "    </tr>\n",
       "    <tr>\n",
       "      <th>1</th>\n",
       "      <td>NEW</td>\n",
       "      <td>U</td>\n",
       "      <td>UC</td>\n",
       "      <td>IG</td>\n",
       "      <td>Novation</td>\n",
       "      <td>0.5</td>\n",
       "      <td>95.0</td>\n",
       "      <td>left_only</td>\n",
       "    </tr>\n",
       "    <tr>\n",
       "      <th>2</th>\n",
       "      <td>NEW</td>\n",
       "      <td>U</td>\n",
       "      <td>UC</td>\n",
       "      <td>IG</td>\n",
       "      <td>Novation</td>\n",
       "      <td>0.5</td>\n",
       "      <td>95.0</td>\n",
       "      <td>left_only</td>\n",
       "    </tr>\n",
       "    <tr>\n",
       "      <th>3</th>\n",
       "      <td>NEW</td>\n",
       "      <td>U</td>\n",
       "      <td>UC</td>\n",
       "      <td>IG</td>\n",
       "      <td>Novation</td>\n",
       "      <td>0.5</td>\n",
       "      <td>95.0</td>\n",
       "      <td>left_only</td>\n",
       "    </tr>\n",
       "    <tr>\n",
       "      <th>4</th>\n",
       "      <td>NEW</td>\n",
       "      <td>U</td>\n",
       "      <td>UC</td>\n",
       "      <td>IG</td>\n",
       "      <td>Novation</td>\n",
       "      <td>0.5</td>\n",
       "      <td>95.0</td>\n",
       "      <td>left_only</td>\n",
       "    </tr>\n",
       "  </tbody>\n",
       "</table>\n",
       "</div>"
      ],
      "text/plain": [
       "  ACTION CLEARED INDICATION_OF_COLLATERALIZATION TAXONOMY  \\\n",
       "0    NEW       U                              UC       IG   \n",
       "1    NEW       U                              UC       IG   \n",
       "2    NEW       U                              UC       IG   \n",
       "3    NEW       U                              UC       IG   \n",
       "4    NEW       U                              UC       IG   \n",
       "\n",
       "  PRICE_FORMING_CONTINUATION_DATA  PRICE_NOTATION  ROUNDED_NOTIONAL_AMOUNT_1  \\\n",
       "0                        Novation             0.5                       95.0   \n",
       "1                        Novation             0.5                       95.0   \n",
       "2                        Novation             0.5                       95.0   \n",
       "3                        Novation             0.5                       95.0   \n",
       "4                        Novation             0.5                       95.0   \n",
       "\n",
       "      _merge  \n",
       "0  left_only  \n",
       "1  left_only  \n",
       "2  left_only  \n",
       "3  left_only  \n",
       "4  left_only  "
      ]
     },
     "execution_count": 30,
     "metadata": {},
     "output_type": "execute_result"
    }
   ],
   "source": [
    "merged.head()"
   ]
  },
  {
   "cell_type": "code",
   "execution_count": 21,
   "metadata": {},
   "outputs": [
    {
     "data": {
      "text/html": [
       "<div>\n",
       "<style scoped>\n",
       "    .dataframe tbody tr th:only-of-type {\n",
       "        vertical-align: middle;\n",
       "    }\n",
       "\n",
       "    .dataframe tbody tr th {\n",
       "        vertical-align: top;\n",
       "    }\n",
       "\n",
       "    .dataframe thead th {\n",
       "        text-align: right;\n",
       "    }\n",
       "</style>\n",
       "<table border=\"1\" class=\"dataframe\">\n",
       "  <thead>\n",
       "    <tr style=\"text-align: right;\">\n",
       "      <th></th>\n",
       "      <th>ACTION</th>\n",
       "      <th>CLEARED</th>\n",
       "      <th>INDICATION_OF_COLLATERALIZATION</th>\n",
       "      <th>TAXONOMY</th>\n",
       "      <th>PRICE_FORMING_CONTINUATION_DATA</th>\n",
       "      <th>PRICE_NOTATION</th>\n",
       "      <th>ROUNDED_NOTIONAL_AMOUNT_1</th>\n",
       "    </tr>\n",
       "  </thead>\n",
       "  <tbody>\n",
       "    <tr>\n",
       "      <th>8362</th>\n",
       "      <td>CORRECT</td>\n",
       "      <td>C</td>\n",
       "      <td>UC</td>\n",
       "      <td>Credit:Index:CDX:CDXIG</td>\n",
       "      <td>Trade</td>\n",
       "      <td>0.5</td>\n",
       "      <td>85.0</td>\n",
       "    </tr>\n",
       "  </tbody>\n",
       "</table>\n",
       "</div>"
      ],
      "text/plain": [
       "       ACTION CLEARED INDICATION_OF_COLLATERALIZATION                TAXONOMY  \\\n",
       "8362  CORRECT       C                              UC  Credit:Index:CDX:CDXIG   \n",
       "\n",
       "     PRICE_FORMING_CONTINUATION_DATA  PRICE_NOTATION  \\\n",
       "8362                           Trade             0.5   \n",
       "\n",
       "      ROUNDED_NOTIONAL_AMOUNT_1  \n",
       "8362                       85.0  "
      ]
     },
     "execution_count": 21,
     "metadata": {},
     "output_type": "execute_result"
    }
   ],
   "source": [
    "original.loc[(original['PRICE_NOTATION'] == 0.5) & (original['ROUNDED_NOTIONAL_AMOUNT_1'] == 85.0)]"
   ]
  },
  {
   "cell_type": "code",
   "execution_count": 16,
   "metadata": {},
   "outputs": [
    {
     "data": {
      "text/html": [
       "<div>\n",
       "<style scoped>\n",
       "    .dataframe tbody tr th:only-of-type {\n",
       "        vertical-align: middle;\n",
       "    }\n",
       "\n",
       "    .dataframe tbody tr th {\n",
       "        vertical-align: top;\n",
       "    }\n",
       "\n",
       "    .dataframe thead th {\n",
       "        text-align: right;\n",
       "    }\n",
       "</style>\n",
       "<table border=\"1\" class=\"dataframe\">\n",
       "  <thead>\n",
       "    <tr style=\"text-align: right;\">\n",
       "      <th></th>\n",
       "      <th>ACTION</th>\n",
       "      <th>CLEARED</th>\n",
       "      <th>INDICATION_OF_COLLATERALIZATION</th>\n",
       "      <th>TAXONOMY</th>\n",
       "      <th>PRICE_FORMING_CONTINUATION_DATA</th>\n",
       "      <th>PRICE_NOTATION</th>\n",
       "      <th>ROUNDED_NOTIONAL_AMOUNT_1</th>\n",
       "      <th>_merge</th>\n",
       "    </tr>\n",
       "  </thead>\n",
       "  <tbody>\n",
       "    <tr>\n",
       "      <th>427955</th>\n",
       "      <td>CORRECT</td>\n",
       "      <td>C</td>\n",
       "      <td>UC</td>\n",
       "      <td>Credit:Index:CDX:CDXIG</td>\n",
       "      <td>Trade</td>\n",
       "      <td>0.5</td>\n",
       "      <td>85.0</td>\n",
       "      <td>both</td>\n",
       "    </tr>\n",
       "    <tr>\n",
       "      <th>427956</th>\n",
       "      <td>CORRECT</td>\n",
       "      <td>C</td>\n",
       "      <td>UC</td>\n",
       "      <td>Credit:Index:CDX:CDXIG</td>\n",
       "      <td>Trade</td>\n",
       "      <td>0.5</td>\n",
       "      <td>85.0</td>\n",
       "      <td>both</td>\n",
       "    </tr>\n",
       "    <tr>\n",
       "      <th>427957</th>\n",
       "      <td>CORRECT</td>\n",
       "      <td>C</td>\n",
       "      <td>UC</td>\n",
       "      <td>Credit:Index:CDX:CDXIG</td>\n",
       "      <td>Trade</td>\n",
       "      <td>0.5</td>\n",
       "      <td>85.0</td>\n",
       "      <td>both</td>\n",
       "    </tr>\n",
       "    <tr>\n",
       "      <th>427958</th>\n",
       "      <td>CORRECT</td>\n",
       "      <td>C</td>\n",
       "      <td>UC</td>\n",
       "      <td>Credit:Index:CDX:CDXIG</td>\n",
       "      <td>Trade</td>\n",
       "      <td>0.5</td>\n",
       "      <td>85.0</td>\n",
       "      <td>both</td>\n",
       "    </tr>\n",
       "    <tr>\n",
       "      <th>427959</th>\n",
       "      <td>CORRECT</td>\n",
       "      <td>C</td>\n",
       "      <td>UC</td>\n",
       "      <td>Credit:Index:CDX:CDXIG</td>\n",
       "      <td>Trade</td>\n",
       "      <td>0.5</td>\n",
       "      <td>85.0</td>\n",
       "      <td>both</td>\n",
       "    </tr>\n",
       "    <tr>\n",
       "      <th>427960</th>\n",
       "      <td>CORRECT</td>\n",
       "      <td>C</td>\n",
       "      <td>UC</td>\n",
       "      <td>Credit:Index:CDX:CDXIG</td>\n",
       "      <td>Trade</td>\n",
       "      <td>0.5</td>\n",
       "      <td>85.0</td>\n",
       "      <td>both</td>\n",
       "    </tr>\n",
       "    <tr>\n",
       "      <th>427961</th>\n",
       "      <td>CORRECT</td>\n",
       "      <td>C</td>\n",
       "      <td>UC</td>\n",
       "      <td>Credit:Index:CDX:CDXIG</td>\n",
       "      <td>Trade</td>\n",
       "      <td>0.5</td>\n",
       "      <td>85.0</td>\n",
       "      <td>both</td>\n",
       "    </tr>\n",
       "    <tr>\n",
       "      <th>427962</th>\n",
       "      <td>CORRECT</td>\n",
       "      <td>C</td>\n",
       "      <td>UC</td>\n",
       "      <td>Credit:Index:CDX:CDXIG</td>\n",
       "      <td>Trade</td>\n",
       "      <td>0.5</td>\n",
       "      <td>85.0</td>\n",
       "      <td>both</td>\n",
       "    </tr>\n",
       "    <tr>\n",
       "      <th>427963</th>\n",
       "      <td>CORRECT</td>\n",
       "      <td>C</td>\n",
       "      <td>UC</td>\n",
       "      <td>Credit:Index:CDX:CDXIG</td>\n",
       "      <td>Trade</td>\n",
       "      <td>0.5</td>\n",
       "      <td>85.0</td>\n",
       "      <td>both</td>\n",
       "    </tr>\n",
       "    <tr>\n",
       "      <th>427964</th>\n",
       "      <td>CORRECT</td>\n",
       "      <td>C</td>\n",
       "      <td>UC</td>\n",
       "      <td>Credit:Index:CDX:CDXIG</td>\n",
       "      <td>Trade</td>\n",
       "      <td>0.5</td>\n",
       "      <td>85.0</td>\n",
       "      <td>both</td>\n",
       "    </tr>\n",
       "    <tr>\n",
       "      <th>427965</th>\n",
       "      <td>CORRECT</td>\n",
       "      <td>C</td>\n",
       "      <td>UC</td>\n",
       "      <td>Credit:Index:CDX:CDXIG</td>\n",
       "      <td>Trade</td>\n",
       "      <td>0.5</td>\n",
       "      <td>85.0</td>\n",
       "      <td>both</td>\n",
       "    </tr>\n",
       "    <tr>\n",
       "      <th>427966</th>\n",
       "      <td>CORRECT</td>\n",
       "      <td>C</td>\n",
       "      <td>UC</td>\n",
       "      <td>Credit:Index:CDX:CDXIG</td>\n",
       "      <td>Trade</td>\n",
       "      <td>0.5</td>\n",
       "      <td>85.0</td>\n",
       "      <td>both</td>\n",
       "    </tr>\n",
       "    <tr>\n",
       "      <th>427967</th>\n",
       "      <td>CORRECT</td>\n",
       "      <td>C</td>\n",
       "      <td>UC</td>\n",
       "      <td>Credit:Index:CDX:CDXIG</td>\n",
       "      <td>Trade</td>\n",
       "      <td>0.5</td>\n",
       "      <td>85.0</td>\n",
       "      <td>both</td>\n",
       "    </tr>\n",
       "    <tr>\n",
       "      <th>427968</th>\n",
       "      <td>CORRECT</td>\n",
       "      <td>C</td>\n",
       "      <td>UC</td>\n",
       "      <td>Credit:Index:CDX:CDXIG</td>\n",
       "      <td>Trade</td>\n",
       "      <td>0.5</td>\n",
       "      <td>85.0</td>\n",
       "      <td>both</td>\n",
       "    </tr>\n",
       "    <tr>\n",
       "      <th>427969</th>\n",
       "      <td>CORRECT</td>\n",
       "      <td>C</td>\n",
       "      <td>UC</td>\n",
       "      <td>Credit:Index:CDX:CDXIG</td>\n",
       "      <td>Trade</td>\n",
       "      <td>0.5</td>\n",
       "      <td>85.0</td>\n",
       "      <td>both</td>\n",
       "    </tr>\n",
       "    <tr>\n",
       "      <th>427970</th>\n",
       "      <td>CORRECT</td>\n",
       "      <td>C</td>\n",
       "      <td>UC</td>\n",
       "      <td>Credit:Index:CDX:CDXIG</td>\n",
       "      <td>Trade</td>\n",
       "      <td>0.5</td>\n",
       "      <td>85.0</td>\n",
       "      <td>both</td>\n",
       "    </tr>\n",
       "    <tr>\n",
       "      <th>427971</th>\n",
       "      <td>CORRECT</td>\n",
       "      <td>C</td>\n",
       "      <td>UC</td>\n",
       "      <td>Credit:Index:CDX:CDXIG</td>\n",
       "      <td>Trade</td>\n",
       "      <td>0.5</td>\n",
       "      <td>85.0</td>\n",
       "      <td>both</td>\n",
       "    </tr>\n",
       "    <tr>\n",
       "      <th>427972</th>\n",
       "      <td>CORRECT</td>\n",
       "      <td>C</td>\n",
       "      <td>UC</td>\n",
       "      <td>Credit:Index:CDX:CDXIG</td>\n",
       "      <td>Trade</td>\n",
       "      <td>0.5</td>\n",
       "      <td>85.0</td>\n",
       "      <td>both</td>\n",
       "    </tr>\n",
       "    <tr>\n",
       "      <th>427973</th>\n",
       "      <td>CORRECT</td>\n",
       "      <td>C</td>\n",
       "      <td>UC</td>\n",
       "      <td>Credit:Index:CDX:CDXIG</td>\n",
       "      <td>Trade</td>\n",
       "      <td>0.5</td>\n",
       "      <td>85.0</td>\n",
       "      <td>both</td>\n",
       "    </tr>\n",
       "    <tr>\n",
       "      <th>427974</th>\n",
       "      <td>CORRECT</td>\n",
       "      <td>C</td>\n",
       "      <td>UC</td>\n",
       "      <td>Credit:Index:CDX:CDXIG</td>\n",
       "      <td>Trade</td>\n",
       "      <td>0.5</td>\n",
       "      <td>85.0</td>\n",
       "      <td>both</td>\n",
       "    </tr>\n",
       "    <tr>\n",
       "      <th>427975</th>\n",
       "      <td>CORRECT</td>\n",
       "      <td>C</td>\n",
       "      <td>UC</td>\n",
       "      <td>Credit:Index:CDX:CDXIG</td>\n",
       "      <td>Trade</td>\n",
       "      <td>0.5</td>\n",
       "      <td>85.0</td>\n",
       "      <td>both</td>\n",
       "    </tr>\n",
       "    <tr>\n",
       "      <th>427976</th>\n",
       "      <td>CORRECT</td>\n",
       "      <td>C</td>\n",
       "      <td>UC</td>\n",
       "      <td>Credit:Index:CDX:CDXIG</td>\n",
       "      <td>Trade</td>\n",
       "      <td>0.5</td>\n",
       "      <td>85.0</td>\n",
       "      <td>both</td>\n",
       "    </tr>\n",
       "    <tr>\n",
       "      <th>427977</th>\n",
       "      <td>CORRECT</td>\n",
       "      <td>C</td>\n",
       "      <td>UC</td>\n",
       "      <td>Credit:Index:CDX:CDXIG</td>\n",
       "      <td>Trade</td>\n",
       "      <td>0.5</td>\n",
       "      <td>85.0</td>\n",
       "      <td>both</td>\n",
       "    </tr>\n",
       "    <tr>\n",
       "      <th>427978</th>\n",
       "      <td>CORRECT</td>\n",
       "      <td>C</td>\n",
       "      <td>UC</td>\n",
       "      <td>Credit:Index:CDX:CDXIG</td>\n",
       "      <td>Trade</td>\n",
       "      <td>0.5</td>\n",
       "      <td>85.0</td>\n",
       "      <td>both</td>\n",
       "    </tr>\n",
       "    <tr>\n",
       "      <th>427979</th>\n",
       "      <td>CORRECT</td>\n",
       "      <td>C</td>\n",
       "      <td>UC</td>\n",
       "      <td>Credit:Index:CDX:CDXIG</td>\n",
       "      <td>Trade</td>\n",
       "      <td>0.5</td>\n",
       "      <td>85.0</td>\n",
       "      <td>both</td>\n",
       "    </tr>\n",
       "    <tr>\n",
       "      <th>427980</th>\n",
       "      <td>CORRECT</td>\n",
       "      <td>C</td>\n",
       "      <td>UC</td>\n",
       "      <td>Credit:Index:CDX:CDXIG</td>\n",
       "      <td>Trade</td>\n",
       "      <td>0.5</td>\n",
       "      <td>85.0</td>\n",
       "      <td>both</td>\n",
       "    </tr>\n",
       "    <tr>\n",
       "      <th>427981</th>\n",
       "      <td>CORRECT</td>\n",
       "      <td>C</td>\n",
       "      <td>UC</td>\n",
       "      <td>Credit:Index:CDX:CDXIG</td>\n",
       "      <td>Trade</td>\n",
       "      <td>0.5</td>\n",
       "      <td>85.0</td>\n",
       "      <td>both</td>\n",
       "    </tr>\n",
       "    <tr>\n",
       "      <th>427982</th>\n",
       "      <td>CORRECT</td>\n",
       "      <td>C</td>\n",
       "      <td>UC</td>\n",
       "      <td>Credit:Index:CDX:CDXIG</td>\n",
       "      <td>Trade</td>\n",
       "      <td>0.5</td>\n",
       "      <td>85.0</td>\n",
       "      <td>both</td>\n",
       "    </tr>\n",
       "    <tr>\n",
       "      <th>427983</th>\n",
       "      <td>CORRECT</td>\n",
       "      <td>C</td>\n",
       "      <td>UC</td>\n",
       "      <td>Credit:Index:CDX:CDXIG</td>\n",
       "      <td>Trade</td>\n",
       "      <td>0.5</td>\n",
       "      <td>85.0</td>\n",
       "      <td>both</td>\n",
       "    </tr>\n",
       "    <tr>\n",
       "      <th>427984</th>\n",
       "      <td>CORRECT</td>\n",
       "      <td>C</td>\n",
       "      <td>UC</td>\n",
       "      <td>Credit:Index:CDX:CDXIG</td>\n",
       "      <td>Trade</td>\n",
       "      <td>0.5</td>\n",
       "      <td>85.0</td>\n",
       "      <td>both</td>\n",
       "    </tr>\n",
       "    <tr>\n",
       "      <th>...</th>\n",
       "      <td>...</td>\n",
       "      <td>...</td>\n",
       "      <td>...</td>\n",
       "      <td>...</td>\n",
       "      <td>...</td>\n",
       "      <td>...</td>\n",
       "      <td>...</td>\n",
       "      <td>...</td>\n",
       "    </tr>\n",
       "    <tr>\n",
       "      <th>431872</th>\n",
       "      <td>CORRECT</td>\n",
       "      <td>C</td>\n",
       "      <td>UC</td>\n",
       "      <td>Credit:Index:CDX:CDXIG</td>\n",
       "      <td>Trade</td>\n",
       "      <td>0.5</td>\n",
       "      <td>85.0</td>\n",
       "      <td>both</td>\n",
       "    </tr>\n",
       "    <tr>\n",
       "      <th>431873</th>\n",
       "      <td>CORRECT</td>\n",
       "      <td>C</td>\n",
       "      <td>UC</td>\n",
       "      <td>Credit:Index:CDX:CDXIG</td>\n",
       "      <td>Trade</td>\n",
       "      <td>0.5</td>\n",
       "      <td>85.0</td>\n",
       "      <td>both</td>\n",
       "    </tr>\n",
       "    <tr>\n",
       "      <th>431874</th>\n",
       "      <td>CORRECT</td>\n",
       "      <td>C</td>\n",
       "      <td>UC</td>\n",
       "      <td>Credit:Index:CDX:CDXIG</td>\n",
       "      <td>Trade</td>\n",
       "      <td>0.5</td>\n",
       "      <td>85.0</td>\n",
       "      <td>both</td>\n",
       "    </tr>\n",
       "    <tr>\n",
       "      <th>431875</th>\n",
       "      <td>CORRECT</td>\n",
       "      <td>C</td>\n",
       "      <td>UC</td>\n",
       "      <td>Credit:Index:CDX:CDXIG</td>\n",
       "      <td>Trade</td>\n",
       "      <td>0.5</td>\n",
       "      <td>85.0</td>\n",
       "      <td>both</td>\n",
       "    </tr>\n",
       "    <tr>\n",
       "      <th>431876</th>\n",
       "      <td>CORRECT</td>\n",
       "      <td>C</td>\n",
       "      <td>UC</td>\n",
       "      <td>Credit:Index:CDX:CDXIG</td>\n",
       "      <td>Trade</td>\n",
       "      <td>0.5</td>\n",
       "      <td>85.0</td>\n",
       "      <td>both</td>\n",
       "    </tr>\n",
       "    <tr>\n",
       "      <th>431877</th>\n",
       "      <td>CORRECT</td>\n",
       "      <td>C</td>\n",
       "      <td>UC</td>\n",
       "      <td>Credit:Index:CDX:CDXIG</td>\n",
       "      <td>Trade</td>\n",
       "      <td>0.5</td>\n",
       "      <td>85.0</td>\n",
       "      <td>both</td>\n",
       "    </tr>\n",
       "    <tr>\n",
       "      <th>431878</th>\n",
       "      <td>CORRECT</td>\n",
       "      <td>C</td>\n",
       "      <td>UC</td>\n",
       "      <td>Credit:Index:CDX:CDXIG</td>\n",
       "      <td>Trade</td>\n",
       "      <td>0.5</td>\n",
       "      <td>85.0</td>\n",
       "      <td>both</td>\n",
       "    </tr>\n",
       "    <tr>\n",
       "      <th>431879</th>\n",
       "      <td>CORRECT</td>\n",
       "      <td>C</td>\n",
       "      <td>UC</td>\n",
       "      <td>Credit:Index:CDX:CDXIG</td>\n",
       "      <td>Trade</td>\n",
       "      <td>0.5</td>\n",
       "      <td>85.0</td>\n",
       "      <td>both</td>\n",
       "    </tr>\n",
       "    <tr>\n",
       "      <th>431880</th>\n",
       "      <td>CORRECT</td>\n",
       "      <td>C</td>\n",
       "      <td>UC</td>\n",
       "      <td>Credit:Index:CDX:CDXIG</td>\n",
       "      <td>Trade</td>\n",
       "      <td>0.5</td>\n",
       "      <td>85.0</td>\n",
       "      <td>both</td>\n",
       "    </tr>\n",
       "    <tr>\n",
       "      <th>431881</th>\n",
       "      <td>CORRECT</td>\n",
       "      <td>C</td>\n",
       "      <td>UC</td>\n",
       "      <td>Credit:Index:CDX:CDXIG</td>\n",
       "      <td>Trade</td>\n",
       "      <td>0.5</td>\n",
       "      <td>85.0</td>\n",
       "      <td>both</td>\n",
       "    </tr>\n",
       "    <tr>\n",
       "      <th>431882</th>\n",
       "      <td>CORRECT</td>\n",
       "      <td>C</td>\n",
       "      <td>UC</td>\n",
       "      <td>Credit:Index:CDX:CDXIG</td>\n",
       "      <td>Trade</td>\n",
       "      <td>0.5</td>\n",
       "      <td>85.0</td>\n",
       "      <td>both</td>\n",
       "    </tr>\n",
       "    <tr>\n",
       "      <th>431883</th>\n",
       "      <td>CORRECT</td>\n",
       "      <td>C</td>\n",
       "      <td>UC</td>\n",
       "      <td>Credit:Index:CDX:CDXIG</td>\n",
       "      <td>Trade</td>\n",
       "      <td>0.5</td>\n",
       "      <td>85.0</td>\n",
       "      <td>both</td>\n",
       "    </tr>\n",
       "    <tr>\n",
       "      <th>431884</th>\n",
       "      <td>CORRECT</td>\n",
       "      <td>C</td>\n",
       "      <td>UC</td>\n",
       "      <td>Credit:Index:CDX:CDXIG</td>\n",
       "      <td>Trade</td>\n",
       "      <td>0.5</td>\n",
       "      <td>85.0</td>\n",
       "      <td>both</td>\n",
       "    </tr>\n",
       "    <tr>\n",
       "      <th>431885</th>\n",
       "      <td>CORRECT</td>\n",
       "      <td>C</td>\n",
       "      <td>UC</td>\n",
       "      <td>Credit:Index:CDX:CDXIG</td>\n",
       "      <td>Trade</td>\n",
       "      <td>0.5</td>\n",
       "      <td>85.0</td>\n",
       "      <td>both</td>\n",
       "    </tr>\n",
       "    <tr>\n",
       "      <th>431886</th>\n",
       "      <td>CORRECT</td>\n",
       "      <td>C</td>\n",
       "      <td>UC</td>\n",
       "      <td>Credit:Index:CDX:CDXIG</td>\n",
       "      <td>Trade</td>\n",
       "      <td>0.5</td>\n",
       "      <td>85.0</td>\n",
       "      <td>both</td>\n",
       "    </tr>\n",
       "    <tr>\n",
       "      <th>431887</th>\n",
       "      <td>CORRECT</td>\n",
       "      <td>C</td>\n",
       "      <td>UC</td>\n",
       "      <td>Credit:Index:CDX:CDXIG</td>\n",
       "      <td>Trade</td>\n",
       "      <td>0.5</td>\n",
       "      <td>85.0</td>\n",
       "      <td>both</td>\n",
       "    </tr>\n",
       "    <tr>\n",
       "      <th>431888</th>\n",
       "      <td>CORRECT</td>\n",
       "      <td>C</td>\n",
       "      <td>UC</td>\n",
       "      <td>Credit:Index:CDX:CDXIG</td>\n",
       "      <td>Trade</td>\n",
       "      <td>0.5</td>\n",
       "      <td>85.0</td>\n",
       "      <td>both</td>\n",
       "    </tr>\n",
       "    <tr>\n",
       "      <th>431889</th>\n",
       "      <td>CORRECT</td>\n",
       "      <td>C</td>\n",
       "      <td>UC</td>\n",
       "      <td>Credit:Index:CDX:CDXIG</td>\n",
       "      <td>Trade</td>\n",
       "      <td>0.5</td>\n",
       "      <td>85.0</td>\n",
       "      <td>both</td>\n",
       "    </tr>\n",
       "    <tr>\n",
       "      <th>431890</th>\n",
       "      <td>CORRECT</td>\n",
       "      <td>C</td>\n",
       "      <td>UC</td>\n",
       "      <td>Credit:Index:CDX:CDXIG</td>\n",
       "      <td>Trade</td>\n",
       "      <td>0.5</td>\n",
       "      <td>85.0</td>\n",
       "      <td>both</td>\n",
       "    </tr>\n",
       "    <tr>\n",
       "      <th>431891</th>\n",
       "      <td>CORRECT</td>\n",
       "      <td>C</td>\n",
       "      <td>UC</td>\n",
       "      <td>Credit:Index:CDX:CDXIG</td>\n",
       "      <td>Trade</td>\n",
       "      <td>0.5</td>\n",
       "      <td>85.0</td>\n",
       "      <td>both</td>\n",
       "    </tr>\n",
       "    <tr>\n",
       "      <th>431892</th>\n",
       "      <td>CORRECT</td>\n",
       "      <td>C</td>\n",
       "      <td>UC</td>\n",
       "      <td>Credit:Index:CDX:CDXIG</td>\n",
       "      <td>Trade</td>\n",
       "      <td>0.5</td>\n",
       "      <td>85.0</td>\n",
       "      <td>both</td>\n",
       "    </tr>\n",
       "    <tr>\n",
       "      <th>431893</th>\n",
       "      <td>CORRECT</td>\n",
       "      <td>C</td>\n",
       "      <td>UC</td>\n",
       "      <td>Credit:Index:CDX:CDXIG</td>\n",
       "      <td>Trade</td>\n",
       "      <td>0.5</td>\n",
       "      <td>85.0</td>\n",
       "      <td>both</td>\n",
       "    </tr>\n",
       "    <tr>\n",
       "      <th>431894</th>\n",
       "      <td>CORRECT</td>\n",
       "      <td>C</td>\n",
       "      <td>UC</td>\n",
       "      <td>Credit:Index:CDX:CDXIG</td>\n",
       "      <td>Trade</td>\n",
       "      <td>0.5</td>\n",
       "      <td>85.0</td>\n",
       "      <td>both</td>\n",
       "    </tr>\n",
       "    <tr>\n",
       "      <th>431895</th>\n",
       "      <td>CORRECT</td>\n",
       "      <td>C</td>\n",
       "      <td>UC</td>\n",
       "      <td>Credit:Index:CDX:CDXIG</td>\n",
       "      <td>Trade</td>\n",
       "      <td>0.5</td>\n",
       "      <td>85.0</td>\n",
       "      <td>both</td>\n",
       "    </tr>\n",
       "    <tr>\n",
       "      <th>431896</th>\n",
       "      <td>CORRECT</td>\n",
       "      <td>C</td>\n",
       "      <td>UC</td>\n",
       "      <td>Credit:Index:CDX:CDXIG</td>\n",
       "      <td>Trade</td>\n",
       "      <td>0.5</td>\n",
       "      <td>85.0</td>\n",
       "      <td>both</td>\n",
       "    </tr>\n",
       "    <tr>\n",
       "      <th>431897</th>\n",
       "      <td>CORRECT</td>\n",
       "      <td>C</td>\n",
       "      <td>UC</td>\n",
       "      <td>Credit:Index:CDX:CDXIG</td>\n",
       "      <td>Trade</td>\n",
       "      <td>0.5</td>\n",
       "      <td>85.0</td>\n",
       "      <td>both</td>\n",
       "    </tr>\n",
       "    <tr>\n",
       "      <th>431898</th>\n",
       "      <td>CORRECT</td>\n",
       "      <td>C</td>\n",
       "      <td>UC</td>\n",
       "      <td>Credit:Index:CDX:CDXIG</td>\n",
       "      <td>Trade</td>\n",
       "      <td>0.5</td>\n",
       "      <td>85.0</td>\n",
       "      <td>both</td>\n",
       "    </tr>\n",
       "    <tr>\n",
       "      <th>431899</th>\n",
       "      <td>CORRECT</td>\n",
       "      <td>C</td>\n",
       "      <td>UC</td>\n",
       "      <td>Credit:Index:CDX:CDXIG</td>\n",
       "      <td>Trade</td>\n",
       "      <td>0.5</td>\n",
       "      <td>85.0</td>\n",
       "      <td>both</td>\n",
       "    </tr>\n",
       "    <tr>\n",
       "      <th>719187</th>\n",
       "      <td>NEW</td>\n",
       "      <td>C</td>\n",
       "      <td>PC</td>\n",
       "      <td>Credit:Index:CDX:CDXIG</td>\n",
       "      <td>Trade</td>\n",
       "      <td>0.5</td>\n",
       "      <td>15.0</td>\n",
       "      <td>both</td>\n",
       "    </tr>\n",
       "    <tr>\n",
       "      <th>719188</th>\n",
       "      <td>NEW</td>\n",
       "      <td>C</td>\n",
       "      <td>PC</td>\n",
       "      <td>Credit:Index:CDX:CDXIG</td>\n",
       "      <td>Trade</td>\n",
       "      <td>0.5</td>\n",
       "      <td>15.0</td>\n",
       "      <td>both</td>\n",
       "    </tr>\n",
       "  </tbody>\n",
       "</table>\n",
       "<p>3947 rows × 8 columns</p>\n",
       "</div>"
      ],
      "text/plain": [
       "         ACTION CLEARED INDICATION_OF_COLLATERALIZATION  \\\n",
       "427955  CORRECT       C                              UC   \n",
       "427956  CORRECT       C                              UC   \n",
       "427957  CORRECT       C                              UC   \n",
       "427958  CORRECT       C                              UC   \n",
       "427959  CORRECT       C                              UC   \n",
       "427960  CORRECT       C                              UC   \n",
       "427961  CORRECT       C                              UC   \n",
       "427962  CORRECT       C                              UC   \n",
       "427963  CORRECT       C                              UC   \n",
       "427964  CORRECT       C                              UC   \n",
       "427965  CORRECT       C                              UC   \n",
       "427966  CORRECT       C                              UC   \n",
       "427967  CORRECT       C                              UC   \n",
       "427968  CORRECT       C                              UC   \n",
       "427969  CORRECT       C                              UC   \n",
       "427970  CORRECT       C                              UC   \n",
       "427971  CORRECT       C                              UC   \n",
       "427972  CORRECT       C                              UC   \n",
       "427973  CORRECT       C                              UC   \n",
       "427974  CORRECT       C                              UC   \n",
       "427975  CORRECT       C                              UC   \n",
       "427976  CORRECT       C                              UC   \n",
       "427977  CORRECT       C                              UC   \n",
       "427978  CORRECT       C                              UC   \n",
       "427979  CORRECT       C                              UC   \n",
       "427980  CORRECT       C                              UC   \n",
       "427981  CORRECT       C                              UC   \n",
       "427982  CORRECT       C                              UC   \n",
       "427983  CORRECT       C                              UC   \n",
       "427984  CORRECT       C                              UC   \n",
       "...         ...     ...                             ...   \n",
       "431872  CORRECT       C                              UC   \n",
       "431873  CORRECT       C                              UC   \n",
       "431874  CORRECT       C                              UC   \n",
       "431875  CORRECT       C                              UC   \n",
       "431876  CORRECT       C                              UC   \n",
       "431877  CORRECT       C                              UC   \n",
       "431878  CORRECT       C                              UC   \n",
       "431879  CORRECT       C                              UC   \n",
       "431880  CORRECT       C                              UC   \n",
       "431881  CORRECT       C                              UC   \n",
       "431882  CORRECT       C                              UC   \n",
       "431883  CORRECT       C                              UC   \n",
       "431884  CORRECT       C                              UC   \n",
       "431885  CORRECT       C                              UC   \n",
       "431886  CORRECT       C                              UC   \n",
       "431887  CORRECT       C                              UC   \n",
       "431888  CORRECT       C                              UC   \n",
       "431889  CORRECT       C                              UC   \n",
       "431890  CORRECT       C                              UC   \n",
       "431891  CORRECT       C                              UC   \n",
       "431892  CORRECT       C                              UC   \n",
       "431893  CORRECT       C                              UC   \n",
       "431894  CORRECT       C                              UC   \n",
       "431895  CORRECT       C                              UC   \n",
       "431896  CORRECT       C                              UC   \n",
       "431897  CORRECT       C                              UC   \n",
       "431898  CORRECT       C                              UC   \n",
       "431899  CORRECT       C                              UC   \n",
       "719187      NEW       C                              PC   \n",
       "719188      NEW       C                              PC   \n",
       "\n",
       "                      TAXONOMY PRICE_FORMING_CONTINUATION_DATA  \\\n",
       "427955  Credit:Index:CDX:CDXIG                           Trade   \n",
       "427956  Credit:Index:CDX:CDXIG                           Trade   \n",
       "427957  Credit:Index:CDX:CDXIG                           Trade   \n",
       "427958  Credit:Index:CDX:CDXIG                           Trade   \n",
       "427959  Credit:Index:CDX:CDXIG                           Trade   \n",
       "427960  Credit:Index:CDX:CDXIG                           Trade   \n",
       "427961  Credit:Index:CDX:CDXIG                           Trade   \n",
       "427962  Credit:Index:CDX:CDXIG                           Trade   \n",
       "427963  Credit:Index:CDX:CDXIG                           Trade   \n",
       "427964  Credit:Index:CDX:CDXIG                           Trade   \n",
       "427965  Credit:Index:CDX:CDXIG                           Trade   \n",
       "427966  Credit:Index:CDX:CDXIG                           Trade   \n",
       "427967  Credit:Index:CDX:CDXIG                           Trade   \n",
       "427968  Credit:Index:CDX:CDXIG                           Trade   \n",
       "427969  Credit:Index:CDX:CDXIG                           Trade   \n",
       "427970  Credit:Index:CDX:CDXIG                           Trade   \n",
       "427971  Credit:Index:CDX:CDXIG                           Trade   \n",
       "427972  Credit:Index:CDX:CDXIG                           Trade   \n",
       "427973  Credit:Index:CDX:CDXIG                           Trade   \n",
       "427974  Credit:Index:CDX:CDXIG                           Trade   \n",
       "427975  Credit:Index:CDX:CDXIG                           Trade   \n",
       "427976  Credit:Index:CDX:CDXIG                           Trade   \n",
       "427977  Credit:Index:CDX:CDXIG                           Trade   \n",
       "427978  Credit:Index:CDX:CDXIG                           Trade   \n",
       "427979  Credit:Index:CDX:CDXIG                           Trade   \n",
       "427980  Credit:Index:CDX:CDXIG                           Trade   \n",
       "427981  Credit:Index:CDX:CDXIG                           Trade   \n",
       "427982  Credit:Index:CDX:CDXIG                           Trade   \n",
       "427983  Credit:Index:CDX:CDXIG                           Trade   \n",
       "427984  Credit:Index:CDX:CDXIG                           Trade   \n",
       "...                        ...                             ...   \n",
       "431872  Credit:Index:CDX:CDXIG                           Trade   \n",
       "431873  Credit:Index:CDX:CDXIG                           Trade   \n",
       "431874  Credit:Index:CDX:CDXIG                           Trade   \n",
       "431875  Credit:Index:CDX:CDXIG                           Trade   \n",
       "431876  Credit:Index:CDX:CDXIG                           Trade   \n",
       "431877  Credit:Index:CDX:CDXIG                           Trade   \n",
       "431878  Credit:Index:CDX:CDXIG                           Trade   \n",
       "431879  Credit:Index:CDX:CDXIG                           Trade   \n",
       "431880  Credit:Index:CDX:CDXIG                           Trade   \n",
       "431881  Credit:Index:CDX:CDXIG                           Trade   \n",
       "431882  Credit:Index:CDX:CDXIG                           Trade   \n",
       "431883  Credit:Index:CDX:CDXIG                           Trade   \n",
       "431884  Credit:Index:CDX:CDXIG                           Trade   \n",
       "431885  Credit:Index:CDX:CDXIG                           Trade   \n",
       "431886  Credit:Index:CDX:CDXIG                           Trade   \n",
       "431887  Credit:Index:CDX:CDXIG                           Trade   \n",
       "431888  Credit:Index:CDX:CDXIG                           Trade   \n",
       "431889  Credit:Index:CDX:CDXIG                           Trade   \n",
       "431890  Credit:Index:CDX:CDXIG                           Trade   \n",
       "431891  Credit:Index:CDX:CDXIG                           Trade   \n",
       "431892  Credit:Index:CDX:CDXIG                           Trade   \n",
       "431893  Credit:Index:CDX:CDXIG                           Trade   \n",
       "431894  Credit:Index:CDX:CDXIG                           Trade   \n",
       "431895  Credit:Index:CDX:CDXIG                           Trade   \n",
       "431896  Credit:Index:CDX:CDXIG                           Trade   \n",
       "431897  Credit:Index:CDX:CDXIG                           Trade   \n",
       "431898  Credit:Index:CDX:CDXIG                           Trade   \n",
       "431899  Credit:Index:CDX:CDXIG                           Trade   \n",
       "719187  Credit:Index:CDX:CDXIG                           Trade   \n",
       "719188  Credit:Index:CDX:CDXIG                           Trade   \n",
       "\n",
       "        PRICE_NOTATION  ROUNDED_NOTIONAL_AMOUNT_1 _merge  \n",
       "427955             0.5                       85.0   both  \n",
       "427956             0.5                       85.0   both  \n",
       "427957             0.5                       85.0   both  \n",
       "427958             0.5                       85.0   both  \n",
       "427959             0.5                       85.0   both  \n",
       "427960             0.5                       85.0   both  \n",
       "427961             0.5                       85.0   both  \n",
       "427962             0.5                       85.0   both  \n",
       "427963             0.5                       85.0   both  \n",
       "427964             0.5                       85.0   both  \n",
       "427965             0.5                       85.0   both  \n",
       "427966             0.5                       85.0   both  \n",
       "427967             0.5                       85.0   both  \n",
       "427968             0.5                       85.0   both  \n",
       "427969             0.5                       85.0   both  \n",
       "427970             0.5                       85.0   both  \n",
       "427971             0.5                       85.0   both  \n",
       "427972             0.5                       85.0   both  \n",
       "427973             0.5                       85.0   both  \n",
       "427974             0.5                       85.0   both  \n",
       "427975             0.5                       85.0   both  \n",
       "427976             0.5                       85.0   both  \n",
       "427977             0.5                       85.0   both  \n",
       "427978             0.5                       85.0   both  \n",
       "427979             0.5                       85.0   both  \n",
       "427980             0.5                       85.0   both  \n",
       "427981             0.5                       85.0   both  \n",
       "427982             0.5                       85.0   both  \n",
       "427983             0.5                       85.0   both  \n",
       "427984             0.5                       85.0   both  \n",
       "...                ...                        ...    ...  \n",
       "431872             0.5                       85.0   both  \n",
       "431873             0.5                       85.0   both  \n",
       "431874             0.5                       85.0   both  \n",
       "431875             0.5                       85.0   both  \n",
       "431876             0.5                       85.0   both  \n",
       "431877             0.5                       85.0   both  \n",
       "431878             0.5                       85.0   both  \n",
       "431879             0.5                       85.0   both  \n",
       "431880             0.5                       85.0   both  \n",
       "431881             0.5                       85.0   both  \n",
       "431882             0.5                       85.0   both  \n",
       "431883             0.5                       85.0   both  \n",
       "431884             0.5                       85.0   both  \n",
       "431885             0.5                       85.0   both  \n",
       "431886             0.5                       85.0   both  \n",
       "431887             0.5                       85.0   both  \n",
       "431888             0.5                       85.0   both  \n",
       "431889             0.5                       85.0   both  \n",
       "431890             0.5                       85.0   both  \n",
       "431891             0.5                       85.0   both  \n",
       "431892             0.5                       85.0   both  \n",
       "431893             0.5                       85.0   both  \n",
       "431894             0.5                       85.0   both  \n",
       "431895             0.5                       85.0   both  \n",
       "431896             0.5                       85.0   both  \n",
       "431897             0.5                       85.0   both  \n",
       "431898             0.5                       85.0   both  \n",
       "431899             0.5                       85.0   both  \n",
       "719187             0.5                       15.0   both  \n",
       "719188             0.5                       15.0   both  \n",
       "\n",
       "[3947 rows x 8 columns]"
      ]
     },
     "execution_count": 16,
     "metadata": {},
     "output_type": "execute_result"
    }
   ],
   "source": [
    "merged[merged['_merge'] == 'both']"
   ]
  },
  {
   "cell_type": "code",
   "execution_count": 22,
   "metadata": {},
   "outputs": [
    {
     "data": {
      "text/plain": [
       "3947"
      ]
     },
     "execution_count": 22,
     "metadata": {},
     "output_type": "execute_result"
    }
   ],
   "source": [
    "merged[merged['_merge'] == 'both'].shape[0]"
   ]
  },
  {
   "cell_type": "code",
   "execution_count": 31,
   "metadata": {},
   "outputs": [],
   "source": [
    "sub_data = data[-100000:]"
   ]
  },
  {
   "cell_type": "markdown",
   "metadata": {},
   "source": [
    "# Percentage of generated data"
   ]
  },
  {
   "cell_type": "markdown",
   "metadata": {},
   "source": [
    "## Action"
   ]
  },
  {
   "cell_type": "code",
   "execution_count": 122,
   "metadata": {},
   "outputs": [
    {
     "data": {
      "text/html": [
       "<div>\n",
       "<style scoped>\n",
       "    .dataframe tbody tr th:only-of-type {\n",
       "        vertical-align: middle;\n",
       "    }\n",
       "\n",
       "    .dataframe tbody tr th {\n",
       "        vertical-align: top;\n",
       "    }\n",
       "\n",
       "    .dataframe thead th {\n",
       "        text-align: right;\n",
       "    }\n",
       "</style>\n",
       "<table border=\"1\" class=\"dataframe\">\n",
       "  <thead>\n",
       "    <tr style=\"text-align: right;\">\n",
       "      <th></th>\n",
       "      <th>ACTION</th>\n",
       "      <th>COUNT</th>\n",
       "    </tr>\n",
       "  </thead>\n",
       "  <tbody>\n",
       "    <tr>\n",
       "      <th>0</th>\n",
       "      <td>CANCEL</td>\n",
       "      <td>21462</td>\n",
       "    </tr>\n",
       "    <tr>\n",
       "      <th>1</th>\n",
       "      <td>CORRECT</td>\n",
       "      <td>127373</td>\n",
       "    </tr>\n",
       "    <tr>\n",
       "      <th>2</th>\n",
       "      <td>NEW</td>\n",
       "      <td>570448</td>\n",
       "    </tr>\n",
       "  </tbody>\n",
       "</table>\n",
       "</div>"
      ],
      "text/plain": [
       "    ACTION   COUNT\n",
       "0   CANCEL   21462\n",
       "1  CORRECT  127373\n",
       "2      NEW  570448"
      ]
     },
     "execution_count": 122,
     "metadata": {},
     "output_type": "execute_result"
    }
   ],
   "source": [
    "# New\n",
    "new_action = data.groupby('ACTION')['ACTION'].count().rename('COUNT').reset_index()\n",
    "new_action"
   ]
  },
  {
   "cell_type": "code",
   "execution_count": 159,
   "metadata": {},
   "outputs": [
    {
     "data": {
      "text/html": [
       "<div>\n",
       "<style scoped>\n",
       "    .dataframe tbody tr th:only-of-type {\n",
       "        vertical-align: middle;\n",
       "    }\n",
       "\n",
       "    .dataframe tbody tr th {\n",
       "        vertical-align: top;\n",
       "    }\n",
       "\n",
       "    .dataframe thead th {\n",
       "        text-align: right;\n",
       "    }\n",
       "</style>\n",
       "<table border=\"1\" class=\"dataframe\">\n",
       "  <thead>\n",
       "    <tr style=\"text-align: right;\">\n",
       "      <th></th>\n",
       "      <th>ACTION</th>\n",
       "      <th>COUNT</th>\n",
       "    </tr>\n",
       "  </thead>\n",
       "  <tbody>\n",
       "    <tr>\n",
       "      <th>0</th>\n",
       "      <td>CANCEL</td>\n",
       "      <td>2944</td>\n",
       "    </tr>\n",
       "    <tr>\n",
       "      <th>1</th>\n",
       "      <td>CORRECT</td>\n",
       "      <td>17892</td>\n",
       "    </tr>\n",
       "    <tr>\n",
       "      <th>2</th>\n",
       "      <td>NEW</td>\n",
       "      <td>79164</td>\n",
       "    </tr>\n",
       "  </tbody>\n",
       "</table>\n",
       "</div>"
      ],
      "text/plain": [
       "    ACTION  COUNT\n",
       "0   CANCEL   2944\n",
       "1  CORRECT  17892\n",
       "2      NEW  79164"
      ]
     },
     "execution_count": 159,
     "metadata": {},
     "output_type": "execute_result"
    }
   ],
   "source": [
    "sub_action = sub_data.groupby('ACTION')['ACTION'].count().rename('COUNT').reset_index()\n",
    "sub_action"
   ]
  },
  {
   "cell_type": "code",
   "execution_count": 123,
   "metadata": {},
   "outputs": [
    {
     "data": {
      "text/html": [
       "<div>\n",
       "<style scoped>\n",
       "    .dataframe tbody tr th:only-of-type {\n",
       "        vertical-align: middle;\n",
       "    }\n",
       "\n",
       "    .dataframe tbody tr th {\n",
       "        vertical-align: top;\n",
       "    }\n",
       "\n",
       "    .dataframe thead th {\n",
       "        text-align: right;\n",
       "    }\n",
       "</style>\n",
       "<table border=\"1\" class=\"dataframe\">\n",
       "  <thead>\n",
       "    <tr style=\"text-align: right;\">\n",
       "      <th></th>\n",
       "      <th>ACTION</th>\n",
       "      <th>COUNT</th>\n",
       "    </tr>\n",
       "  </thead>\n",
       "  <tbody>\n",
       "    <tr>\n",
       "      <th>0</th>\n",
       "      <td>CANCEL</td>\n",
       "      <td>35</td>\n",
       "    </tr>\n",
       "    <tr>\n",
       "      <th>1</th>\n",
       "      <td>CORRECT</td>\n",
       "      <td>2997</td>\n",
       "    </tr>\n",
       "    <tr>\n",
       "      <th>2</th>\n",
       "      <td>NEW</td>\n",
       "      <td>8904</td>\n",
       "    </tr>\n",
       "  </tbody>\n",
       "</table>\n",
       "</div>"
      ],
      "text/plain": [
       "    ACTION  COUNT\n",
       "0   CANCEL     35\n",
       "1  CORRECT   2997\n",
       "2      NEW   8904"
      ]
     },
     "execution_count": 123,
     "metadata": {},
     "output_type": "execute_result"
    }
   ],
   "source": [
    "# Original\n",
    "original_action = original.groupby('ACTION')['ACTION'].count().rename('COUNT').reset_index()\n",
    "original_action"
   ]
  },
  {
   "cell_type": "code",
   "execution_count": 172,
   "metadata": {},
   "outputs": [],
   "source": [
    "def plot_pie(label_0, label_1, label_2, size_0, size_1, size_2, explode):\n",
    "    \n",
    "    fig, ax = plt.subplots(nrows = 1, ncols = 3, figsize = (15,5))\n",
    "    ax[0].pie(size_0, explode = explode, labels=label_0, autopct='%1.1f%%',\n",
    "            shadow=True, startangle=90)\n",
    "    ax[0].axis('equal')  # Equal aspect ratio ensures that pie is drawn as a circle.\n",
    "    ax[0].set_title('Sub_data')\n",
    "    ax[1].pie(size_1, explode=explode, labels=label_1, autopct='%1.1f%%',\n",
    "            shadow=True, startangle=90)\n",
    "    ax[1].axis('equal')  # Equal aspect ratio ensures that pie is drawn as a circle.\n",
    "    ax[1].set_title('New_data')\n",
    "    ax[2].pie(size_2, explode=explode, labels=label_2, autopct='%1.1f%%',\n",
    "            shadow=True, startangle=90)\n",
    "    ax[2].axis('equal')  # Equal aspect ratio ensures that pie is drawn as a circle.\n",
    "    ax[2].set_title('Original_data')\n",
    "    plt.show()"
   ]
  },
  {
   "cell_type": "code",
   "execution_count": 173,
   "metadata": {},
   "outputs": [
    {
     "data": {
      "image/png": "[encoded data removed]",
      "text/plain": [
       "<Figure size 1080x360 with 3 Axes>"
      ]
     },
     "metadata": {},
     "output_type": "display_data"
    }
   ],
   "source": [
    "label_0 = sub_action['ACTION']\n",
    "size_0 = sub_action['COUNT']\n",
    "label_1 = new_action['ACTION']\n",
    "size_1 = new_action['COUNT']\n",
    "label_2 = original_action['ACTION']\n",
    "size_2 = original_action['COUNT']\n",
    "explode = (0.1, 0, 0) # only \"explode\" the 1st slice (i.e. cancel)\n",
    "plot_pie(label_0, label_1, label_2, size_0, size_1, size_2, explode)"
   ]
  },
  {
   "cell_type": "markdown",
   "metadata": {},
   "source": [
    "## Cleared"
   ]
  },
  {
   "cell_type": "code",
   "execution_count": 126,
   "metadata": {},
   "outputs": [
    {
     "data": {
      "text/html": [
       "<div>\n",
       "<style scoped>\n",
       "    .dataframe tbody tr th:only-of-type {\n",
       "        vertical-align: middle;\n",
       "    }\n",
       "\n",
       "    .dataframe tbody tr th {\n",
       "        vertical-align: top;\n",
       "    }\n",
       "\n",
       "    .dataframe thead th {\n",
       "        text-align: right;\n",
       "    }\n",
       "</style>\n",
       "<table border=\"1\" class=\"dataframe\">\n",
       "  <thead>\n",
       "    <tr style=\"text-align: right;\">\n",
       "      <th></th>\n",
       "      <th>CLEARED</th>\n",
       "      <th>COUNT</th>\n",
       "    </tr>\n",
       "  </thead>\n",
       "  <tbody>\n",
       "    <tr>\n",
       "      <th>0</th>\n",
       "      <td>C</td>\n",
       "      <td>153442</td>\n",
       "    </tr>\n",
       "    <tr>\n",
       "      <th>1</th>\n",
       "      <td>U</td>\n",
       "      <td>565841</td>\n",
       "    </tr>\n",
       "  </tbody>\n",
       "</table>\n",
       "</div>"
      ],
      "text/plain": [
       "  CLEARED   COUNT\n",
       "0       C  153442\n",
       "1       U  565841"
      ]
     },
     "execution_count": 126,
     "metadata": {},
     "output_type": "execute_result"
    }
   ],
   "source": [
    "# New\n",
    "new_clear = data.groupby('CLEARED')['CLEARED'].count().rename('COUNT').reset_index()\n",
    "new_clear"
   ]
  },
  {
   "cell_type": "code",
   "execution_count": 166,
   "metadata": {},
   "outputs": [
    {
     "data": {
      "text/html": [
       "<div>\n",
       "<style scoped>\n",
       "    .dataframe tbody tr th:only-of-type {\n",
       "        vertical-align: middle;\n",
       "    }\n",
       "\n",
       "    .dataframe tbody tr th {\n",
       "        vertical-align: top;\n",
       "    }\n",
       "\n",
       "    .dataframe thead th {\n",
       "        text-align: right;\n",
       "    }\n",
       "</style>\n",
       "<table border=\"1\" class=\"dataframe\">\n",
       "  <thead>\n",
       "    <tr style=\"text-align: right;\">\n",
       "      <th></th>\n",
       "      <th>CLEARED</th>\n",
       "      <th>COUNT</th>\n",
       "    </tr>\n",
       "  </thead>\n",
       "  <tbody>\n",
       "    <tr>\n",
       "      <th>0</th>\n",
       "      <td>C</td>\n",
       "      <td>21088</td>\n",
       "    </tr>\n",
       "    <tr>\n",
       "      <th>1</th>\n",
       "      <td>U</td>\n",
       "      <td>78912</td>\n",
       "    </tr>\n",
       "  </tbody>\n",
       "</table>\n",
       "</div>"
      ],
      "text/plain": [
       "  CLEARED  COUNT\n",
       "0       C  21088\n",
       "1       U  78912"
      ]
     },
     "execution_count": 166,
     "metadata": {},
     "output_type": "execute_result"
    }
   ],
   "source": [
    "# sub data\n",
    "sub_cleared = sub_data.groupby('CLEARED')['CLEARED'].count().rename('COUNT').reset_index()\n",
    "sub_cleared"
   ]
  },
  {
   "cell_type": "code",
   "execution_count": 127,
   "metadata": {},
   "outputs": [
    {
     "data": {
      "text/html": [
       "<div>\n",
       "<style scoped>\n",
       "    .dataframe tbody tr th:only-of-type {\n",
       "        vertical-align: middle;\n",
       "    }\n",
       "\n",
       "    .dataframe tbody tr th {\n",
       "        vertical-align: top;\n",
       "    }\n",
       "\n",
       "    .dataframe thead th {\n",
       "        text-align: right;\n",
       "    }\n",
       "</style>\n",
       "<table border=\"1\" class=\"dataframe\">\n",
       "  <thead>\n",
       "    <tr style=\"text-align: right;\">\n",
       "      <th></th>\n",
       "      <th>CLEARED</th>\n",
       "      <th>COUNT</th>\n",
       "    </tr>\n",
       "  </thead>\n",
       "  <tbody>\n",
       "    <tr>\n",
       "      <th>0</th>\n",
       "      <td>C</td>\n",
       "      <td>6355</td>\n",
       "    </tr>\n",
       "    <tr>\n",
       "      <th>1</th>\n",
       "      <td>U</td>\n",
       "      <td>5581</td>\n",
       "    </tr>\n",
       "  </tbody>\n",
       "</table>\n",
       "</div>"
      ],
      "text/plain": [
       "  CLEARED  COUNT\n",
       "0       C   6355\n",
       "1       U   5581"
      ]
     },
     "execution_count": 127,
     "metadata": {},
     "output_type": "execute_result"
    }
   ],
   "source": [
    "# Original\n",
    "original_clear = original.groupby('CLEARED')['CLEARED'].count().rename('COUNT').reset_index()\n",
    "original_clear"
   ]
  },
  {
   "cell_type": "code",
   "execution_count": 174,
   "metadata": {},
   "outputs": [
    {
     "data": {
      "image/png": "[encoded data removed]",
      "text/plain": [
       "<Figure size 1080x360 with 3 Axes>"
      ]
     },
     "metadata": {},
     "output_type": "display_data"
    }
   ],
   "source": [
    "# Pie chart, where the slices will be ordered and plotted counter-clockwise:\n",
    "label_0 = sub_cleared['CLEARED']\n",
    "size_0 = sub_cleared['COUNT']\n",
    "label_1 = new_clear['CLEARED']\n",
    "size_1 = new_clear['COUNT']\n",
    "label_2 = original_clear['CLEARED']\n",
    "size_2 = original_clear['COUNT']\n",
    "explode = (0, 0)  # only \"explode\" the 1st slice (i.e. cancel)\n",
    "plot_pie(label_0, label_1, label_2, size_0, size_1, size_2, explode)"
   ]
  },
  {
   "cell_type": "markdown",
   "metadata": {},
   "source": [
    "# Collateralization"
   ]
  },
  {
   "cell_type": "code",
   "execution_count": 169,
   "metadata": {},
   "outputs": [],
   "source": [
    "# New\n",
    "new_collateral = data.groupby('INDICATION_OF_COLLATERALIZATION')['INDICATION_OF_COLLATERALIZATION'].count().rename('COUNT').reset_index()\n",
    "# Original\n",
    "original_collateral = original.groupby('INDICATION_OF_COLLATERALIZATION')['INDICATION_OF_COLLATERALIZATION'].count().rename('COUNT').reset_index()\n",
    "sub_collateral = sub_data.groupby('INDICATION_OF_COLLATERALIZATION')['INDICATION_OF_COLLATERALIZATION'].count().rename('COUNT').reset_index()\n"
   ]
  },
  {
   "cell_type": "code",
   "execution_count": 177,
   "metadata": {},
   "outputs": [
    {
     "data": {
      "image/png": "[encoded data removed]",
      "text/plain": [
       "<Figure size 1080x360 with 3 Axes>"
      ]
     },
     "metadata": {},
     "output_type": "display_data"
    }
   ],
   "source": [
    "# Pie chart, where the slices will be ordered and plotted counter-clockwise:\n",
    "label_0 = sub_collateral['INDICATION_OF_COLLATERALIZATION']\n",
    "size_0 = sub_collateral['COUNT']\n",
    "label_1 = new_collateral['INDICATION_OF_COLLATERALIZATION']\n",
    "size_1 = new_collateral['COUNT']\n",
    "label_2 = original_collateral['INDICATION_OF_COLLATERALIZATION']\n",
    "size_2 = original_collateral['COUNT']\n",
    "explode = (0, 0.1, 0, 0) \n",
    "plot_pie(label_0, label_1, label_2, size_0, size_1, size_2, explode)"
   ]
  },
  {
   "cell_type": "markdown",
   "metadata": {},
   "source": [
    "# Taxonomy"
   ]
  },
  {
   "cell_type": "code",
   "execution_count": 178,
   "metadata": {},
   "outputs": [],
   "source": [
    "# New\n",
    "new_taxonomy = data.groupby('TAXONOMY')['TAXONOMY'].count().rename('COUNT').reset_index()\n",
    "# Original\n",
    "original_taxonomy = original.groupby('TAXONOMY')['TAXONOMY'].count().rename('COUNT').reset_index()\n",
    "sub_taxonomy = sub_data.groupby('TAXONOMY')['TAXONOMY'].count().rename('COUNT').reset_index()"
   ]
  },
  {
   "cell_type": "code",
   "execution_count": 179,
   "metadata": {},
   "outputs": [
    {
     "data": {
      "image/png": "[encoded data removed]",
      "text/plain": [
       "<Figure size 1080x360 with 3 Axes>"
      ]
     },
     "metadata": {},
     "output_type": "display_data"
    }
   ],
   "source": [
    "label_0 = sub_taxonomy['TAXONOMY']\n",
    "size_0 = sub_taxonomy['COUNT']\n",
    "label_1 = new_taxonomy['TAXONOMY']\n",
    "size_1 = new_taxonomy['COUNT']\n",
    "label_2 = original_taxonomy['TAXONOMY']\n",
    "size_2 = original_taxonomy['COUNT']\n",
    "explode = (0, 0) \n",
    "plot_pie(label_0, label_1, label_2, size_0, size_1, size_2, explode)"
   ]
  },
  {
   "cell_type": "markdown",
   "metadata": {},
   "source": [
    "# Price forming continuation data"
   ]
  },
  {
   "cell_type": "code",
   "execution_count": 182,
   "metadata": {},
   "outputs": [],
   "source": [
    "# New\n",
    "new_form = data.groupby('PRICE_FORMING_CONTINUATION_DATA')['PRICE_FORMING_CONTINUATION_DATA'].count().rename('COUNT').reset_index()\n",
    "# Original\n",
    "original_form = original.groupby('PRICE_FORMING_CONTINUATION_DATA')['PRICE_FORMING_CONTINUATION_DATA'].count().rename('COUNT').reset_index()\n",
    "# Subdata\n",
    "sub_form = sub_data.groupby('PRICE_FORMING_CONTINUATION_DATA')['PRICE_FORMING_CONTINUATION_DATA'].count().rename('COUNT').reset_index()\n"
   ]
  },
  {
   "cell_type": "code",
   "execution_count": 183,
   "metadata": {},
   "outputs": [
    {
     "data": {
      "image/png": "[encoded data removed]",
      "text/plain": [
       "<Figure size 1080x360 with 3 Axes>"
      ]
     },
     "metadata": {},
     "output_type": "display_data"
    }
   ],
   "source": [
    "label_0 = sub_form['PRICE_FORMING_CONTINUATION_DATA']\n",
    "size_0 = sub_form['COUNT']\n",
    "label_1 = new_form['PRICE_FORMING_CONTINUATION_DATA']\n",
    "size_1 = new_form['COUNT']\n",
    "label_2 = original_form['PRICE_FORMING_CONTINUATION_DATA']\n",
    "size_2 = original_form['COUNT']\n",
    "explode = (0,0,0.1,0)\n",
    "plot_pie(label_0, label_1, label_2, size_0, size_1, size_2, explode)"
   ]
  },
  {
   "cell_type": "markdown",
   "metadata": {},
   "source": [
    "# Price and amount distrbution"
   ]
  },
  {
   "cell_type": "code",
   "execution_count": 136,
   "metadata": {},
   "outputs": [],
   "source": [
    "def plot_distribution(label_1, label_2, size_1, size_2, explode_1, explode_2):\n",
    "    \n",
    "    fig, ax = plt.subplots(nrows = 1, ncols = 2, figsize = (10,5))\n",
    "    ax[0].hist(size_1, explode=explode_1, labels=label_1, autopct='%1.1f%%',\n",
    "            shadow=True, startangle=90)\n",
    "    ax[0].set_title('New')  # Equal aspect ratio ensures that pie is drawn as a circle.\n",
    "\n",
    "    ax[1].pie(size_2, explode=explode_2, labels=label_2, autopct='%1.1f%%',\n",
    "            shadow=True, startangle=90)\n",
    "    ax[1].set_title('original')  # Equal aspect ratio ensures that pie is drawn as a circle.\n",
    "    plt.show()"
   ]
  },
  {
   "cell_type": "code",
   "execution_count": 137,
   "metadata": {},
   "outputs": [
    {
     "data": {
      "text/plain": [
       "<matplotlib.axes._subplots.AxesSubplot at 0x1219af588>"
      ]
     },
     "execution_count": 137,
     "metadata": {},
     "output_type": "execute_result"
    },
    {
     "data": {
      "image/png": "[encoded data removed]",
      "text/plain": [
       "<Figure size 432x288 with 1 Axes>"
      ]
     },
     "metadata": {
      "needs_background": "light"
     },
     "output_type": "display_data"
    }
   ],
   "source": [
    "data['PRICE_NOTATION'].hist()"
   ]
  },
  {
   "cell_type": "code",
   "execution_count": 138,
   "metadata": {},
   "outputs": [
    {
     "data": {
      "text/plain": [
       "<matplotlib.axes._subplots.AxesSubplot at 0x12097af28>"
      ]
     },
     "execution_count": 138,
     "metadata": {},
     "output_type": "execute_result"
    },
    {
     "data": {
      "image/png": "[encoded data removed]",
      "text/plain": [
       "<Figure size 432x288 with 1 Axes>"
      ]
     },
     "metadata": {
      "needs_background": "light"
     },
     "output_type": "display_data"
    }
   ],
   "source": [
    "data[data['PRICE_NOTATION']<10]['PRICE_NOTATION'].hist()"
   ]
  },
  {
   "cell_type": "code",
   "execution_count": 139,
   "metadata": {},
   "outputs": [
    {
     "data": {
      "text/plain": [
       "<matplotlib.axes._subplots.AxesSubplot at 0x1209f0f98>"
      ]
     },
     "execution_count": 139,
     "metadata": {},
     "output_type": "execute_result"
    },
    {
     "data": {
      "image/png": "[encoded data removed]",
      "text/plain": [
       "<Figure size 432x288 with 1 Axes>"
      ]
     },
     "metadata": {
      "needs_background": "light"
     },
     "output_type": "display_data"
    }
   ],
   "source": [
    "original['PRICE_NOTATION'].hist()"
   ]
  },
  {
   "cell_type": "code",
   "execution_count": 140,
   "metadata": {},
   "outputs": [
    {
     "data": {
      "text/plain": [
       "<matplotlib.axes._subplots.AxesSubplot at 0x120991b70>"
      ]
     },
     "execution_count": 140,
     "metadata": {},
     "output_type": "execute_result"
    },
    {
     "data": {
      "image/png": "[encoded data removed]",
      "text/plain": [
       "<Figure size 432x288 with 1 Axes>"
      ]
     },
     "metadata": {
      "needs_background": "light"
     },
     "output_type": "display_data"
    }
   ],
   "source": [
    "original[original['PRICE_NOTATION']<10]['PRICE_NOTATION'].hist()"
   ]
  },
  {
   "cell_type": "code",
   "execution_count": 141,
   "metadata": {},
   "outputs": [
    {
     "data": {
      "text/plain": [
       "<matplotlib.axes._subplots.AxesSubplot at 0x120472320>"
      ]
     },
     "execution_count": 141,
     "metadata": {},
     "output_type": "execute_result"
    },
    {
     "data": {
      "image/png": "[encoded data removed]",
      "text/plain": [
       "<Figure size 432x288 with 1 Axes>"
      ]
     },
     "metadata": {
      "needs_background": "light"
     },
     "output_type": "display_data"
    }
   ],
   "source": [
    "data['ROUNDED_NOTIONAL_AMOUNT_1'].hist()"
   ]
  },
  {
   "cell_type": "code",
   "execution_count": 142,
   "metadata": {},
   "outputs": [
    {
     "data": {
      "text/plain": [
       "<matplotlib.axes._subplots.AxesSubplot at 0x11fd06f60>"
      ]
     },
     "execution_count": 142,
     "metadata": {},
     "output_type": "execute_result"
    },
    {
     "data": {
      "image/png": "[encoded data removed]",
      "text/plain": [
       "<Figure size 432x288 with 1 Axes>"
      ]
     },
     "metadata": {
      "needs_background": "light"
     },
     "output_type": "display_data"
    }
   ],
   "source": [
    "original['ROUNDED_NOTIONAL_AMOUNT_1'].hist()"
   ]
  },
  {
   "cell_type": "markdown",
   "metadata": {},
   "source": [
    "# EDA_Correlation"
   ]
  },
  {
   "cell_type": "code",
   "execution_count": 28,
   "metadata": {},
   "outputs": [
    {
     "data": {
      "text/plain": [
       "719283"
      ]
     },
     "execution_count": 28,
     "metadata": {},
     "output_type": "execute_result"
    }
   ],
   "source": [
    "data.shape[0]"
   ]
  },
  {
   "cell_type": "code",
   "execution_count": 32,
   "metadata": {},
   "outputs": [
    {
     "data": {
      "text/html": [
       "<div>\n",
       "<style scoped>\n",
       "    .dataframe tbody tr th:only-of-type {\n",
       "        vertical-align: middle;\n",
       "    }\n",
       "\n",
       "    .dataframe tbody tr th {\n",
       "        vertical-align: top;\n",
       "    }\n",
       "\n",
       "    .dataframe thead th {\n",
       "        text-align: right;\n",
       "    }\n",
       "</style>\n",
       "<table border=\"1\" class=\"dataframe\">\n",
       "  <thead>\n",
       "    <tr style=\"text-align: right;\">\n",
       "      <th></th>\n",
       "      <th>ACTION</th>\n",
       "      <th>CLEARED</th>\n",
       "      <th>INDICATION_OF_COLLATERALIZATION</th>\n",
       "      <th>TAXONOMY</th>\n",
       "      <th>PRICE_FORMING_CONTINUATION_DATA</th>\n",
       "      <th>PRICE_NOTATION</th>\n",
       "      <th>ROUNDED_NOTIONAL_AMOUNT_1</th>\n",
       "    </tr>\n",
       "  </thead>\n",
       "  <tbody>\n",
       "    <tr>\n",
       "      <th>0</th>\n",
       "      <td>NEW</td>\n",
       "      <td>U</td>\n",
       "      <td>UC</td>\n",
       "      <td>IG</td>\n",
       "      <td>Novation</td>\n",
       "      <td>0.5</td>\n",
       "      <td>95.0</td>\n",
       "    </tr>\n",
       "    <tr>\n",
       "      <th>1</th>\n",
       "      <td>NEW</td>\n",
       "      <td>U</td>\n",
       "      <td>PC</td>\n",
       "      <td>IG</td>\n",
       "      <td>Partialtermination</td>\n",
       "      <td>75.0</td>\n",
       "      <td>3.5</td>\n",
       "    </tr>\n",
       "    <tr>\n",
       "      <th>2</th>\n",
       "      <td>NEW</td>\n",
       "      <td>U</td>\n",
       "      <td>PC</td>\n",
       "      <td>IG</td>\n",
       "      <td>Novation</td>\n",
       "      <td>0.5</td>\n",
       "      <td>7.5</td>\n",
       "    </tr>\n",
       "    <tr>\n",
       "      <th>3</th>\n",
       "      <td>NEW</td>\n",
       "      <td>U</td>\n",
       "      <td>UC</td>\n",
       "      <td>IG</td>\n",
       "      <td>Novation</td>\n",
       "      <td>0.5</td>\n",
       "      <td>65.0</td>\n",
       "    </tr>\n",
       "    <tr>\n",
       "      <th>4</th>\n",
       "      <td>NEW</td>\n",
       "      <td>U</td>\n",
       "      <td>PC</td>\n",
       "      <td>IG</td>\n",
       "      <td>Partialtermination</td>\n",
       "      <td>75.0</td>\n",
       "      <td>3.5</td>\n",
       "    </tr>\n",
       "  </tbody>\n",
       "</table>\n",
       "</div>"
      ],
      "text/plain": [
       "  ACTION CLEARED INDICATION_OF_COLLATERALIZATION TAXONOMY  \\\n",
       "0    NEW       U                              UC       IG   \n",
       "1    NEW       U                              PC       IG   \n",
       "2    NEW       U                              PC       IG   \n",
       "3    NEW       U                              UC       IG   \n",
       "4    NEW       U                              PC       IG   \n",
       "\n",
       "  PRICE_FORMING_CONTINUATION_DATA  PRICE_NOTATION  ROUNDED_NOTIONAL_AMOUNT_1  \n",
       "0                        Novation             0.5                       95.0  \n",
       "1              Partialtermination            75.0                        3.5  \n",
       "2                        Novation             0.5                        7.5  \n",
       "3                        Novation             0.5                       65.0  \n",
       "4              Partialtermination            75.0                        3.5  "
      ]
     },
     "execution_count": 32,
     "metadata": {},
     "output_type": "execute_result"
    }
   ],
   "source": [
    "data.replace({\"Credit:Index:CDX:CDXIG\":\"IG\",\"Credit:Index:CDX:CDXHY\":'HY'},inplace = True)\n",
    "data.head()"
   ]
  },
  {
   "cell_type": "code",
   "execution_count": 9,
   "metadata": {},
   "outputs": [
    {
     "data": {
      "text/plain": [
       "Unnamed: 0                           int64\n",
       "ACTION                              object\n",
       "CLEARED                             object\n",
       "INDICATION_OF_COLLATERALIZATION     object\n",
       "TAXONOMY                            object\n",
       "PRICE_FORMING_CONTINUATION_DATA     object\n",
       "PRICE_NOTATION                     float64\n",
       "ROUNDED_NOTIONAL_AMOUNT_1          float64\n",
       "dtype: object"
      ]
     },
     "execution_count": 9,
     "metadata": {},
     "output_type": "execute_result"
    }
   ],
   "source": [
    "data.dtypes"
   ]
  },
  {
   "cell_type": "code",
   "execution_count": 33,
   "metadata": {},
   "outputs": [
    {
     "data": {
      "text/plain": [
       "ACTION                             category\n",
       "CLEARED                            category\n",
       "INDICATION_OF_COLLATERALIZATION    category\n",
       "TAXONOMY                           category\n",
       "PRICE_FORMING_CONTINUATION_DATA    category\n",
       "dtype: object"
      ]
     },
     "execution_count": 33,
     "metadata": {},
     "output_type": "execute_result"
    }
   ],
   "source": [
    "obj_data = data.select_dtypes(include=['object']).copy()\n",
    "obj_data = obj_data.astype('category')\n",
    "obj_data.dtypes"
   ]
  },
  {
   "cell_type": "code",
   "execution_count": 34,
   "metadata": {},
   "outputs": [
    {
     "data": {
      "text/html": [
       "<div>\n",
       "<style scoped>\n",
       "    .dataframe tbody tr th:only-of-type {\n",
       "        vertical-align: middle;\n",
       "    }\n",
       "\n",
       "    .dataframe tbody tr th {\n",
       "        vertical-align: top;\n",
       "    }\n",
       "\n",
       "    .dataframe thead th {\n",
       "        text-align: right;\n",
       "    }\n",
       "</style>\n",
       "<table border=\"1\" class=\"dataframe\">\n",
       "  <thead>\n",
       "    <tr style=\"text-align: right;\">\n",
       "      <th></th>\n",
       "      <th>ACTION</th>\n",
       "      <th>CLEARED</th>\n",
       "      <th>INDICATION_OF_COLLATERALIZATION</th>\n",
       "      <th>TAXONOMY</th>\n",
       "      <th>PRICE_FORMING_CONTINUATION_DATA</th>\n",
       "      <th>PRICE_NOTATION</th>\n",
       "      <th>ROUNDED_NOTIONAL_AMOUNT_1</th>\n",
       "    </tr>\n",
       "  </thead>\n",
       "  <tbody>\n",
       "    <tr>\n",
       "      <th>0</th>\n",
       "      <td>2</td>\n",
       "      <td>1</td>\n",
       "      <td>3</td>\n",
       "      <td>1</td>\n",
       "      <td>1</td>\n",
       "      <td>0.5</td>\n",
       "      <td>95.0</td>\n",
       "    </tr>\n",
       "    <tr>\n",
       "      <th>1</th>\n",
       "      <td>2</td>\n",
       "      <td>1</td>\n",
       "      <td>2</td>\n",
       "      <td>1</td>\n",
       "      <td>2</td>\n",
       "      <td>75.0</td>\n",
       "      <td>3.5</td>\n",
       "    </tr>\n",
       "    <tr>\n",
       "      <th>2</th>\n",
       "      <td>2</td>\n",
       "      <td>1</td>\n",
       "      <td>2</td>\n",
       "      <td>1</td>\n",
       "      <td>1</td>\n",
       "      <td>0.5</td>\n",
       "      <td>7.5</td>\n",
       "    </tr>\n",
       "    <tr>\n",
       "      <th>3</th>\n",
       "      <td>2</td>\n",
       "      <td>1</td>\n",
       "      <td>3</td>\n",
       "      <td>1</td>\n",
       "      <td>1</td>\n",
       "      <td>0.5</td>\n",
       "      <td>65.0</td>\n",
       "    </tr>\n",
       "    <tr>\n",
       "      <th>4</th>\n",
       "      <td>2</td>\n",
       "      <td>1</td>\n",
       "      <td>2</td>\n",
       "      <td>1</td>\n",
       "      <td>2</td>\n",
       "      <td>75.0</td>\n",
       "      <td>3.5</td>\n",
       "    </tr>\n",
       "  </tbody>\n",
       "</table>\n",
       "</div>"
      ],
      "text/plain": [
       "   ACTION  CLEARED  INDICATION_OF_COLLATERALIZATION  TAXONOMY  \\\n",
       "0       2        1                                3         1   \n",
       "1       2        1                                2         1   \n",
       "2       2        1                                2         1   \n",
       "3       2        1                                3         1   \n",
       "4       2        1                                2         1   \n",
       "\n",
       "   PRICE_FORMING_CONTINUATION_DATA  PRICE_NOTATION  ROUNDED_NOTIONAL_AMOUNT_1  \n",
       "0                                1             0.5                       95.0  \n",
       "1                                2            75.0                        3.5  \n",
       "2                                1             0.5                        7.5  \n",
       "3                                1             0.5                       65.0  \n",
       "4                                2            75.0                        3.5  "
      ]
     },
     "execution_count": 34,
     "metadata": {},
     "output_type": "execute_result"
    }
   ],
   "source": [
    "obj_data['ACTION'] = obj_data['ACTION'].cat.codes\n",
    "obj_data['CLEARED'] = obj_data['CLEARED'].cat.codes\n",
    "obj_data['INDICATION_OF_COLLATERALIZATION'] = obj_data['INDICATION_OF_COLLATERALIZATION'].cat.codes\n",
    "obj_data['TAXONOMY'] = obj_data['TAXONOMY'].cat.codes\n",
    "obj_data['PRICE_FORMING_CONTINUATION_DATA'] = obj_data['PRICE_FORMING_CONTINUATION_DATA'].cat.codes\n",
    "obj_data['PRICE_NOTATION'] = data['PRICE_NOTATION']\n",
    "obj_data['ROUNDED_NOTIONAL_AMOUNT_1'] = data['ROUNDED_NOTIONAL_AMOUNT_1']\n",
    "obj_data.head()"
   ]
  },
  {
   "cell_type": "code",
   "execution_count": 35,
   "metadata": {},
   "outputs": [],
   "source": [
    "obj_data.rename(columns = {\"INDICATION_OF_COLLATERALIZATION\":\"COLLATERALIZATION\",\"PRICE_FORMING_CONTINUATION_DATA\":'PRICE_FORMING',\n",
    "                 \"ROUNDED_NOTIONAL_AMOUNT_1\":\"AMOUNT\", \"PRICE_NOTATION\":\"PRICE\"}, inplace = True)\n",
    "\n"
   ]
  },
  {
   "cell_type": "code",
   "execution_count": 36,
   "metadata": {},
   "outputs": [
    {
     "data": {
      "text/html": [
       "<div>\n",
       "<style scoped>\n",
       "    .dataframe tbody tr th:only-of-type {\n",
       "        vertical-align: middle;\n",
       "    }\n",
       "\n",
       "    .dataframe tbody tr th {\n",
       "        vertical-align: top;\n",
       "    }\n",
       "\n",
       "    .dataframe thead th {\n",
       "        text-align: right;\n",
       "    }\n",
       "</style>\n",
       "<table border=\"1\" class=\"dataframe\">\n",
       "  <thead>\n",
       "    <tr style=\"text-align: right;\">\n",
       "      <th></th>\n",
       "      <th>ACTION</th>\n",
       "      <th>CLEARED</th>\n",
       "      <th>COLLATERALIZATION</th>\n",
       "      <th>TAXONOMY</th>\n",
       "      <th>PRICE_FORMING</th>\n",
       "      <th>PRICE</th>\n",
       "      <th>AMOUNT</th>\n",
       "    </tr>\n",
       "  </thead>\n",
       "  <tbody>\n",
       "    <tr>\n",
       "      <th>ACTION</th>\n",
       "      <td>1.000000</td>\n",
       "      <td>0.090063</td>\n",
       "      <td>-0.114246</td>\n",
       "      <td>0.200512</td>\n",
       "      <td>-0.319311</td>\n",
       "      <td>0.047119</td>\n",
       "      <td>-0.027385</td>\n",
       "    </tr>\n",
       "    <tr>\n",
       "      <th>CLEARED</th>\n",
       "      <td>0.090063</td>\n",
       "      <td>1.000000</td>\n",
       "      <td>-0.008086</td>\n",
       "      <td>0.023922</td>\n",
       "      <td>-0.146430</td>\n",
       "      <td>0.079379</td>\n",
       "      <td>-0.096468</td>\n",
       "    </tr>\n",
       "    <tr>\n",
       "      <th>COLLATERALIZATION</th>\n",
       "      <td>-0.114246</td>\n",
       "      <td>-0.008086</td>\n",
       "      <td>1.000000</td>\n",
       "      <td>0.046866</td>\n",
       "      <td>0.089117</td>\n",
       "      <td>0.022962</td>\n",
       "      <td>0.287763</td>\n",
       "    </tr>\n",
       "    <tr>\n",
       "      <th>TAXONOMY</th>\n",
       "      <td>0.200512</td>\n",
       "      <td>0.023922</td>\n",
       "      <td>0.046866</td>\n",
       "      <td>1.000000</td>\n",
       "      <td>-0.477070</td>\n",
       "      <td>-0.008528</td>\n",
       "      <td>0.128230</td>\n",
       "    </tr>\n",
       "    <tr>\n",
       "      <th>PRICE_FORMING</th>\n",
       "      <td>-0.319311</td>\n",
       "      <td>-0.146430</td>\n",
       "      <td>0.089117</td>\n",
       "      <td>-0.477070</td>\n",
       "      <td>1.000000</td>\n",
       "      <td>0.101519</td>\n",
       "      <td>0.033296</td>\n",
       "    </tr>\n",
       "    <tr>\n",
       "      <th>PRICE</th>\n",
       "      <td>0.047119</td>\n",
       "      <td>0.079379</td>\n",
       "      <td>0.022962</td>\n",
       "      <td>-0.008528</td>\n",
       "      <td>0.101519</td>\n",
       "      <td>1.000000</td>\n",
       "      <td>-0.055787</td>\n",
       "    </tr>\n",
       "    <tr>\n",
       "      <th>AMOUNT</th>\n",
       "      <td>-0.027385</td>\n",
       "      <td>-0.096468</td>\n",
       "      <td>0.287763</td>\n",
       "      <td>0.128230</td>\n",
       "      <td>0.033296</td>\n",
       "      <td>-0.055787</td>\n",
       "      <td>1.000000</td>\n",
       "    </tr>\n",
       "  </tbody>\n",
       "</table>\n",
       "</div>"
      ],
      "text/plain": [
       "                     ACTION   CLEARED  COLLATERALIZATION  TAXONOMY  \\\n",
       "ACTION             1.000000  0.090063          -0.114246  0.200512   \n",
       "CLEARED            0.090063  1.000000          -0.008086  0.023922   \n",
       "COLLATERALIZATION -0.114246 -0.008086           1.000000  0.046866   \n",
       "TAXONOMY           0.200512  0.023922           0.046866  1.000000   \n",
       "PRICE_FORMING     -0.319311 -0.146430           0.089117 -0.477070   \n",
       "PRICE              0.047119  0.079379           0.022962 -0.008528   \n",
       "AMOUNT            -0.027385 -0.096468           0.287763  0.128230   \n",
       "\n",
       "                   PRICE_FORMING     PRICE    AMOUNT  \n",
       "ACTION                 -0.319311  0.047119 -0.027385  \n",
       "CLEARED                -0.146430  0.079379 -0.096468  \n",
       "COLLATERALIZATION       0.089117  0.022962  0.287763  \n",
       "TAXONOMY               -0.477070 -0.008528  0.128230  \n",
       "PRICE_FORMING           1.000000  0.101519  0.033296  \n",
       "PRICE                   0.101519  1.000000 -0.055787  \n",
       "AMOUNT                  0.033296 -0.055787  1.000000  "
      ]
     },
     "execution_count": 36,
     "metadata": {},
     "output_type": "execute_result"
    }
   ],
   "source": [
    "obj_data.corr()"
   ]
  },
  {
   "cell_type": "code",
   "execution_count": 17,
   "metadata": {},
   "outputs": [
    {
     "data": {
      "text/html": [
       "<div>\n",
       "<style scoped>\n",
       "    .dataframe tbody tr th:only-of-type {\n",
       "        vertical-align: middle;\n",
       "    }\n",
       "\n",
       "    .dataframe tbody tr th {\n",
       "        vertical-align: top;\n",
       "    }\n",
       "\n",
       "    .dataframe thead th {\n",
       "        text-align: right;\n",
       "    }\n",
       "</style>\n",
       "<table border=\"1\" class=\"dataframe\">\n",
       "  <thead>\n",
       "    <tr style=\"text-align: right;\">\n",
       "      <th></th>\n",
       "      <th>ACTION</th>\n",
       "      <th>CLEARED</th>\n",
       "      <th>INDICATION_OF_COLLATERALIZATION</th>\n",
       "      <th>TAXONOMY</th>\n",
       "      <th>PRICE_FORMING_CONTINUATION_DATA</th>\n",
       "      <th>PRICE_NOTATION</th>\n",
       "      <th>ROUNDED_NOTIONAL_AMOUNT_1</th>\n",
       "    </tr>\n",
       "  </thead>\n",
       "  <tbody>\n",
       "    <tr>\n",
       "      <th>0</th>\n",
       "      <td>NEW</td>\n",
       "      <td>U</td>\n",
       "      <td>UC</td>\n",
       "      <td>IG</td>\n",
       "      <td>Trade</td>\n",
       "      <td>1.00</td>\n",
       "      <td>100.0</td>\n",
       "    </tr>\n",
       "    <tr>\n",
       "      <th>1</th>\n",
       "      <td>NEW</td>\n",
       "      <td>U</td>\n",
       "      <td>PC</td>\n",
       "      <td>IG</td>\n",
       "      <td>Trade</td>\n",
       "      <td>1.00</td>\n",
       "      <td>30.0</td>\n",
       "    </tr>\n",
       "    <tr>\n",
       "      <th>2</th>\n",
       "      <td>CORRECT</td>\n",
       "      <td>U</td>\n",
       "      <td>PC</td>\n",
       "      <td>IG</td>\n",
       "      <td>Trade</td>\n",
       "      <td>1.00</td>\n",
       "      <td>30.0</td>\n",
       "    </tr>\n",
       "    <tr>\n",
       "      <th>3</th>\n",
       "      <td>NEW</td>\n",
       "      <td>U</td>\n",
       "      <td>PC</td>\n",
       "      <td>IG</td>\n",
       "      <td>Novation</td>\n",
       "      <td>1.24</td>\n",
       "      <td>25.0</td>\n",
       "    </tr>\n",
       "    <tr>\n",
       "      <th>4</th>\n",
       "      <td>CORRECT</td>\n",
       "      <td>C</td>\n",
       "      <td>UC</td>\n",
       "      <td>HY</td>\n",
       "      <td>Trade</td>\n",
       "      <td>1.00</td>\n",
       "      <td>5.0</td>\n",
       "    </tr>\n",
       "  </tbody>\n",
       "</table>\n",
       "</div>"
      ],
      "text/plain": [
       "    ACTION CLEARED INDICATION_OF_COLLATERALIZATION TAXONOMY  \\\n",
       "0      NEW       U                              UC       IG   \n",
       "1      NEW       U                              PC       IG   \n",
       "2  CORRECT       U                              PC       IG   \n",
       "3      NEW       U                              PC       IG   \n",
       "4  CORRECT       C                              UC       HY   \n",
       "\n",
       "  PRICE_FORMING_CONTINUATION_DATA  PRICE_NOTATION  ROUNDED_NOTIONAL_AMOUNT_1  \n",
       "0                           Trade            1.00                      100.0  \n",
       "1                           Trade            1.00                       30.0  \n",
       "2                           Trade            1.00                       30.0  \n",
       "3                        Novation            1.24                       25.0  \n",
       "4                           Trade            1.00                        5.0  "
      ]
     },
     "execution_count": 17,
     "metadata": {},
     "output_type": "execute_result"
    }
   ],
   "source": [
    "original.replace({\"Credit:Index:CDX:CDXIG\":\"IG\",\"Credit:Index:CDX:CDXHY\":'HY'},inplace = True)\n",
    "original.head()"
   ]
  },
  {
   "cell_type": "code",
   "execution_count": 18,
   "metadata": {},
   "outputs": [],
   "source": [
    "obj_original = original.select_dtypes(include=['object']).copy()\n",
    "obj_original = obj_original.astype('category')\n",
    "obj_original['ACTION'] = obj_original['ACTION'].cat.codes\n",
    "obj_original['CLEARED'] = obj_original['CLEARED'].cat.codes\n",
    "obj_original['INDICATION_OF_COLLATERALIZATION'] = obj_original['INDICATION_OF_COLLATERALIZATION'].cat.codes\n",
    "obj_original['TAXONOMY'] = obj_original['TAXONOMY'].cat.codes\n",
    "obj_original['PRICE_FORMING_CONTINUATION_DATA'] = obj_original['PRICE_FORMING_CONTINUATION_DATA'].cat.codes\n",
    "obj_original['PRICE_NOTATION'] = original['PRICE_NOTATION']\n",
    "obj_original['ROUNDED_NOTIONAL_AMOUNT_1'] = original['ROUNDED_NOTIONAL_AMOUNT_1']"
   ]
  },
  {
   "cell_type": "code",
   "execution_count": 19,
   "metadata": {},
   "outputs": [],
   "source": [
    "obj_original.rename(columns = {\"INDICATION_OF_COLLATERALIZATION\":\"COLLATERALIZATION\",\"PRICE_FORMING_CONTINUATION_DATA\":'PRICE_FORMING',\n",
    "                 \"ROUNDED_NOTIONAL_AMOUNT_1\":\"AMOUNT\", \"PRICE_NOTATION\":\"PRICE\"}, inplace = True)\n"
   ]
  },
  {
   "cell_type": "code",
   "execution_count": 20,
   "metadata": {},
   "outputs": [
    {
     "data": {
      "text/html": [
       "<div>\n",
       "<style scoped>\n",
       "    .dataframe tbody tr th:only-of-type {\n",
       "        vertical-align: middle;\n",
       "    }\n",
       "\n",
       "    .dataframe tbody tr th {\n",
       "        vertical-align: top;\n",
       "    }\n",
       "\n",
       "    .dataframe thead th {\n",
       "        text-align: right;\n",
       "    }\n",
       "</style>\n",
       "<table border=\"1\" class=\"dataframe\">\n",
       "  <thead>\n",
       "    <tr style=\"text-align: right;\">\n",
       "      <th></th>\n",
       "      <th>ACTION</th>\n",
       "      <th>CLEARED</th>\n",
       "      <th>COLLATERALIZATION</th>\n",
       "      <th>TAXONOMY</th>\n",
       "      <th>PRICE_FORMING</th>\n",
       "      <th>PRICE</th>\n",
       "      <th>AMOUNT</th>\n",
       "    </tr>\n",
       "  </thead>\n",
       "  <tbody>\n",
       "    <tr>\n",
       "      <th>ACTION</th>\n",
       "      <td>1.000000</td>\n",
       "      <td>0.307754</td>\n",
       "      <td>-0.303599</td>\n",
       "      <td>0.099271</td>\n",
       "      <td>-0.188444</td>\n",
       "      <td>0.090988</td>\n",
       "      <td>0.112336</td>\n",
       "    </tr>\n",
       "    <tr>\n",
       "      <th>CLEARED</th>\n",
       "      <td>0.307754</td>\n",
       "      <td>1.000000</td>\n",
       "      <td>-0.427793</td>\n",
       "      <td>-0.061559</td>\n",
       "      <td>-0.107505</td>\n",
       "      <td>0.205197</td>\n",
       "      <td>-0.034348</td>\n",
       "    </tr>\n",
       "    <tr>\n",
       "      <th>COLLATERALIZATION</th>\n",
       "      <td>-0.303599</td>\n",
       "      <td>-0.427793</td>\n",
       "      <td>1.000000</td>\n",
       "      <td>0.123740</td>\n",
       "      <td>0.237009</td>\n",
       "      <td>-0.145270</td>\n",
       "      <td>-0.008951</td>\n",
       "    </tr>\n",
       "    <tr>\n",
       "      <th>TAXONOMY</th>\n",
       "      <td>0.099271</td>\n",
       "      <td>-0.061559</td>\n",
       "      <td>0.123740</td>\n",
       "      <td>1.000000</td>\n",
       "      <td>-0.052417</td>\n",
       "      <td>-0.072063</td>\n",
       "      <td>0.410575</td>\n",
       "    </tr>\n",
       "    <tr>\n",
       "      <th>PRICE_FORMING</th>\n",
       "      <td>-0.188444</td>\n",
       "      <td>-0.107505</td>\n",
       "      <td>0.237009</td>\n",
       "      <td>-0.052417</td>\n",
       "      <td>1.000000</td>\n",
       "      <td>-0.081210</td>\n",
       "      <td>-0.011378</td>\n",
       "    </tr>\n",
       "    <tr>\n",
       "      <th>PRICE</th>\n",
       "      <td>0.090988</td>\n",
       "      <td>0.205197</td>\n",
       "      <td>-0.145270</td>\n",
       "      <td>-0.072063</td>\n",
       "      <td>-0.081210</td>\n",
       "      <td>1.000000</td>\n",
       "      <td>-0.028458</td>\n",
       "    </tr>\n",
       "    <tr>\n",
       "      <th>AMOUNT</th>\n",
       "      <td>0.112336</td>\n",
       "      <td>-0.034348</td>\n",
       "      <td>-0.008951</td>\n",
       "      <td>0.410575</td>\n",
       "      <td>-0.011378</td>\n",
       "      <td>-0.028458</td>\n",
       "      <td>1.000000</td>\n",
       "    </tr>\n",
       "  </tbody>\n",
       "</table>\n",
       "</div>"
      ],
      "text/plain": [
       "                     ACTION   CLEARED  COLLATERALIZATION  TAXONOMY  \\\n",
       "ACTION             1.000000  0.307754          -0.303599  0.099271   \n",
       "CLEARED            0.307754  1.000000          -0.427793 -0.061559   \n",
       "COLLATERALIZATION -0.303599 -0.427793           1.000000  0.123740   \n",
       "TAXONOMY           0.099271 -0.061559           0.123740  1.000000   \n",
       "PRICE_FORMING     -0.188444 -0.107505           0.237009 -0.052417   \n",
       "PRICE              0.090988  0.205197          -0.145270 -0.072063   \n",
       "AMOUNT             0.112336 -0.034348          -0.008951  0.410575   \n",
       "\n",
       "                   PRICE_FORMING     PRICE    AMOUNT  \n",
       "ACTION                 -0.188444  0.090988  0.112336  \n",
       "CLEARED                -0.107505  0.205197 -0.034348  \n",
       "COLLATERALIZATION       0.237009 -0.145270 -0.008951  \n",
       "TAXONOMY               -0.052417 -0.072063  0.410575  \n",
       "PRICE_FORMING           1.000000 -0.081210 -0.011378  \n",
       "PRICE                  -0.081210  1.000000 -0.028458  \n",
       "AMOUNT                 -0.011378 -0.028458  1.000000  "
      ]
     },
     "execution_count": 20,
     "metadata": {},
     "output_type": "execute_result"
    }
   ],
   "source": [
    "obj_original.corr()"
   ]
  },
  {
   "cell_type": "code",
   "execution_count": 37,
   "metadata": {},
   "outputs": [
    {
     "name": "stderr",
     "output_type": "stream",
     "text": [
      "/Users/shuang/anaconda3/lib/python3.7/site-packages/pandas/core/frame.py:3798: SettingWithCopyWarning: \n",
      "A value is trying to be set on a copy of a slice from a DataFrame\n",
      "\n",
      "See the caveats in the documentation: http://pandas.pydata.org/pandas-docs/stable/indexing.html#indexing-view-versus-copy\n",
      "  method=method)\n"
     ]
    },
    {
     "data": {
      "text/html": [
       "<div>\n",
       "<style scoped>\n",
       "    .dataframe tbody tr th:only-of-type {\n",
       "        vertical-align: middle;\n",
       "    }\n",
       "\n",
       "    .dataframe tbody tr th {\n",
       "        vertical-align: top;\n",
       "    }\n",
       "\n",
       "    .dataframe thead th {\n",
       "        text-align: right;\n",
       "    }\n",
       "</style>\n",
       "<table border=\"1\" class=\"dataframe\">\n",
       "  <thead>\n",
       "    <tr style=\"text-align: right;\">\n",
       "      <th></th>\n",
       "      <th>ACTION</th>\n",
       "      <th>CLEARED</th>\n",
       "      <th>INDICATION_OF_COLLATERALIZATION</th>\n",
       "      <th>TAXONOMY</th>\n",
       "      <th>PRICE_FORMING_CONTINUATION_DATA</th>\n",
       "      <th>PRICE_NOTATION</th>\n",
       "      <th>ROUNDED_NOTIONAL_AMOUNT_1</th>\n",
       "    </tr>\n",
       "  </thead>\n",
       "  <tbody>\n",
       "    <tr>\n",
       "      <th>619283</th>\n",
       "      <td>NEW</td>\n",
       "      <td>U</td>\n",
       "      <td>FC</td>\n",
       "      <td>IG</td>\n",
       "      <td>Trade</td>\n",
       "      <td>0.5</td>\n",
       "      <td>45.0</td>\n",
       "    </tr>\n",
       "    <tr>\n",
       "      <th>619284</th>\n",
       "      <td>CORRECT</td>\n",
       "      <td>C</td>\n",
       "      <td>UC</td>\n",
       "      <td>IG</td>\n",
       "      <td>Trade</td>\n",
       "      <td>0.5</td>\n",
       "      <td>85.0</td>\n",
       "    </tr>\n",
       "    <tr>\n",
       "      <th>619285</th>\n",
       "      <td>NEW</td>\n",
       "      <td>C</td>\n",
       "      <td>OC</td>\n",
       "      <td>IG</td>\n",
       "      <td>Trade</td>\n",
       "      <td>0.5</td>\n",
       "      <td>7.5</td>\n",
       "    </tr>\n",
       "    <tr>\n",
       "      <th>619286</th>\n",
       "      <td>CORRECT</td>\n",
       "      <td>U</td>\n",
       "      <td>PC</td>\n",
       "      <td>HY</td>\n",
       "      <td>Trade</td>\n",
       "      <td>1.5</td>\n",
       "      <td>1.5</td>\n",
       "    </tr>\n",
       "    <tr>\n",
       "      <th>619287</th>\n",
       "      <td>NEW</td>\n",
       "      <td>C</td>\n",
       "      <td>FC</td>\n",
       "      <td>HY</td>\n",
       "      <td>Trade</td>\n",
       "      <td>1.5</td>\n",
       "      <td>15.0</td>\n",
       "    </tr>\n",
       "  </tbody>\n",
       "</table>\n",
       "</div>"
      ],
      "text/plain": [
       "         ACTION CLEARED INDICATION_OF_COLLATERALIZATION TAXONOMY  \\\n",
       "619283      NEW       U                              FC       IG   \n",
       "619284  CORRECT       C                              UC       IG   \n",
       "619285      NEW       C                              OC       IG   \n",
       "619286  CORRECT       U                              PC       HY   \n",
       "619287      NEW       C                              FC       HY   \n",
       "\n",
       "       PRICE_FORMING_CONTINUATION_DATA  PRICE_NOTATION  \\\n",
       "619283                           Trade             0.5   \n",
       "619284                           Trade             0.5   \n",
       "619285                           Trade             0.5   \n",
       "619286                           Trade             1.5   \n",
       "619287                           Trade             1.5   \n",
       "\n",
       "        ROUNDED_NOTIONAL_AMOUNT_1  \n",
       "619283                       45.0  \n",
       "619284                       85.0  \n",
       "619285                        7.5  \n",
       "619286                        1.5  \n",
       "619287                       15.0  "
      ]
     },
     "execution_count": 37,
     "metadata": {},
     "output_type": "execute_result"
    }
   ],
   "source": [
    "sub_data.replace({\"Credit:Index:CDX:CDXIG\":\"IG\",\"Credit:Index:CDX:CDXHY\":'HY'},inplace = True)\n",
    "sub_data.head()"
   ]
  },
  {
   "cell_type": "code",
   "execution_count": 38,
   "metadata": {},
   "outputs": [],
   "source": [
    "obj_sub = sub_data.select_dtypes(include=['object']).copy()\n",
    "obj_sub = obj_sub.astype('category')\n",
    "obj_sub['ACTION'] = obj_sub['ACTION'].cat.codes\n",
    "obj_sub['CLEARED'] = obj_sub['CLEARED'].cat.codes\n",
    "obj_sub['INDICATION_OF_COLLATERALIZATION'] = obj_sub['INDICATION_OF_COLLATERALIZATION'].cat.codes\n",
    "obj_sub['TAXONOMY'] = obj_sub['TAXONOMY'].cat.codes\n",
    "obj_sub['PRICE_FORMING_CONTINUATION_DATA'] = obj_sub['PRICE_FORMING_CONTINUATION_DATA'].cat.codes\n",
    "obj_sub['PRICE_NOTATION'] = sub_data['PRICE_NOTATION']\n",
    "obj_sub['ROUNDED_NOTIONAL_AMOUNT_1'] = sub_data['ROUNDED_NOTIONAL_AMOUNT_1']"
   ]
  },
  {
   "cell_type": "code",
   "execution_count": 40,
   "metadata": {},
   "outputs": [],
   "source": [
    "obj_sub.rename(columns = {\"INDICATION_OF_COLLATERALIZATION\":\"COLLATERALIZATION\",\"PRICE_FORMING_CONTINUATION_DATA\":'PRICE_FORMING',\n",
    "                 \"ROUNDED_NOTIONAL_AMOUNT_1\":\"AMOUNT\", \"PRICE_NOTATION\":\"PRICE\"}, inplace = True)\n"
   ]
  },
  {
   "cell_type": "code",
   "execution_count": 41,
   "metadata": {},
   "outputs": [
    {
     "data": {
      "text/html": [
       "<div>\n",
       "<style scoped>\n",
       "    .dataframe tbody tr th:only-of-type {\n",
       "        vertical-align: middle;\n",
       "    }\n",
       "\n",
       "    .dataframe tbody tr th {\n",
       "        vertical-align: top;\n",
       "    }\n",
       "\n",
       "    .dataframe thead th {\n",
       "        text-align: right;\n",
       "    }\n",
       "</style>\n",
       "<table border=\"1\" class=\"dataframe\">\n",
       "  <thead>\n",
       "    <tr style=\"text-align: right;\">\n",
       "      <th></th>\n",
       "      <th>ACTION</th>\n",
       "      <th>CLEARED</th>\n",
       "      <th>COLLATERALIZATION</th>\n",
       "      <th>TAXONOMY</th>\n",
       "      <th>PRICE_FORMING</th>\n",
       "      <th>PRICE</th>\n",
       "      <th>AMOUNT</th>\n",
       "    </tr>\n",
       "  </thead>\n",
       "  <tbody>\n",
       "    <tr>\n",
       "      <th>ACTION</th>\n",
       "      <td>1.000000</td>\n",
       "      <td>0.094411</td>\n",
       "      <td>-0.117994</td>\n",
       "      <td>0.195809</td>\n",
       "      <td>-0.318812</td>\n",
       "      <td>0.049303</td>\n",
       "      <td>-0.025717</td>\n",
       "    </tr>\n",
       "    <tr>\n",
       "      <th>CLEARED</th>\n",
       "      <td>0.094411</td>\n",
       "      <td>1.000000</td>\n",
       "      <td>-0.005679</td>\n",
       "      <td>0.023616</td>\n",
       "      <td>-0.149160</td>\n",
       "      <td>0.079288</td>\n",
       "      <td>-0.092876</td>\n",
       "    </tr>\n",
       "    <tr>\n",
       "      <th>COLLATERALIZATION</th>\n",
       "      <td>-0.117994</td>\n",
       "      <td>-0.005679</td>\n",
       "      <td>1.000000</td>\n",
       "      <td>0.044587</td>\n",
       "      <td>0.090999</td>\n",
       "      <td>0.023299</td>\n",
       "      <td>0.293372</td>\n",
       "    </tr>\n",
       "    <tr>\n",
       "      <th>TAXONOMY</th>\n",
       "      <td>0.195809</td>\n",
       "      <td>0.023616</td>\n",
       "      <td>0.044587</td>\n",
       "      <td>1.000000</td>\n",
       "      <td>-0.476601</td>\n",
       "      <td>-0.005580</td>\n",
       "      <td>0.126911</td>\n",
       "    </tr>\n",
       "    <tr>\n",
       "      <th>PRICE_FORMING</th>\n",
       "      <td>-0.318812</td>\n",
       "      <td>-0.149160</td>\n",
       "      <td>0.090999</td>\n",
       "      <td>-0.476601</td>\n",
       "      <td>1.000000</td>\n",
       "      <td>0.101245</td>\n",
       "      <td>0.034835</td>\n",
       "    </tr>\n",
       "    <tr>\n",
       "      <th>PRICE</th>\n",
       "      <td>0.049303</td>\n",
       "      <td>0.079288</td>\n",
       "      <td>0.023299</td>\n",
       "      <td>-0.005580</td>\n",
       "      <td>0.101245</td>\n",
       "      <td>1.000000</td>\n",
       "      <td>-0.053175</td>\n",
       "    </tr>\n",
       "    <tr>\n",
       "      <th>AMOUNT</th>\n",
       "      <td>-0.025717</td>\n",
       "      <td>-0.092876</td>\n",
       "      <td>0.293372</td>\n",
       "      <td>0.126911</td>\n",
       "      <td>0.034835</td>\n",
       "      <td>-0.053175</td>\n",
       "      <td>1.000000</td>\n",
       "    </tr>\n",
       "  </tbody>\n",
       "</table>\n",
       "</div>"
      ],
      "text/plain": [
       "                     ACTION   CLEARED  COLLATERALIZATION  TAXONOMY  \\\n",
       "ACTION             1.000000  0.094411          -0.117994  0.195809   \n",
       "CLEARED            0.094411  1.000000          -0.005679  0.023616   \n",
       "COLLATERALIZATION -0.117994 -0.005679           1.000000  0.044587   \n",
       "TAXONOMY           0.195809  0.023616           0.044587  1.000000   \n",
       "PRICE_FORMING     -0.318812 -0.149160           0.090999 -0.476601   \n",
       "PRICE              0.049303  0.079288           0.023299 -0.005580   \n",
       "AMOUNT            -0.025717 -0.092876           0.293372  0.126911   \n",
       "\n",
       "                   PRICE_FORMING     PRICE    AMOUNT  \n",
       "ACTION                 -0.318812  0.049303 -0.025717  \n",
       "CLEARED                -0.149160  0.079288 -0.092876  \n",
       "COLLATERALIZATION       0.090999  0.023299  0.293372  \n",
       "TAXONOMY               -0.476601 -0.005580  0.126911  \n",
       "PRICE_FORMING           1.000000  0.101245  0.034835  \n",
       "PRICE                   0.101245  1.000000 -0.053175  \n",
       "AMOUNT                  0.034835 -0.053175  1.000000  "
      ]
     },
     "execution_count": 41,
     "metadata": {},
     "output_type": "execute_result"
    }
   ],
   "source": [
    "obj_sub.corr()"
   ]
  },
  {
   "cell_type": "code",
   "execution_count": 193,
   "metadata": {},
   "outputs": [
    {
     "data": {
      "text/plain": [
       "Text(0.5,1,'Original')"
      ]
     },
     "execution_count": 193,
     "metadata": {},
     "output_type": "execute_result"
    },
    {
     "data": {
      "image/png": "[encoded data removed]",
      "text/plain": [
       "<Figure size 2160x432 with 6 Axes>"
      ]
     },
     "metadata": {
      "needs_background": "light"
     },
     "output_type": "display_data"
    }
   ],
   "source": [
    "import seaborn as sns\n",
    "import matplotlib.pyplot as plt\n",
    "import numpy as np\n",
    "# Compute the correlation matrix\n",
    "corr_1 = obj_data.corr()\n",
    "corr_2 = obj_sub.corr()\n",
    "corr_3 = obj_original.corr()\n",
    "\n",
    "# Generate a mask for the upper triangle\n",
    "mask_1 = np.zeros_like(corr_1, dtype=np.bool)\n",
    "mask_1[np.triu_indices_from(mask)] = True\n",
    "\n",
    "mask_2 = np.zeros_like(corr_2, dtype=np.bool)\n",
    "mask_2[np.triu_indices_from(mask)] = True\n",
    "\n",
    "mask_3 = np.zeros_like(corr_3, dtype=np.bool)\n",
    "mask_3[np.triu_indices_from(mask)] = True\n",
    "\n",
    "# Set up the matplotlib figure\n",
    "f, ax = plt.subplots(nrows = 1, ncols = 3, figsize=(30, 6))\n",
    "\n",
    "# Generate a custom diverging colormap\n",
    "cmap = sns.diverging_palette(220, 10, as_cmap=True)\n",
    "\n",
    "# Draw the heatmap with the mask and correct aspect ratio\n",
    "sns.heatmap(corr_1, mask=mask_1, ax = ax[0], cmap=cmap, vmax=.3, center=0,\n",
    "            square=True, linewidths=.5, cbar_kws={\"shrink\": .5})\n",
    "ax[0].set_title(\"New\")\n",
    "\n",
    "sns.heatmap(corr_2, mask=mask_2, ax = ax[1], cmap=cmap, vmax=.3, center=0,\n",
    "            square=True, linewidths=.5, cbar_kws={\"shrink\": .5})\n",
    "ax[1].set_title(\"Sub\")\n",
    "\n",
    "sns.heatmap(corr_3, mask=mask_3, ax = ax[2], cmap=cmap, vmax=.3, center=0,\n",
    "            square=True, linewidths=.5, cbar_kws={\"shrink\": .5})\n",
    "ax[2].set_title(\"Original\")"
   ]
  },
  {
   "cell_type": "code",
   "execution_count": 43,
   "metadata": {},
   "outputs": [
    {
     "data": {
      "text/plain": [
       "Text(0.5,1,'Subset')"
      ]
     },
     "execution_count": 43,
     "metadata": {},
     "output_type": "execute_result"
    },
    {
     "data": {
      "image/png": "[encoded data removed]",
      "text/plain": [
       "<Figure size 2160x720 with 4 Axes>"
      ]
     },
     "metadata": {
      "needs_background": "light"
     },
     "output_type": "display_data"
    }
   ],
   "source": [
    "import seaborn as sns\n",
    "import matplotlib.pyplot as plt\n",
    "import numpy as np\n",
    "# Compute the correlation matrix\n",
    "corr_1 = obj_data.corr()\n",
    "corr_2 = obj_sub.corr()\n",
    "\n",
    "# Generate a mask for the upper triangle\n",
    "mask_1 = np.zeros_like(corr_1, dtype=np.bool)\n",
    "mask_1[np.triu_indices_from(mask_1)] = True\n",
    "\n",
    "mask_2 = np.zeros_like(corr_2, dtype=np.bool)\n",
    "mask_2[np.triu_indices_from(mask_2)] = True\n",
    "\n",
    "# Set up the matplotlib figure\n",
    "f, ax = plt.subplots(nrows = 1, ncols = 2, figsize=(30, 10))\n",
    "\n",
    "# Generate a custom diverging colormap\n",
    "cmap = sns.diverging_palette(220, 10, as_cmap=True)\n",
    "\n",
    "# Draw the heatmap with the mask and correct aspect ratio\n",
    "sns.heatmap(corr_1, mask=mask_1, ax = ax[0], cmap=cmap, vmax=.3, center=0,\n",
    "            square=True, linewidths=.5, cbar_kws={\"shrink\": .5})\n",
    "ax[0].set_title(\"New\")\n",
    "\n",
    "sns.heatmap(corr_2, mask=mask_2, ax = ax[1], cmap=cmap, vmax=.3, center=0,\n",
    "            square=True, linewidths=.5, cbar_kws={\"shrink\": .5})\n",
    "ax[1].set_title(\"Subset\")\n"
   ]
  },
  {
   "cell_type": "code",
   "execution_count": 289,
   "metadata": {},
   "outputs": [
    {
     "data": {
      "text/plain": [
       "Text(0.5,1,'Original')"
      ]
     },
     "execution_count": 289,
     "metadata": {},
     "output_type": "execute_result"
    },
    {
     "data": {
      "image/png": "[encoded data removed]",
      "text/plain": [
       "<Figure size 2160x720 with 4 Axes>"
      ]
     },
     "metadata": {
      "needs_background": "light"
     },
     "output_type": "display_data"
    }
   ],
   "source": [
    "import seaborn as sns\n",
    "import matplotlib.pyplot as plt\n",
    "import numpy as np\n",
    "# Compute the correlation matrix\n",
    "corr_1 = obj_data.corr()\n",
    "corr_2 = obj_original.corr()\n",
    "\n",
    "# Generate a mask for the upper triangle\n",
    "mask_1 = np.zeros_like(corr_1, dtype=np.bool)\n",
    "mask_1[np.triu_indices_from(mask)] = True\n",
    "\n",
    "mask_2 = np.zeros_like(corr_2, dtype=np.bool)\n",
    "mask_2[np.triu_indices_from(mask)] = True\n",
    "\n",
    "# Set up the matplotlib figure\n",
    "f, ax = plt.subplots(nrows = 1, ncols = 2, figsize=(30, 10))\n",
    "\n",
    "# Generate a custom diverging colormap\n",
    "cmap = sns.diverging_palette(220, 10, as_cmap=True)\n",
    "\n",
    "# Draw the heatmap with the mask and correct aspect ratio\n",
    "sns.heatmap(corr_1, mask=mask_1, ax = ax[0], cmap=cmap, vmax=.3, center=0,\n",
    "            square=True, linewidths=.5, cbar_kws={\"shrink\": .5})\n",
    "ax[0].set_title(\"New\")\n",
    "\n",
    "sns.heatmap(corr_2, mask=mask_2, ax = ax[1], cmap=cmap, vmax=.3, center=0,\n",
    "            square=True, linewidths=.5, cbar_kws={\"shrink\": .5})\n",
    "ax[1].set_title(\"Original\")\n"
   ]
  },
  {
   "cell_type": "markdown",
   "metadata": {},
   "source": [
    "# Dependency among different features"
   ]
  },
  {
   "cell_type": "code",
   "execution_count": 207,
   "metadata": {},
   "outputs": [],
   "source": [
    "from sklearn.metrics import confusion_matrix\n",
    "from sklearn.metrics import accuracy_score\n",
    "from sklearn.svm import SVC\n",
    "from sklearn.svm import LinearSVC\n",
    "from sklearn.model_selection import train_test_split\n",
    "from sklearn.linear_model import LogisticRegression\n",
    "from sklearn.naive_bayes import GaussianNB\n",
    "from sklearn.ensemble import RandomForestClassifier\n",
    "from sklearn.naive_bayes import MultinomialNB"
   ]
  },
  {
   "cell_type": "markdown",
   "metadata": {},
   "source": [
    "# Cleared"
   ]
  },
  {
   "cell_type": "markdown",
   "metadata": {},
   "source": [
    "## Performance on Sub_data"
   ]
  },
  {
   "cell_type": "code",
   "execution_count": 260,
   "metadata": {},
   "outputs": [],
   "source": [
    "Y = obj_sub['CLEARED']\n",
    "X = obj_sub.drop(['CLEARED'],axis = 1)\n",
    "X_train, X_test, Y_train, Y_test = train_test_split(X, Y, test_size = .20 ,random_state = 0)"
   ]
  },
  {
   "cell_type": "markdown",
   "metadata": {},
   "source": [
    "## Rank1-Random Forest"
   ]
  },
  {
   "cell_type": "code",
   "execution_count": 226,
   "metadata": {},
   "outputs": [
    {
     "data": {
      "text/plain": [
       "0.9556"
      ]
     },
     "execution_count": 226,
     "metadata": {},
     "output_type": "execute_result"
    }
   ],
   "source": [
    "rf_clear = RandomForestClassifier(random_state = 0)\n",
    "rf_clear.fit(X_train, Y_train)\n",
    "Y_pred = rf_clear.predict(X_test)\n",
    "accuracy_score(Y_test,Y_pred)"
   ]
  },
  {
   "cell_type": "markdown",
   "metadata": {},
   "source": [
    "## Rank2-Logistic Regression"
   ]
  },
  {
   "cell_type": "code",
   "execution_count": 261,
   "metadata": {},
   "outputs": [
    {
     "data": {
      "text/plain": [
       "0.79265"
      ]
     },
     "execution_count": 261,
     "metadata": {},
     "output_type": "execute_result"
    }
   ],
   "source": [
    "log_clear = LogisticRegression(random_state = 0)\n",
    "log_clear.fit(X_train, Y_train)\n",
    "Y_pred = log_clear.predict(X_test)\n",
    "accuracy_score(Y_test,Y_pred)"
   ]
  },
  {
   "cell_type": "markdown",
   "metadata": {},
   "source": [
    "## Rank3-Linear SVM"
   ]
  },
  {
   "cell_type": "code",
   "execution_count": 232,
   "metadata": {},
   "outputs": [
    {
     "data": {
      "text/plain": [
       "0.7886"
      ]
     },
     "execution_count": 232,
     "metadata": {},
     "output_type": "execute_result"
    }
   ],
   "source": [
    "svm_clear = LinearSVC(random_state = 0)\n",
    "svm_clear.fit(X_train, Y_train)\n",
    "Y_pred = svm_clear.predict(X_test)\n",
    "accuracy_score(Y_test,Y_pred)"
   ]
  },
  {
   "cell_type": "markdown",
   "metadata": {},
   "source": [
    "## Rank4-Multinomial Naive Bayes"
   ]
  },
  {
   "cell_type": "code",
   "execution_count": 210,
   "metadata": {},
   "outputs": [
    {
     "data": {
      "text/plain": [
       "0.64165"
      ]
     },
     "execution_count": 210,
     "metadata": {},
     "output_type": "execute_result"
    }
   ],
   "source": [
    "# create a multinomial classifier\n",
    "mnb_clear = MultinomialNB()\n",
    "mnb_clear.fit(X_train, Y_train)\n",
    "Y_pred = mnb_clear.predict(X_test)\n",
    "accuracy_score(Y_test,Y_pred)"
   ]
  },
  {
   "cell_type": "markdown",
   "metadata": {},
   "source": [
    "## Rank5-Gaussian Naive Bayes"
   ]
  },
  {
   "cell_type": "code",
   "execution_count": 196,
   "metadata": {},
   "outputs": [
    {
     "data": {
      "text/plain": [
       "0.3268"
      ]
     },
     "execution_count": 196,
     "metadata": {},
     "output_type": "execute_result"
    }
   ],
   "source": [
    "gnb_clear = GaussianNB()\n",
    "gnb_clear.fit(X_train, Y_train)\n",
    "Y_pred = gnb_clear.predict(X_test)\n",
    "accuracy_score(Y_test,Y_pred)"
   ]
  },
  {
   "cell_type": "markdown",
   "metadata": {},
   "source": [
    "## Performance on original data"
   ]
  },
  {
   "cell_type": "code",
   "execution_count": 228,
   "metadata": {},
   "outputs": [],
   "source": [
    "Y = obj_original['CLEARED']\n",
    "X = obj_original.drop(['CLEARED'],axis = 1)\n",
    "X_train, X_test, Y_train, Y_test = train_test_split(X, Y, test_size = .20 ,random_state = 0)"
   ]
  },
  {
   "cell_type": "markdown",
   "metadata": {},
   "source": [
    "## Rank1-Random Forest"
   ]
  },
  {
   "cell_type": "code",
   "execution_count": 229,
   "metadata": {},
   "outputs": [
    {
     "data": {
      "text/plain": [
       "0.8714405360134003"
      ]
     },
     "execution_count": 229,
     "metadata": {},
     "output_type": "execute_result"
    }
   ],
   "source": [
    "rf_clear_original = RandomForestClassifier(random_state = 0)\n",
    "rf_clear_original.fit(X_train, Y_train)\n",
    "Y_pred = rf_clear_original.predict(X_test)\n",
    "accuracy_score(Y_test,Y_pred)"
   ]
  },
  {
   "cell_type": "markdown",
   "metadata": {},
   "source": [
    "## Rank2-Logistic Regression"
   ]
  },
  {
   "cell_type": "code",
   "execution_count": 217,
   "metadata": {},
   "outputs": [
    {
     "data": {
      "text/plain": [
       "0.7453936348408711"
      ]
     },
     "execution_count": 217,
     "metadata": {},
     "output_type": "execute_result"
    }
   ],
   "source": [
    "log_clear_original = LogisticRegression(random_state = 0)\n",
    "log_clear_original.fit(X_train, Y_train)\n",
    "Y_pred = log_clear_original.predict(X_test)\n",
    "accuracy_score(Y_test,Y_pred)"
   ]
  },
  {
   "cell_type": "markdown",
   "metadata": {},
   "source": [
    "## Rank3-Linear SVM"
   ]
  },
  {
   "cell_type": "code",
   "execution_count": 214,
   "metadata": {},
   "outputs": [
    {
     "data": {
      "text/plain": [
       "0.7311557788944724"
      ]
     },
     "execution_count": 214,
     "metadata": {},
     "output_type": "execute_result"
    }
   ],
   "source": [
    "svm_clear_original = LinearSVC(random_state = 0)\n",
    "svm_clear_original.fit(X_train, Y_train)\n",
    "Y_pred = svm_clear_original.predict(X_test)\n",
    "accuracy_score(Y_test,Y_pred)"
   ]
  },
  {
   "cell_type": "markdown",
   "metadata": {},
   "source": [
    "## Rank4-Multinomial Naive Bayes"
   ]
  },
  {
   "cell_type": "code",
   "execution_count": 216,
   "metadata": {},
   "outputs": [
    {
     "data": {
      "text/plain": [
       "0.623534338358459"
      ]
     },
     "execution_count": 216,
     "metadata": {},
     "output_type": "execute_result"
    }
   ],
   "source": [
    "# create a multinomial classifier\n",
    "mnb_clear_original = MultinomialNB()\n",
    "mnb_clear_original.fit(X_train, Y_train)\n",
    "Y_pred = mnb_clear_original.predict(X_test)\n",
    "accuracy_score(Y_test,Y_pred)"
   ]
  },
  {
   "cell_type": "markdown",
   "metadata": {},
   "source": [
    "## Rank5-Gaussian Naive Bayes"
   ]
  },
  {
   "cell_type": "code",
   "execution_count": 215,
   "metadata": {},
   "outputs": [
    {
     "data": {
      "text/plain": [
       "0.5778894472361809"
      ]
     },
     "execution_count": 215,
     "metadata": {},
     "output_type": "execute_result"
    }
   ],
   "source": [
    "gnb_clear_original = GaussianNB()\n",
    "gnb_clear_original.fit(X_train, Y_train)\n",
    "Y_pred = gnb_clear_original.predict(X_test)\n",
    "accuracy_score(Y_test,Y_pred)"
   ]
  },
  {
   "cell_type": "code",
   "execution_count": 262,
   "metadata": {},
   "outputs": [],
   "source": [
    "def evaluate_model(X_train, Y_train, X_test, Y_test):\n",
    "    accuracy = []\n",
    "    rf = RandomForestClassifier(random_state = 0)\n",
    "    rf.fit(X_train, Y_train)\n",
    "    Y_pred = rf.predict(X_test)\n",
    "    accuracy.append(accuracy_score(Y_test,Y_pred))\n",
    "    \n",
    "    log = LogisticRegression(random_state = 0)\n",
    "    log.fit(X_train, Y_train)\n",
    "    Y_pred = log.predict(X_test)\n",
    "    accuracy.append(accuracy_score(Y_test,Y_pred))\n",
    "    \n",
    "    svm = LinearSVC(random_state = 0)\n",
    "    svm.fit(X_train, Y_train)\n",
    "    Y_pred = svm.predict(X_test)\n",
    "    accuracy.append(accuracy_score(Y_test,Y_pred))\n",
    "    \n",
    "    mnb = MultinomialNB()\n",
    "    mnb.fit(X_train, Y_train)\n",
    "    Y_pred = mnb.predict(X_test)\n",
    "    accuracy.append(accuracy_score(Y_test,Y_pred))\n",
    "    \n",
    "    gnb = GaussianNB()\n",
    "    gnb.fit(X_train, Y_train)\n",
    "    Y_pred = gnb.predict(X_test)\n",
    "    accuracy.append(accuracy_score(Y_test,Y_pred))\n",
    "    \n",
    "    #svc_colla = SVC(random_state = 0)\n",
    "    #svc_colla.fit(X_train, Y_train)\n",
    "    #Y_pred = svc_colla.predict(X_test)\n",
    "    #svc_colla_score = accuracy_score(Y_test,Y_pred)\n",
    "    #svc_colla_score\n",
    "    \n",
    "    return accuracy"
   ]
  },
  {
   "cell_type": "code",
   "execution_count": 263,
   "metadata": {},
   "outputs": [],
   "source": [
    "def get_SRA(new,old):\n",
    "    temp = 0\n",
    "    count = 0\n",
    "    new = np.array(new)\n",
    "    old = np.array(old)\n",
    "    for i in range(len(new)):\n",
    "        for j in range(i+1,len(old)):\n",
    "            count = count + 1\n",
    "            if ((new[i]-new[j])*(old[i]-old[j]))>=0: temp = temp +1\n",
    "    r = (temp/count)\n",
    "    return r"
   ]
  },
  {
   "cell_type": "markdown",
   "metadata": {},
   "source": [
    "# Cleared"
   ]
  },
  {
   "cell_type": "code",
   "execution_count": 264,
   "metadata": {},
   "outputs": [
    {
     "data": {
      "text/plain": [
       "[0.8714405360134003,\n",
       " 0.7453936348408711,\n",
       " 0.6930485762144054,\n",
       " 0.623534338358459,\n",
       " 0.5778894472361809]"
      ]
     },
     "execution_count": 264,
     "metadata": {},
     "output_type": "execute_result"
    }
   ],
   "source": [
    "Y = obj_original['CLEARED']\n",
    "X = obj_original.drop(['CLEARED'],axis = 1)\n",
    "X_train, X_test, Y_train, Y_test = train_test_split(X, Y, test_size = .20 ,random_state = 0)\n",
    "old = evaluate_model(X_train, Y_train, X_test, Y_test)\n",
    "old"
   ]
  },
  {
   "cell_type": "code",
   "execution_count": 265,
   "metadata": {},
   "outputs": [
    {
     "data": {
      "text/plain": [
       "[0.983, 0.79265, 0.7886, 0.64165, 0.3268]"
      ]
     },
     "execution_count": 265,
     "metadata": {},
     "output_type": "execute_result"
    }
   ],
   "source": [
    "Y = obj_sub['CLEARED']\n",
    "X = obj_sub.drop(['CLEARED'],axis = 1)\n",
    "X_train, X_test, Y_train, Y_test = train_test_split(X, Y, test_size = .20 ,random_state = 0)\n",
    "new = evaluate_model(X_train, Y_train, X_test, Y_test)\n",
    "new"
   ]
  },
  {
   "cell_type": "code",
   "execution_count": 266,
   "metadata": {},
   "outputs": [
    {
     "data": {
      "text/plain": [
       "1.0"
      ]
     },
     "execution_count": 266,
     "metadata": {},
     "output_type": "execute_result"
    }
   ],
   "source": [
    "get_SRA(new, old)"
   ]
  },
  {
   "cell_type": "markdown",
   "metadata": {},
   "source": [
    "# Collateralization"
   ]
  },
  {
   "cell_type": "markdown",
   "metadata": {},
   "source": [
    "## Performance on original data"
   ]
  },
  {
   "cell_type": "code",
   "execution_count": 267,
   "metadata": {},
   "outputs": [
    {
     "data": {
      "text/plain": [
       "[0.7286432160804021,\n",
       " 0.6612227805695142,\n",
       " 0.6298157453936348,\n",
       " 0.5079564489112228,\n",
       " 0.5954773869346733]"
      ]
     },
     "execution_count": 267,
     "metadata": {},
     "output_type": "execute_result"
    }
   ],
   "source": [
    "Y = obj_original['INDICATION_OF_COLLATERALIZATION']\n",
    "X = obj_original.drop(['INDICATION_OF_COLLATERALIZATION'],axis = 1)\n",
    "X_train, X_test, Y_train, Y_test = train_test_split(X, Y, test_size = .20 ,random_state = 0)\n",
    "old = evaluate_model(X_train, Y_train, X_test, Y_test)\n",
    "old"
   ]
  },
  {
   "cell_type": "markdown",
   "metadata": {},
   "source": [
    "## Performance on sub data"
   ]
  },
  {
   "cell_type": "code",
   "execution_count": 268,
   "metadata": {},
   "outputs": [
    {
     "data": {
      "text/plain": [
       "[0.9556, 0.51195, 0.5322, 0.40935, 0.41985]"
      ]
     },
     "execution_count": 268,
     "metadata": {},
     "output_type": "execute_result"
    }
   ],
   "source": [
    "Y = obj_sub['INDICATION_OF_COLLATERALIZATION']\n",
    "X = obj_sub.drop(['INDICATION_OF_COLLATERALIZATION'],axis = 1)\n",
    "X_train, X_test, Y_train, Y_test = train_test_split(X, Y, test_size = .20 ,random_state = 0)\n",
    "new = evaluate_model(X_train, Y_train, X_test, Y_test)\n",
    "new"
   ]
  },
  {
   "cell_type": "code",
   "execution_count": 269,
   "metadata": {},
   "outputs": [
    {
     "data": {
      "text/plain": [
       "0.9"
      ]
     },
     "execution_count": 269,
     "metadata": {},
     "output_type": "execute_result"
    }
   ],
   "source": [
    "get_SRA(new, old)"
   ]
  },
  {
   "cell_type": "markdown",
   "metadata": {},
   "source": [
    "# Taxonomy"
   ]
  },
  {
   "cell_type": "markdown",
   "metadata": {},
   "source": [
    "## Performance on original data"
   ]
  },
  {
   "cell_type": "code",
   "execution_count": 271,
   "metadata": {},
   "outputs": [
    {
     "data": {
      "text/plain": [
       "[0.9870184254606366,\n",
       " 0.7177554438860971,\n",
       " 0.6959798994974874,\n",
       " 0.7223618090452262,\n",
       " 0.6633165829145728]"
      ]
     },
     "execution_count": 271,
     "metadata": {},
     "output_type": "execute_result"
    }
   ],
   "source": [
    "Y = obj_original['TAXONOMY']\n",
    "X = obj_original.drop(['TAXONOMY'],axis = 1)\n",
    "X_train, X_test, Y_train, Y_test = train_test_split(X, Y, test_size = .20 ,random_state = 0)\n",
    "old = evaluate_model(X_train, Y_train, X_test, Y_test)\n",
    "old"
   ]
  },
  {
   "cell_type": "markdown",
   "metadata": {},
   "source": [
    "## Performance on sub data"
   ]
  },
  {
   "cell_type": "code",
   "execution_count": 272,
   "metadata": {},
   "outputs": [
    {
     "data": {
      "text/plain": [
       "[0.9945, 0.7822, 0.6422, 0.56365, 0.7501]"
      ]
     },
     "execution_count": 272,
     "metadata": {},
     "output_type": "execute_result"
    }
   ],
   "source": [
    "Y = obj_sub['TAXONOMY']\n",
    "X = obj_sub.drop(['TAXONOMY'],axis = 1)\n",
    "X_train, X_test, Y_train, Y_test = train_test_split(X, Y, test_size = .20 ,random_state = 0)\n",
    "new = evaluate_model(X_train, Y_train, X_test, Y_test)\n",
    "new"
   ]
  },
  {
   "cell_type": "code",
   "execution_count": 273,
   "metadata": {},
   "outputs": [
    {
     "data": {
      "text/plain": [
       "0.6"
      ]
     },
     "execution_count": 273,
     "metadata": {},
     "output_type": "execute_result"
    }
   ],
   "source": [
    "get_SRA(new, old)"
   ]
  },
  {
   "cell_type": "markdown",
   "metadata": {},
   "source": [
    "## PRICE_FORMING_CONTINUATION_DATA"
   ]
  },
  {
   "cell_type": "code",
   "execution_count": 277,
   "metadata": {},
   "outputs": [
    {
     "data": {
      "text/plain": [
       "[0.8835845896147404,\n",
       " 0.8609715242881072,\n",
       " 0.8572026800670016,\n",
       " 0.7713567839195979,\n",
       " 0.5251256281407035]"
      ]
     },
     "execution_count": 277,
     "metadata": {},
     "output_type": "execute_result"
    }
   ],
   "source": [
    "Y = obj_original['PRICE_FORMING_CONTINUATION_DATA']\n",
    "X = obj_original.drop(['PRICE_FORMING_CONTINUATION_DATA'],axis = 1)\n",
    "X_train, X_test, Y_train, Y_test = train_test_split(X, Y, test_size = .20 ,random_state = 0)\n",
    "old = evaluate_model(X_train, Y_train, X_test, Y_test)\n",
    "old"
   ]
  },
  {
   "cell_type": "code",
   "execution_count": 278,
   "metadata": {},
   "outputs": [
    {
     "data": {
      "text/plain": [
       "[0.97555, 0.7603, 0.72785, 0.40145, 0.5215]"
      ]
     },
     "execution_count": 278,
     "metadata": {},
     "output_type": "execute_result"
    }
   ],
   "source": [
    "Y = obj_sub['PRICE_FORMING_CONTINUATION_DATA']\n",
    "X = obj_sub.drop(['PRICE_FORMING_CONTINUATION_DATA'],axis = 1)\n",
    "X_train, X_test, Y_train, Y_test = train_test_split(X, Y, test_size = .20 ,random_state = 0)\n",
    "new = evaluate_model(X_train, Y_train, X_test, Y_test)\n",
    "new"
   ]
  },
  {
   "cell_type": "code",
   "execution_count": 279,
   "metadata": {},
   "outputs": [
    {
     "data": {
      "text/plain": [
       "0.9"
      ]
     },
     "execution_count": 279,
     "metadata": {},
     "output_type": "execute_result"
    }
   ],
   "source": [
    "get_SRA(new, old)"
   ]
  },
  {
   "cell_type": "markdown",
   "metadata": {},
   "source": [
    "# Action"
   ]
  },
  {
   "cell_type": "code",
   "execution_count": 281,
   "metadata": {},
   "outputs": [
    {
     "data": {
      "text/plain": [
       "[0.8232830820770519,\n",
       " 0.7747068676716918,\n",
       " 0.7935510887772195,\n",
       " 0.5866834170854272,\n",
       " 0.6582914572864321]"
      ]
     },
     "execution_count": 281,
     "metadata": {},
     "output_type": "execute_result"
    }
   ],
   "source": [
    "Y = obj_original['ACTION']\n",
    "X = obj_original.drop(['ACTION'],axis = 1)\n",
    "X_train, X_test, Y_train, Y_test = train_test_split(X, Y, test_size = .20 ,random_state = 0)\n",
    "old = evaluate_model(X_train, Y_train, X_test, Y_test)\n",
    "old"
   ]
  },
  {
   "cell_type": "code",
   "execution_count": 282,
   "metadata": {},
   "outputs": [
    {
     "data": {
      "text/plain": [
       "[0.993, 0.79815, 0.78355, 0.68255, 0.6751]"
      ]
     },
     "execution_count": 282,
     "metadata": {},
     "output_type": "execute_result"
    }
   ],
   "source": [
    "Y = obj_sub['ACTION']\n",
    "X = obj_sub.drop(['ACTION'],axis = 1)\n",
    "X_train, X_test, Y_train, Y_test = train_test_split(X, Y, test_size = .20 ,random_state = 0)\n",
    "new = evaluate_model(X_train, Y_train, X_test, Y_test)\n",
    "new"
   ]
  },
  {
   "cell_type": "code",
   "execution_count": 283,
   "metadata": {},
   "outputs": [
    {
     "data": {
      "text/plain": [
       "0.8"
      ]
     },
     "execution_count": 283,
     "metadata": {},
     "output_type": "execute_result"
    }
   ],
   "source": [
    "get_SRA(new, old)"
   ]
  },
  {
   "cell_type": "markdown",
   "metadata": {},
   "source": [
    "# check duplication"
   ]
  },
  {
   "cell_type": "code",
   "execution_count": 79,
   "metadata": {},
   "outputs": [
    {
     "data": {
      "text/plain": [
       "718882"
      ]
     },
     "execution_count": 79,
     "metadata": {},
     "output_type": "execute_result"
    }
   ],
   "source": [
    "sum(data.duplicated(subset=None, keep='first'))"
   ]
  },
  {
   "cell_type": "code",
   "execution_count": 89,
   "metadata": {},
   "outputs": [
    {
     "data": {
      "text/plain": [
       "719215"
      ]
     },
     "execution_count": 89,
     "metadata": {},
     "output_type": "execute_result"
    }
   ],
   "source": [
    "sum(data.duplicated(['ACTION', 'CLEARED', 'INDICATION_OF_COLLATERALIZATION', 'TAXONOMY', 'PRICE_FORMING_CONTINUATION_DATA']))\n"
   ]
  },
  {
   "cell_type": "code",
   "execution_count": 90,
   "metadata": {},
   "outputs": [
    {
     "data": {
      "text/plain": [
       "719283"
      ]
     },
     "execution_count": 90,
     "metadata": {},
     "output_type": "execute_result"
    }
   ],
   "source": [
    "data.shape[0]"
   ]
  },
  {
   "cell_type": "code",
   "execution_count": 94,
   "metadata": {},
   "outputs": [
    {
     "data": {
      "text/plain": [
       "6151"
      ]
     },
     "execution_count": 94,
     "metadata": {},
     "output_type": "execute_result"
    }
   ],
   "source": [
    "sum(original.duplicated())"
   ]
  },
  {
   "cell_type": "code",
   "execution_count": 95,
   "metadata": {},
   "outputs": [
    {
     "data": {
      "text/plain": [
       "0.5153317694369973"
      ]
     },
     "execution_count": 95,
     "metadata": {},
     "output_type": "execute_result"
    }
   ],
   "source": [
    "6151/11936"
   ]
  },
  {
   "cell_type": "code",
   "execution_count": 91,
   "metadata": {},
   "outputs": [
    {
     "data": {
      "text/plain": [
       "11853"
      ]
     },
     "execution_count": 91,
     "metadata": {},
     "output_type": "execute_result"
    }
   ],
   "source": [
    "sum(original.duplicated(['ACTION', 'CLEARED', 'INDICATION_OF_COLLATERALIZATION', 'TAXONOMY', 'PRICE_FORMING_CONTINUATION_DATA']))\n"
   ]
  },
  {
   "cell_type": "code",
   "execution_count": 92,
   "metadata": {},
   "outputs": [
    {
     "data": {
      "text/plain": [
       "11936"
      ]
     },
     "execution_count": 92,
     "metadata": {},
     "output_type": "execute_result"
    }
   ],
   "source": [
    "original.shape[0]"
   ]
  },
  {
   "cell_type": "code",
   "execution_count": 93,
   "metadata": {},
   "outputs": [
    {
     "data": {
      "text/plain": [
       "0.9930462466487936"
      ]
     },
     "execution_count": 93,
     "metadata": {},
     "output_type": "execute_result"
    }
   ],
   "source": [
    "11853/11936"
   ]
  },
  {
   "cell_type": "code",
   "execution_count": null,
   "metadata": {},
   "outputs": [],
   "source": []
  },
  {
   "cell_type": "code",
   "execution_count": 73,
   "metadata": {},
   "outputs": [
    {
     "data": {
      "text/plain": [
       "<matplotlib.axes._subplots.AxesSubplot at 0x1205d9940>"
      ]
     },
     "execution_count": 73,
     "metadata": {},
     "output_type": "execute_result"
    },
    {
     "data": {
      "image/png": "[encoded data removed]",
      "text/plain": [
       "<Figure size 432x288 with 1 Axes>"
      ]
     },
     "metadata": {
      "needs_background": "light"
     },
     "output_type": "display_data"
    }
   ],
   "source": [
    "pd.Series(svm.coef_[0], index=X_train.columns).nlargest(10).plot(kind='barh')"
   ]
  }
 ],
 "metadata": {
  "kernelspec": {
   "display_name": "Python 3",
   "language": "python",
   "name": "python3"
  },
  "language_info": {
   "codemirror_mode": {
    "name": "ipython",
    "version": 3
   },
   "file_extension": ".py",
   "mimetype": "text/x-python",
   "name": "python",
   "nbconvert_exporter": "python",
   "pygments_lexer": "ipython3",
   "version": "3.7.2"
  }
 },
 "nbformat": 4,
 "nbformat_minor": 2
}
