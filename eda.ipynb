{
 "cells": [
  {
   "cell_type": "code",
   "execution_count": 1,
   "metadata": {},
   "outputs": [],
   "source": [
    "import pandas as pd"
   ]
  },
  {
   "cell_type": "code",
   "execution_count": 39,
   "metadata": {},
   "outputs": [],
   "source": [
    "data = pd.read_csv('clean_version2.csv',dtype = {'PRICE_NOTATION':'float','ROUNDED_NOTIONAL_AMOUNT_1':'float'})\n"
   ]
  },
  {
   "cell_type": "code",
   "execution_count": 40,
   "metadata": {},
   "outputs": [],
   "source": [
    "data.drop(['Unnamed: 0'], axis = 1, inplace = True)"
   ]
  },
  {
   "cell_type": "code",
   "execution_count": 41,
   "metadata": {},
   "outputs": [
    {
     "data": {
      "text/html": [
       "<div>\n",
       "<style scoped>\n",
       "    .dataframe tbody tr th:only-of-type {\n",
       "        vertical-align: middle;\n",
       "    }\n",
       "\n",
       "    .dataframe tbody tr th {\n",
       "        vertical-align: top;\n",
       "    }\n",
       "\n",
       "    .dataframe thead th {\n",
       "        text-align: right;\n",
       "    }\n",
       "</style>\n",
       "<table border=\"1\" class=\"dataframe\">\n",
       "  <thead>\n",
       "    <tr style=\"text-align: right;\">\n",
       "      <th></th>\n",
       "      <th>ACTION</th>\n",
       "      <th>CLEARED</th>\n",
       "      <th>INDICATION_OF_COLLATERALIZATION</th>\n",
       "      <th>TAXONOMY</th>\n",
       "      <th>PRICE_FORMING_CONTINUATION_DATA</th>\n",
       "      <th>PRICE_NOTATION</th>\n",
       "      <th>ROUNDED_NOTIONAL_AMOUNT_1</th>\n",
       "    </tr>\n",
       "  </thead>\n",
       "  <tbody>\n",
       "    <tr>\n",
       "      <th>0</th>\n",
       "      <td>NEW</td>\n",
       "      <td>U</td>\n",
       "      <td>UC</td>\n",
       "      <td>Credit:Index:CDX:CDXIG</td>\n",
       "      <td>Trade</td>\n",
       "      <td>1.00</td>\n",
       "      <td>100.0</td>\n",
       "    </tr>\n",
       "    <tr>\n",
       "      <th>1</th>\n",
       "      <td>NEW</td>\n",
       "      <td>U</td>\n",
       "      <td>PC</td>\n",
       "      <td>Credit:Index:CDX:CDXIG</td>\n",
       "      <td>Trade</td>\n",
       "      <td>1.00</td>\n",
       "      <td>30.0</td>\n",
       "    </tr>\n",
       "    <tr>\n",
       "      <th>2</th>\n",
       "      <td>CORRECT</td>\n",
       "      <td>U</td>\n",
       "      <td>PC</td>\n",
       "      <td>Credit:Index:CDX:CDXIG</td>\n",
       "      <td>Trade</td>\n",
       "      <td>1.00</td>\n",
       "      <td>30.0</td>\n",
       "    </tr>\n",
       "    <tr>\n",
       "      <th>3</th>\n",
       "      <td>NEW</td>\n",
       "      <td>U</td>\n",
       "      <td>PC</td>\n",
       "      <td>Credit:Index:CDX:CDXIG</td>\n",
       "      <td>Novation</td>\n",
       "      <td>1.24</td>\n",
       "      <td>25.0</td>\n",
       "    </tr>\n",
       "    <tr>\n",
       "      <th>4</th>\n",
       "      <td>CORRECT</td>\n",
       "      <td>C</td>\n",
       "      <td>UC</td>\n",
       "      <td>Credit:Index:CDX:CDXHY</td>\n",
       "      <td>Trade</td>\n",
       "      <td>1.00</td>\n",
       "      <td>5.0</td>\n",
       "    </tr>\n",
       "  </tbody>\n",
       "</table>\n",
       "</div>"
      ],
      "text/plain": [
       "    ACTION CLEARED INDICATION_OF_COLLATERALIZATION                TAXONOMY  \\\n",
       "0      NEW       U                              UC  Credit:Index:CDX:CDXIG   \n",
       "1      NEW       U                              PC  Credit:Index:CDX:CDXIG   \n",
       "2  CORRECT       U                              PC  Credit:Index:CDX:CDXIG   \n",
       "3      NEW       U                              PC  Credit:Index:CDX:CDXIG   \n",
       "4  CORRECT       C                              UC  Credit:Index:CDX:CDXHY   \n",
       "\n",
       "  PRICE_FORMING_CONTINUATION_DATA  PRICE_NOTATION  ROUNDED_NOTIONAL_AMOUNT_1  \n",
       "0                           Trade            1.00                      100.0  \n",
       "1                           Trade            1.00                       30.0  \n",
       "2                           Trade            1.00                       30.0  \n",
       "3                        Novation            1.24                       25.0  \n",
       "4                           Trade            1.00                        5.0  "
      ]
     },
     "execution_count": 41,
     "metadata": {},
     "output_type": "execute_result"
    }
   ],
   "source": [
    "data.head()"
   ]
  },
  {
   "cell_type": "code",
   "execution_count": 79,
   "metadata": {},
   "outputs": [
    {
     "data": {
      "text/plain": [
       "ACTION\n",
       "CANCEL       35\n",
       "CORRECT    2997\n",
       "NEW        8904\n",
       "Name: ACTION, dtype: int64"
      ]
     },
     "execution_count": 79,
     "metadata": {},
     "output_type": "execute_result"
    }
   ],
   "source": [
    "data.groupby('ACTION')['ACTION'].count()"
   ]
  },
  {
   "cell_type": "code",
   "execution_count": 80,
   "metadata": {},
   "outputs": [
    {
     "data": {
      "text/plain": [
       "0.0029323056300268094"
      ]
     },
     "execution_count": 80,
     "metadata": {},
     "output_type": "execute_result"
    }
   ],
   "source": [
    "35/data.shape[0]"
   ]
  },
  {
   "cell_type": "code",
   "execution_count": 42,
   "metadata": {},
   "outputs": [
    {
     "data": {
      "text/plain": [
       "INDICATION_OF_COLLATERALIZATION\n",
       "FC    3060\n",
       "OC      57\n",
       "PC    3262\n",
       "UC    5557\n",
       "Name: INDICATION_OF_COLLATERALIZATION, dtype: int64"
      ]
     },
     "execution_count": 42,
     "metadata": {},
     "output_type": "execute_result"
    }
   ],
   "source": [
    "data.groupby('INDICATION_OF_COLLATERALIZATION')['INDICATION_OF_COLLATERALIZATION'].count()"
   ]
  },
  {
   "cell_type": "code",
   "execution_count": 167,
   "metadata": {},
   "outputs": [],
   "source": [
    "data = data[data['INDICATION_OF_COLLATERALIZATION'] != 'OC']"
   ]
  },
  {
   "cell_type": "code",
   "execution_count": 168,
   "metadata": {},
   "outputs": [
    {
     "data": {
      "text/plain": [
       "INDICATION_OF_COLLATERALIZATION\n",
       "FC    3060\n",
       "PC    3262\n",
       "UC    5557\n",
       "Name: INDICATION_OF_COLLATERALIZATION, dtype: int64"
      ]
     },
     "execution_count": 168,
     "metadata": {},
     "output_type": "execute_result"
    }
   ],
   "source": [
    "data.groupby('INDICATION_OF_COLLATERALIZATION')['INDICATION_OF_COLLATERALIZATION'].count()"
   ]
  },
  {
   "cell_type": "code",
   "execution_count": 43,
   "metadata": {},
   "outputs": [
    {
     "data": {
      "text/plain": [
       "TAXONOMY\n",
       "Credit:Index:CDX:CDXHY    5064\n",
       "Credit:Index:CDX:CDXIG    6872\n",
       "Name: TAXONOMY, dtype: int64"
      ]
     },
     "execution_count": 43,
     "metadata": {},
     "output_type": "execute_result"
    }
   ],
   "source": [
    "data.groupby('TAXONOMY')['TAXONOMY'].count()"
   ]
  },
  {
   "cell_type": "code",
   "execution_count": 44,
   "metadata": {
    "scrolled": true
   },
   "outputs": [
    {
     "data": {
      "text/plain": [
       "PRICE_FORMING_CONTINUATION_DATA\n",
       "Amendment               857\n",
       "Novation                456\n",
       "Partialtermination      441\n",
       "Trade                 10182\n",
       "Name: PRICE_FORMING_CONTINUATION_DATA, dtype: int64"
      ]
     },
     "execution_count": 44,
     "metadata": {},
     "output_type": "execute_result"
    }
   ],
   "source": [
    "data.groupby('PRICE_FORMING_CONTINUATION_DATA')['PRICE_FORMING_CONTINUATION_DATA'].count()"
   ]
  },
  {
   "cell_type": "code",
   "execution_count": 45,
   "metadata": {},
   "outputs": [
    {
     "data": {
      "text/html": [
       "<div>\n",
       "<style scoped>\n",
       "    .dataframe tbody tr th:only-of-type {\n",
       "        vertical-align: middle;\n",
       "    }\n",
       "\n",
       "    .dataframe tbody tr th {\n",
       "        vertical-align: top;\n",
       "    }\n",
       "\n",
       "    .dataframe thead th {\n",
       "        text-align: right;\n",
       "    }\n",
       "</style>\n",
       "<table border=\"1\" class=\"dataframe\">\n",
       "  <thead>\n",
       "    <tr style=\"text-align: right;\">\n",
       "      <th></th>\n",
       "      <th>ACTION</th>\n",
       "      <th>CLEARED</th>\n",
       "      <th>INDICATION_OF_COLLATERALIZATION</th>\n",
       "      <th>TAXONOMY</th>\n",
       "      <th>PRICE_FORMING_CONTINUATION_DATA</th>\n",
       "      <th>PRICE_NOTATION</th>\n",
       "      <th>ROUNDED_NOTIONAL_AMOUNT_1</th>\n",
       "    </tr>\n",
       "  </thead>\n",
       "  <tbody>\n",
       "    <tr>\n",
       "      <th>0</th>\n",
       "      <td>NEW</td>\n",
       "      <td>U</td>\n",
       "      <td>UC</td>\n",
       "      <td>Credit:Index:CDX:CDXIG</td>\n",
       "      <td>Trade</td>\n",
       "      <td>1.00</td>\n",
       "      <td>100.0</td>\n",
       "    </tr>\n",
       "    <tr>\n",
       "      <th>1</th>\n",
       "      <td>NEW</td>\n",
       "      <td>U</td>\n",
       "      <td>PC</td>\n",
       "      <td>Credit:Index:CDX:CDXIG</td>\n",
       "      <td>Trade</td>\n",
       "      <td>1.00</td>\n",
       "      <td>30.0</td>\n",
       "    </tr>\n",
       "    <tr>\n",
       "      <th>2</th>\n",
       "      <td>CORRECT</td>\n",
       "      <td>U</td>\n",
       "      <td>PC</td>\n",
       "      <td>Credit:Index:CDX:CDXIG</td>\n",
       "      <td>Trade</td>\n",
       "      <td>1.00</td>\n",
       "      <td>30.0</td>\n",
       "    </tr>\n",
       "    <tr>\n",
       "      <th>3</th>\n",
       "      <td>NEW</td>\n",
       "      <td>U</td>\n",
       "      <td>PC</td>\n",
       "      <td>Credit:Index:CDX:CDXIG</td>\n",
       "      <td>Novation</td>\n",
       "      <td>1.24</td>\n",
       "      <td>25.0</td>\n",
       "    </tr>\n",
       "    <tr>\n",
       "      <th>4</th>\n",
       "      <td>CORRECT</td>\n",
       "      <td>C</td>\n",
       "      <td>UC</td>\n",
       "      <td>Credit:Index:CDX:CDXHY</td>\n",
       "      <td>Trade</td>\n",
       "      <td>1.00</td>\n",
       "      <td>5.0</td>\n",
       "    </tr>\n",
       "  </tbody>\n",
       "</table>\n",
       "</div>"
      ],
      "text/plain": [
       "    ACTION CLEARED INDICATION_OF_COLLATERALIZATION                TAXONOMY  \\\n",
       "0      NEW       U                              UC  Credit:Index:CDX:CDXIG   \n",
       "1      NEW       U                              PC  Credit:Index:CDX:CDXIG   \n",
       "2  CORRECT       U                              PC  Credit:Index:CDX:CDXIG   \n",
       "3      NEW       U                              PC  Credit:Index:CDX:CDXIG   \n",
       "4  CORRECT       C                              UC  Credit:Index:CDX:CDXHY   \n",
       "\n",
       "  PRICE_FORMING_CONTINUATION_DATA  PRICE_NOTATION  ROUNDED_NOTIONAL_AMOUNT_1  \n",
       "0                           Trade            1.00                      100.0  \n",
       "1                           Trade            1.00                       30.0  \n",
       "2                           Trade            1.00                       30.0  \n",
       "3                        Novation            1.24                       25.0  \n",
       "4                           Trade            1.00                        5.0  "
      ]
     },
     "execution_count": 45,
     "metadata": {},
     "output_type": "execute_result"
    }
   ],
   "source": [
    "data.head()"
   ]
  },
  {
   "cell_type": "code",
   "execution_count": 46,
   "metadata": {},
   "outputs": [
    {
     "data": {
      "text/html": [
       "<div>\n",
       "<style scoped>\n",
       "    .dataframe tbody tr th:only-of-type {\n",
       "        vertical-align: middle;\n",
       "    }\n",
       "\n",
       "    .dataframe tbody tr th {\n",
       "        vertical-align: top;\n",
       "    }\n",
       "\n",
       "    .dataframe thead th {\n",
       "        text-align: right;\n",
       "    }\n",
       "</style>\n",
       "<table border=\"1\" class=\"dataframe\">\n",
       "  <thead>\n",
       "    <tr style=\"text-align: right;\">\n",
       "      <th></th>\n",
       "      <th>ACTION</th>\n",
       "      <th>CLEARED</th>\n",
       "      <th>INDICATION_OF_COLLATERALIZATION</th>\n",
       "      <th>TAXONOMY</th>\n",
       "      <th>PRICE_FORMING_CONTINUATION_DATA</th>\n",
       "      <th>PRICE_NOTATION</th>\n",
       "      <th>ROUNDED_NOTIONAL_AMOUNT_1</th>\n",
       "    </tr>\n",
       "  </thead>\n",
       "  <tbody>\n",
       "    <tr>\n",
       "      <th>0</th>\n",
       "      <td>NEW</td>\n",
       "      <td>U</td>\n",
       "      <td>UC</td>\n",
       "      <td>IG</td>\n",
       "      <td>Trade</td>\n",
       "      <td>1.00</td>\n",
       "      <td>100.0</td>\n",
       "    </tr>\n",
       "    <tr>\n",
       "      <th>1</th>\n",
       "      <td>NEW</td>\n",
       "      <td>U</td>\n",
       "      <td>PC</td>\n",
       "      <td>IG</td>\n",
       "      <td>Trade</td>\n",
       "      <td>1.00</td>\n",
       "      <td>30.0</td>\n",
       "    </tr>\n",
       "    <tr>\n",
       "      <th>2</th>\n",
       "      <td>CORRECT</td>\n",
       "      <td>U</td>\n",
       "      <td>PC</td>\n",
       "      <td>IG</td>\n",
       "      <td>Trade</td>\n",
       "      <td>1.00</td>\n",
       "      <td>30.0</td>\n",
       "    </tr>\n",
       "    <tr>\n",
       "      <th>3</th>\n",
       "      <td>NEW</td>\n",
       "      <td>U</td>\n",
       "      <td>PC</td>\n",
       "      <td>IG</td>\n",
       "      <td>Novation</td>\n",
       "      <td>1.24</td>\n",
       "      <td>25.0</td>\n",
       "    </tr>\n",
       "    <tr>\n",
       "      <th>4</th>\n",
       "      <td>CORRECT</td>\n",
       "      <td>C</td>\n",
       "      <td>UC</td>\n",
       "      <td>HY</td>\n",
       "      <td>Trade</td>\n",
       "      <td>1.00</td>\n",
       "      <td>5.0</td>\n",
       "    </tr>\n",
       "  </tbody>\n",
       "</table>\n",
       "</div>"
      ],
      "text/plain": [
       "    ACTION CLEARED INDICATION_OF_COLLATERALIZATION TAXONOMY  \\\n",
       "0      NEW       U                              UC       IG   \n",
       "1      NEW       U                              PC       IG   \n",
       "2  CORRECT       U                              PC       IG   \n",
       "3      NEW       U                              PC       IG   \n",
       "4  CORRECT       C                              UC       HY   \n",
       "\n",
       "  PRICE_FORMING_CONTINUATION_DATA  PRICE_NOTATION  ROUNDED_NOTIONAL_AMOUNT_1  \n",
       "0                           Trade            1.00                      100.0  \n",
       "1                           Trade            1.00                       30.0  \n",
       "2                           Trade            1.00                       30.0  \n",
       "3                        Novation            1.24                       25.0  \n",
       "4                           Trade            1.00                        5.0  "
      ]
     },
     "execution_count": 46,
     "metadata": {},
     "output_type": "execute_result"
    }
   ],
   "source": [
    "data.replace({\"Credit:Index:CDX:CDXIG\":\"IG\",\"Credit:Index:CDX:CDXHY\":'HY'},inplace = True)\n",
    "data.head()"
   ]
  },
  {
   "cell_type": "code",
   "execution_count": 57,
   "metadata": {},
   "outputs": [
    {
     "data": {
      "text/plain": [
       "LabelEncoder()"
      ]
     },
     "execution_count": 57,
     "metadata": {},
     "output_type": "execute_result"
    }
   ],
   "source": [
    "from sklearn import preprocessing\n",
    "le = preprocessing.LabelEncoder()\n",
    "le.fit(data['CLEARED'])\n"
   ]
  },
  {
   "cell_type": "code",
   "execution_count": 58,
   "metadata": {},
   "outputs": [
    {
     "data": {
      "text/plain": [
       "['C', 'U']"
      ]
     },
     "execution_count": 58,
     "metadata": {},
     "output_type": "execute_result"
    }
   ],
   "source": [
    "list(le.classes_)"
   ]
  },
  {
   "cell_type": "code",
   "execution_count": 61,
   "metadata": {},
   "outputs": [
    {
     "data": {
      "text/plain": [
       "ACTION                              object\n",
       "CLEARED                             object\n",
       "INDICATION_OF_COLLATERALIZATION     object\n",
       "TAXONOMY                            object\n",
       "PRICE_FORMING_CONTINUATION_DATA     object\n",
       "PRICE_NOTATION                     float64\n",
       "ROUNDED_NOTIONAL_AMOUNT_1          float64\n",
       "dtype: object"
      ]
     },
     "execution_count": 61,
     "metadata": {},
     "output_type": "execute_result"
    }
   ],
   "source": [
    "data.dtypes"
   ]
  },
  {
   "cell_type": "code",
   "execution_count": 169,
   "metadata": {},
   "outputs": [],
   "source": [
    "obj_data = data.select_dtypes(include=['object']).copy()"
   ]
  },
  {
   "cell_type": "code",
   "execution_count": 170,
   "metadata": {},
   "outputs": [
    {
     "data": {
      "text/plain": [
       "ACTION                             category\n",
       "CLEARED                            category\n",
       "INDICATION_OF_COLLATERALIZATION    category\n",
       "TAXONOMY                           category\n",
       "PRICE_FORMING_CONTINUATION_DATA    category\n",
       "dtype: object"
      ]
     },
     "execution_count": 170,
     "metadata": {},
     "output_type": "execute_result"
    }
   ],
   "source": [
    "obj_data = obj_data.astype('category')\n",
    "obj_data.dtypes"
   ]
  },
  {
   "cell_type": "code",
   "execution_count": 171,
   "metadata": {},
   "outputs": [
    {
     "data": {
      "text/html": [
       "<div>\n",
       "<style scoped>\n",
       "    .dataframe tbody tr th:only-of-type {\n",
       "        vertical-align: middle;\n",
       "    }\n",
       "\n",
       "    .dataframe tbody tr th {\n",
       "        vertical-align: top;\n",
       "    }\n",
       "\n",
       "    .dataframe thead th {\n",
       "        text-align: right;\n",
       "    }\n",
       "</style>\n",
       "<table border=\"1\" class=\"dataframe\">\n",
       "  <thead>\n",
       "    <tr style=\"text-align: right;\">\n",
       "      <th></th>\n",
       "      <th>ACTION</th>\n",
       "      <th>CLEARED</th>\n",
       "      <th>INDICATION_OF_COLLATERALIZATION</th>\n",
       "      <th>TAXONOMY</th>\n",
       "      <th>PRICE_FORMING_CONTINUATION_DATA</th>\n",
       "    </tr>\n",
       "  </thead>\n",
       "  <tbody>\n",
       "    <tr>\n",
       "      <th>0</th>\n",
       "      <td>2</td>\n",
       "      <td>1</td>\n",
       "      <td>2</td>\n",
       "      <td>1</td>\n",
       "      <td>3</td>\n",
       "    </tr>\n",
       "    <tr>\n",
       "      <th>1</th>\n",
       "      <td>2</td>\n",
       "      <td>1</td>\n",
       "      <td>1</td>\n",
       "      <td>1</td>\n",
       "      <td>3</td>\n",
       "    </tr>\n",
       "    <tr>\n",
       "      <th>2</th>\n",
       "      <td>1</td>\n",
       "      <td>1</td>\n",
       "      <td>1</td>\n",
       "      <td>1</td>\n",
       "      <td>3</td>\n",
       "    </tr>\n",
       "    <tr>\n",
       "      <th>3</th>\n",
       "      <td>2</td>\n",
       "      <td>1</td>\n",
       "      <td>1</td>\n",
       "      <td>1</td>\n",
       "      <td>1</td>\n",
       "    </tr>\n",
       "    <tr>\n",
       "      <th>4</th>\n",
       "      <td>1</td>\n",
       "      <td>0</td>\n",
       "      <td>2</td>\n",
       "      <td>0</td>\n",
       "      <td>3</td>\n",
       "    </tr>\n",
       "  </tbody>\n",
       "</table>\n",
       "</div>"
      ],
      "text/plain": [
       "   ACTION  CLEARED  INDICATION_OF_COLLATERALIZATION  TAXONOMY  \\\n",
       "0       2        1                                2         1   \n",
       "1       2        1                                1         1   \n",
       "2       1        1                                1         1   \n",
       "3       2        1                                1         1   \n",
       "4       1        0                                2         0   \n",
       "\n",
       "   PRICE_FORMING_CONTINUATION_DATA  \n",
       "0                                3  \n",
       "1                                3  \n",
       "2                                3  \n",
       "3                                1  \n",
       "4                                3  "
      ]
     },
     "execution_count": 171,
     "metadata": {},
     "output_type": "execute_result"
    }
   ],
   "source": [
    "obj_data['ACTION'] = obj_data['ACTION'].cat.codes\n",
    "obj_data['CLEARED'] = obj_data['CLEARED'].cat.codes\n",
    "obj_data['INDICATION_OF_COLLATERALIZATION'] = obj_data['INDICATION_OF_COLLATERALIZATION'].cat.codes\n",
    "obj_data['TAXONOMY'] = obj_data['TAXONOMY'].cat.codes\n",
    "obj_data['PRICE_FORMING_CONTINUATION_DATA'] = obj_data['PRICE_FORMING_CONTINUATION_DATA'].cat.codes\n",
    "obj_data.head()"
   ]
  },
  {
   "cell_type": "code",
   "execution_count": 75,
   "metadata": {},
   "outputs": [],
   "source": [
    "obj_data['PRICE_NOTATION'] = data['PRICE_NOTATION']\n",
    "obj_data['ROUNDED_NOTIONAL_AMOUNT_1'] = data['ROUNDED_NOTIONAL_AMOUNT_1']"
   ]
  },
  {
   "cell_type": "code",
   "execution_count": 81,
   "metadata": {},
   "outputs": [
    {
     "data": {
      "text/plain": [
       "CLEARED\n",
       "0    6355\n",
       "1    5581\n",
       "Name: CLEARED, dtype: int64"
      ]
     },
     "execution_count": 81,
     "metadata": {},
     "output_type": "execute_result"
    }
   ],
   "source": [
    "obj_data.groupby(\"CLEARED\")['CLEARED'].count()"
   ]
  },
  {
   "cell_type": "code",
   "execution_count": 129,
   "metadata": {},
   "outputs": [],
   "source": [
    "from sklearn.metrics import confusion_matrix\n",
    "from sklearn.metrics import accuracy_score\n",
    "from sklearn.svm import SVC"
   ]
  },
  {
   "cell_type": "code",
   "execution_count": 139,
   "metadata": {},
   "outputs": [
    {
     "name": "stdout",
     "output_type": "stream",
     "text": [
      "0.8496649916247906\n",
      "[[1034  240]\n",
      " [ 119  995]]\n"
     ]
    }
   ],
   "source": [
    "Y = obj_data['CLEARED']\n",
    "X = obj_data.drop(['CLEARED'],axis = 1)\n",
    "X_train, X_test, Y_train, Y_test = train_test_split(X, Y, test_size = .20 ,random_state = 0)\n",
    "clf = SVC() \n",
    "clf.fit(X_train, Y_train)\n",
    "Y_pred = clf.predict(X_test)\n",
    "print(accuracy_score(Y_test,Y_pred))\n",
    "print(confusion_matrix(Y_test, Y_pred))"
   ]
  },
  {
   "cell_type": "code",
   "execution_count": 140,
   "metadata": {},
   "outputs": [
    {
     "data": {
      "text/plain": [
       "0.6520100502512562"
      ]
     },
     "execution_count": 140,
     "metadata": {},
     "output_type": "execute_result"
    }
   ],
   "source": [
    "svm = LinearSVC()\n",
    "svm.fit(X_train, Y_train)\n",
    "Y_pred = svm.predict(X_test)\n",
    "accuracy_score(Y_test,Y_pred)"
   ]
  },
  {
   "cell_type": "code",
   "execution_count": 141,
   "metadata": {},
   "outputs": [
    {
     "data": {
      "text/plain": [
       "<matplotlib.axes._subplots.AxesSubplot at 0x1a19d5c0f0>"
      ]
     },
     "execution_count": 141,
     "metadata": {},
     "output_type": "execute_result"
    },
    {
     "data": {
      "image/png": "[encoded data removed]",
      "text/plain": [
       "<Figure size 432x288 with 1 Axes>"
      ]
     },
     "metadata": {
      "needs_background": "light"
     },
     "output_type": "display_data"
    }
   ],
   "source": [
    "pd.Series(svm.coef_[0], index=X_train.columns).nlargest(10).plot(kind='barh')"
   ]
  },
  {
   "cell_type": "code",
   "execution_count": 142,
   "metadata": {},
   "outputs": [
    {
     "data": {
      "text/plain": [
       "TAXONOMY\n",
       "0    5064\n",
       "1    6872\n",
       "Name: TAXONOMY, dtype: int64"
      ]
     },
     "execution_count": 142,
     "metadata": {},
     "output_type": "execute_result"
    }
   ],
   "source": [
    "obj_data.groupby(\"TAXONOMY\")['TAXONOMY'].count()"
   ]
  },
  {
   "cell_type": "code",
   "execution_count": 143,
   "metadata": {},
   "outputs": [
    {
     "name": "stdout",
     "output_type": "stream",
     "text": [
      "0.9317420435510888\n",
      "[[ 929   57]\n",
      " [ 106 1296]]\n"
     ]
    }
   ],
   "source": [
    "Y = obj_data['TAXONOMY']\n",
    "X = obj_data.drop(['TAXONOMY'],axis = 1)\n",
    "X_train, X_test, Y_train, Y_test = train_test_split(X, Y, test_size = .20 ,random_state = 0)\n",
    "clf = SVC() \n",
    "clf.fit(X_train, Y_train)\n",
    "Y_pred = clf.predict(X_test)\n",
    "print(accuracy_score(Y_test,Y_pred))\n",
    "print(confusion_matrix(Y_test, Y_pred))"
   ]
  },
  {
   "cell_type": "code",
   "execution_count": 144,
   "metadata": {},
   "outputs": [
    {
     "data": {
      "text/plain": [
       "0.7307370184254607"
      ]
     },
     "execution_count": 144,
     "metadata": {},
     "output_type": "execute_result"
    }
   ],
   "source": [
    "svm = LinearSVC()\n",
    "svm.fit(X_train, Y_train)\n",
    "Y_pred = svm.predict(X_test)\n",
    "accuracy_score(Y_test,Y_pred)"
   ]
  },
  {
   "cell_type": "code",
   "execution_count": 145,
   "metadata": {},
   "outputs": [
    {
     "data": {
      "text/plain": [
       "<matplotlib.axes._subplots.AxesSubplot at 0x1a1bf10ac8>"
      ]
     },
     "execution_count": 145,
     "metadata": {},
     "output_type": "execute_result"
    },
    {
     "data": {
      "image/png": "[encoded data removed]",
      "text/plain": [
       "<Figure size 432x288 with 1 Axes>"
      ]
     },
     "metadata": {
      "needs_background": "light"
     },
     "output_type": "display_data"
    }
   ],
   "source": [
    "pd.Series(svm.coef_[0], index=X_train.columns).nlargest(10).plot(kind='barh')"
   ]
  },
  {
   "cell_type": "code",
   "execution_count": 172,
   "metadata": {},
   "outputs": [
    {
     "name": "stdout",
     "output_type": "stream",
     "text": [
      "0.7011784511784511\n",
      "[[328 153 147]\n",
      " [130 369 133]\n",
      " [ 36 111 969]]\n"
     ]
    }
   ],
   "source": [
    "Y = obj_data['INDICATION_OF_COLLATERALIZATION']\n",
    "X = obj_data.drop(['INDICATION_OF_COLLATERALIZATION'],axis = 1)\n",
    "X_train, X_test, Y_train, Y_test = train_test_split(X, Y, test_size = .20 ,random_state = 0)\n",
    "clf = SVC() \n",
    "clf.fit(X_train, Y_train)\n",
    "Y_pred = clf.predict(X_test)\n",
    "print(accuracy_score(Y_test,Y_pred))\n",
    "print(confusion_matrix(Y_test, Y_pred))"
   ]
  },
  {
   "cell_type": "code",
   "execution_count": 159,
   "metadata": {},
   "outputs": [
    {
     "data": {
      "text/plain": [
       "0.6557788944723618"
      ]
     },
     "execution_count": 159,
     "metadata": {},
     "output_type": "execute_result"
    }
   ],
   "source": [
    "from sklearn.naive_bayes import GaussianNB\n",
    "\n",
    "#Create a Gaussian Classifier\n",
    "gnb = GaussianNB()\n",
    "\n",
    "#Train the model using the training sets\n",
    "gnb.fit(X_train, Y_train)\n",
    "\n",
    "#Predict the response for test dataset\n",
    "Y_pred = gnb.predict(X_test)\n",
    "accuracy_score(Y_test,Y_pred)"
   ]
  },
  {
   "cell_type": "code",
   "execution_count": 160,
   "metadata": {},
   "outputs": [
    {
     "data": {
      "text/plain": [
       "0.6595477386934674"
      ]
     },
     "execution_count": 160,
     "metadata": {},
     "output_type": "execute_result"
    }
   ],
   "source": [
    "from sklearn.naive_bayes import MultinomialNB\n",
    "\n",
    "# create a multinomial classifier\n",
    "mnb = MultinomialNB()\n",
    "mnb.fit(X_train, Y_train)\n",
    "\n",
    "#Predict the response for test dataset\n",
    "Y_pred = mnb.predict(X_test)\n",
    "accuracy_score(Y_test,Y_pred)"
   ]
  },
  {
   "cell_type": "code",
   "execution_count": 157,
   "metadata": {},
   "outputs": [
    {
     "name": "stdout",
     "output_type": "stream",
     "text": [
      "0.8572026800670016\n",
      "[[   0    0    0  175]\n",
      " [   0    0    0   75]\n",
      " [   0    0    0   91]\n",
      " [   0    0    0 2047]]\n"
     ]
    }
   ],
   "source": [
    "Y = obj_data['PRICE_FORMING_CONTINUATION_DATA']\n",
    "X = obj_data.drop(['PRICE_FORMING_CONTINUATION_DATA'],axis = 1)\n",
    "X_train, X_test, Y_train, Y_test = train_test_split(X, Y, test_size = .20 ,random_state = 0)\n",
    "clf = SVC() \n",
    "clf.fit(X_train, Y_train)\n",
    "Y_pred = clf.predict(X_test)\n",
    "print(accuracy_score(Y_test,Y_pred))\n",
    "print(confusion_matrix(Y_test, Y_pred))"
   ]
  },
  {
   "cell_type": "code",
   "execution_count": 165,
   "metadata": {},
   "outputs": [
    {
     "name": "stderr",
     "output_type": "stream",
     "text": [
      "/Users/shuang/anaconda3/lib/python3.7/site-packages/scipy/stats/stats.py:1713: FutureWarning: Using a non-tuple sequence for multidimensional indexing is deprecated; use `arr[tuple(seq)]` instead of `arr[seq]`. In the future this will be interpreted as an array index, `arr[np.array(seq)]`, which will result either in an error or a different result.\n",
      "  return np.add.reduce(sorted[indexer] * weights, axis=axis) / sumval\n"
     ]
    },
    {
     "data": {
      "image/png": "[encoded data removed]",
      "text/plain": [
       "<Figure size 432x288 with 1 Axes>"
      ]
     },
     "metadata": {
      "needs_background": "light"
     },
     "output_type": "display_data"
    }
   ],
   "source": [
    "sns.distplot(data[data['CLEARED'] == 'C']['PRICE_NOTATION'])"
   ]
  },
  {
   "cell_type": "code",
   "execution_count": 166,
   "metadata": {},
   "outputs": [
    {
     "name": "stderr",
     "output_type": "stream",
     "text": [
      "/Users/shuang/anaconda3/lib/python3.7/site-packages/scipy/stats/stats.py:1713: FutureWarning: Using a non-tuple sequence for multidimensional indexing is deprecated; use `arr[tuple(seq)]` instead of `arr[seq]`. In the future this will be interpreted as an array index, `arr[np.array(seq)]`, which will result either in an error or a different result.\n",
      "  return np.add.reduce(sorted[indexer] * weights, axis=axis) / sumval\n"
     ]
    },
    {
     "data": {
      "text/plain": [
       "<matplotlib.axes._subplots.AxesSubplot at 0x1a1c046978>"
      ]
     },
     "execution_count": 166,
     "metadata": {},
     "output_type": "execute_result"
    },
    {
     "data": {
      "image/png": "[encoded data removed]",
      "text/plain": [
       "<Figure size 432x288 with 1 Axes>"
      ]
     },
     "metadata": {
      "needs_background": "light"
     },
     "output_type": "display_data"
    }
   ],
   "source": [
    "sns.distplot(data[data['CLEARED'] == 'U']['PRICE_NOTATION'])"
   ]
  },
  {
   "cell_type": "code",
   "execution_count": 146,
   "metadata": {},
   "outputs": [
    {
     "data": {
      "text/plain": [
       "0.6633165829145728"
      ]
     },
     "execution_count": 146,
     "metadata": {},
     "output_type": "execute_result"
    }
   ],
   "source": [
    "from sklearn.naive_bayes import GaussianNB\n",
    "\n",
    "#Create a Gaussian Classifier\n",
    "gnb = GaussianNB()\n",
    "\n",
    "#Train the model using the training sets\n",
    "gnb.fit(X_train, Y_train)\n",
    "\n",
    "#Predict the response for test dataset\n",
    "Y_pred = gnb.predict(X_test)\n",
    "accuracy_score(Y_test,Y_pred)"
   ]
  },
  {
   "cell_type": "code",
   "execution_count": 147,
   "metadata": {},
   "outputs": [
    {
     "data": {
      "text/plain": [
       "0.7223618090452262"
      ]
     },
     "execution_count": 147,
     "metadata": {},
     "output_type": "execute_result"
    }
   ],
   "source": [
    "from sklearn.naive_bayes import MultinomialNB\n",
    "\n",
    "# create a multinomial classifier\n",
    "mnb = MultinomialNB()\n",
    "mnb.fit(X_train, Y_train)\n",
    "\n",
    "#Predict the response for test dataset\n",
    "Y_pred = mnb.predict(X_test)\n",
    "accuracy_score(Y_test,Y_pred)"
   ]
  },
  {
   "cell_type": "code",
   "execution_count": 148,
   "metadata": {},
   "outputs": [
    {
     "data": {
      "text/plain": [
       "0.6055276381909548"
      ]
     },
     "execution_count": 148,
     "metadata": {},
     "output_type": "execute_result"
    }
   ],
   "source": [
    "from sklearn.naive_bayes import BernoulliNB\n",
    "\n",
    "bnb = BernoulliNB()\n",
    "bnb.fit(X_train, Y_train)\n",
    "\n",
    "Y_pred = bnb.predict(X_test)\n",
    "accuracy_score(Y_test,Y_pred)"
   ]
  },
  {
   "cell_type": "code",
   "execution_count": null,
   "metadata": {},
   "outputs": [],
   "source": []
  },
  {
   "cell_type": "code",
   "execution_count": 12,
   "metadata": {},
   "outputs": [
    {
     "data": {
      "text/html": [
       "<div>\n",
       "<style scoped>\n",
       "    .dataframe tbody tr th:only-of-type {\n",
       "        vertical-align: middle;\n",
       "    }\n",
       "\n",
       "    .dataframe tbody tr th {\n",
       "        vertical-align: top;\n",
       "    }\n",
       "\n",
       "    .dataframe thead th {\n",
       "        text-align: right;\n",
       "    }\n",
       "</style>\n",
       "<table border=\"1\" class=\"dataframe\">\n",
       "  <thead>\n",
       "    <tr style=\"text-align: right;\">\n",
       "      <th></th>\n",
       "      <th>Correct</th>\n",
       "      <th>New</th>\n",
       "      <th>U</th>\n",
       "      <th>OC</th>\n",
       "      <th>PC</th>\n",
       "      <th>UC</th>\n",
       "      <th>IG</th>\n",
       "      <th>Novation</th>\n",
       "      <th>Partialtermination</th>\n",
       "      <th>Trade</th>\n",
       "      <th>Price</th>\n",
       "      <th>Amount</th>\n",
       "    </tr>\n",
       "  </thead>\n",
       "  <tbody>\n",
       "    <tr>\n",
       "      <th>Correct</th>\n",
       "      <td>1.000000</td>\n",
       "      <td>-0.992263</td>\n",
       "      <td>-0.325392</td>\n",
       "      <td>-0.037307</td>\n",
       "      <td>-0.226759</td>\n",
       "      <td>0.390693</td>\n",
       "      <td>-0.106127</td>\n",
       "      <td>-0.078109</td>\n",
       "      <td>-0.086783</td>\n",
       "      <td>0.201035</td>\n",
       "      <td>-0.092856</td>\n",
       "      <td>-0.114414</td>\n",
       "    </tr>\n",
       "    <tr>\n",
       "      <th>New</th>\n",
       "      <td>-0.992263</td>\n",
       "      <td>1.000000</td>\n",
       "      <td>0.318884</td>\n",
       "      <td>0.037630</td>\n",
       "      <td>0.221383</td>\n",
       "      <td>-0.386379</td>\n",
       "      <td>0.103443</td>\n",
       "      <td>0.079152</td>\n",
       "      <td>0.081648</td>\n",
       "      <td>-0.198167</td>\n",
       "      <td>0.092612</td>\n",
       "      <td>0.114227</td>\n",
       "    </tr>\n",
       "    <tr>\n",
       "      <th>U</th>\n",
       "      <td>-0.325392</td>\n",
       "      <td>0.318884</td>\n",
       "      <td>1.000000</td>\n",
       "      <td>-0.052737</td>\n",
       "      <td>0.419272</td>\n",
       "      <td>-0.596612</td>\n",
       "      <td>-0.061559</td>\n",
       "      <td>-0.012452</td>\n",
       "      <td>0.206339</td>\n",
       "      <td>-0.157392</td>\n",
       "      <td>0.205197</td>\n",
       "      <td>-0.034348</td>\n",
       "    </tr>\n",
       "    <tr>\n",
       "      <th>OC</th>\n",
       "      <td>-0.037307</td>\n",
       "      <td>0.037630</td>\n",
       "      <td>-0.052737</td>\n",
       "      <td>1.000000</td>\n",
       "      <td>-0.042480</td>\n",
       "      <td>-0.064653</td>\n",
       "      <td>0.000450</td>\n",
       "      <td>-0.013806</td>\n",
       "      <td>-0.013568</td>\n",
       "      <td>0.008156</td>\n",
       "      <td>-0.014566</td>\n",
       "      <td>0.006675</td>\n",
       "    </tr>\n",
       "    <tr>\n",
       "      <th>PC</th>\n",
       "      <td>-0.226759</td>\n",
       "      <td>0.221383</td>\n",
       "      <td>0.419272</td>\n",
       "      <td>-0.042480</td>\n",
       "      <td>1.000000</td>\n",
       "      <td>-0.572369</td>\n",
       "      <td>0.174954</td>\n",
       "      <td>0.050390</td>\n",
       "      <td>0.201796</td>\n",
       "      <td>-0.127778</td>\n",
       "      <td>0.061755</td>\n",
       "      <td>0.149890</td>\n",
       "    </tr>\n",
       "    <tr>\n",
       "      <th>UC</th>\n",
       "      <td>0.390693</td>\n",
       "      <td>-0.386379</td>\n",
       "      <td>-0.596612</td>\n",
       "      <td>-0.064653</td>\n",
       "      <td>-0.572369</td>\n",
       "      <td>1.000000</td>\n",
       "      <td>-0.003185</td>\n",
       "      <td>-0.010776</td>\n",
       "      <td>-0.116033</td>\n",
       "      <td>0.226568</td>\n",
       "      <td>-0.154733</td>\n",
       "      <td>-0.096893</td>\n",
       "    </tr>\n",
       "    <tr>\n",
       "      <th>IG</th>\n",
       "      <td>-0.106127</td>\n",
       "      <td>0.103443</td>\n",
       "      <td>-0.061559</td>\n",
       "      <td>0.000450</td>\n",
       "      <td>0.174954</td>\n",
       "      <td>-0.003185</td>\n",
       "      <td>1.000000</td>\n",
       "      <td>0.110068</td>\n",
       "      <td>0.065692</td>\n",
       "      <td>-0.085299</td>\n",
       "      <td>-0.072063</td>\n",
       "      <td>0.410575</td>\n",
       "    </tr>\n",
       "    <tr>\n",
       "      <th>Novation</th>\n",
       "      <td>-0.078109</td>\n",
       "      <td>0.079152</td>\n",
       "      <td>-0.012452</td>\n",
       "      <td>-0.013806</td>\n",
       "      <td>0.050390</td>\n",
       "      <td>-0.010776</td>\n",
       "      <td>0.110068</td>\n",
       "      <td>1.000000</td>\n",
       "      <td>-0.039037</td>\n",
       "      <td>-0.480190</td>\n",
       "      <td>-0.042794</td>\n",
       "      <td>-0.023835</td>\n",
       "    </tr>\n",
       "    <tr>\n",
       "      <th>Partialtermination</th>\n",
       "      <td>-0.086783</td>\n",
       "      <td>0.081648</td>\n",
       "      <td>0.206339</td>\n",
       "      <td>-0.013568</td>\n",
       "      <td>0.201796</td>\n",
       "      <td>-0.116033</td>\n",
       "      <td>0.065692</td>\n",
       "      <td>-0.039037</td>\n",
       "      <td>1.000000</td>\n",
       "      <td>-0.471918</td>\n",
       "      <td>0.339472</td>\n",
       "      <td>0.047082</td>\n",
       "    </tr>\n",
       "    <tr>\n",
       "      <th>Trade</th>\n",
       "      <td>0.201035</td>\n",
       "      <td>-0.198167</td>\n",
       "      <td>-0.157392</td>\n",
       "      <td>0.008156</td>\n",
       "      <td>-0.127778</td>\n",
       "      <td>0.226568</td>\n",
       "      <td>-0.085299</td>\n",
       "      <td>-0.480190</td>\n",
       "      <td>-0.471918</td>\n",
       "      <td>1.000000</td>\n",
       "      <td>-0.178081</td>\n",
       "      <td>-0.021561</td>\n",
       "    </tr>\n",
       "    <tr>\n",
       "      <th>Price</th>\n",
       "      <td>-0.092856</td>\n",
       "      <td>0.092612</td>\n",
       "      <td>0.205197</td>\n",
       "      <td>-0.014566</td>\n",
       "      <td>0.061755</td>\n",
       "      <td>-0.154733</td>\n",
       "      <td>-0.072063</td>\n",
       "      <td>-0.042794</td>\n",
       "      <td>0.339472</td>\n",
       "      <td>-0.178081</td>\n",
       "      <td>1.000000</td>\n",
       "      <td>-0.028458</td>\n",
       "    </tr>\n",
       "    <tr>\n",
       "      <th>Amount</th>\n",
       "      <td>-0.114414</td>\n",
       "      <td>0.114227</td>\n",
       "      <td>-0.034348</td>\n",
       "      <td>0.006675</td>\n",
       "      <td>0.149890</td>\n",
       "      <td>-0.096893</td>\n",
       "      <td>0.410575</td>\n",
       "      <td>-0.023835</td>\n",
       "      <td>0.047082</td>\n",
       "      <td>-0.021561</td>\n",
       "      <td>-0.028458</td>\n",
       "      <td>1.000000</td>\n",
       "    </tr>\n",
       "  </tbody>\n",
       "</table>\n",
       "</div>"
      ],
      "text/plain": [
       "                     Correct       New         U        OC        PC  \\\n",
       "Correct             1.000000 -0.992263 -0.325392 -0.037307 -0.226759   \n",
       "New                -0.992263  1.000000  0.318884  0.037630  0.221383   \n",
       "U                  -0.325392  0.318884  1.000000 -0.052737  0.419272   \n",
       "OC                 -0.037307  0.037630 -0.052737  1.000000 -0.042480   \n",
       "PC                 -0.226759  0.221383  0.419272 -0.042480  1.000000   \n",
       "UC                  0.390693 -0.386379 -0.596612 -0.064653 -0.572369   \n",
       "IG                 -0.106127  0.103443 -0.061559  0.000450  0.174954   \n",
       "Novation           -0.078109  0.079152 -0.012452 -0.013806  0.050390   \n",
       "Partialtermination -0.086783  0.081648  0.206339 -0.013568  0.201796   \n",
       "Trade               0.201035 -0.198167 -0.157392  0.008156 -0.127778   \n",
       "Price              -0.092856  0.092612  0.205197 -0.014566  0.061755   \n",
       "Amount             -0.114414  0.114227 -0.034348  0.006675  0.149890   \n",
       "\n",
       "                          UC        IG  Novation  Partialtermination  \\\n",
       "Correct             0.390693 -0.106127 -0.078109           -0.086783   \n",
       "New                -0.386379  0.103443  0.079152            0.081648   \n",
       "U                  -0.596612 -0.061559 -0.012452            0.206339   \n",
       "OC                 -0.064653  0.000450 -0.013806           -0.013568   \n",
       "PC                 -0.572369  0.174954  0.050390            0.201796   \n",
       "UC                  1.000000 -0.003185 -0.010776           -0.116033   \n",
       "IG                 -0.003185  1.000000  0.110068            0.065692   \n",
       "Novation           -0.010776  0.110068  1.000000           -0.039037   \n",
       "Partialtermination -0.116033  0.065692 -0.039037            1.000000   \n",
       "Trade               0.226568 -0.085299 -0.480190           -0.471918   \n",
       "Price              -0.154733 -0.072063 -0.042794            0.339472   \n",
       "Amount             -0.096893  0.410575 -0.023835            0.047082   \n",
       "\n",
       "                       Trade     Price    Amount  \n",
       "Correct             0.201035 -0.092856 -0.114414  \n",
       "New                -0.198167  0.092612  0.114227  \n",
       "U                  -0.157392  0.205197 -0.034348  \n",
       "OC                  0.008156 -0.014566  0.006675  \n",
       "PC                 -0.127778  0.061755  0.149890  \n",
       "UC                  0.226568 -0.154733 -0.096893  \n",
       "IG                 -0.085299 -0.072063  0.410575  \n",
       "Novation           -0.480190 -0.042794 -0.023835  \n",
       "Partialtermination -0.471918  0.339472  0.047082  \n",
       "Trade               1.000000 -0.178081 -0.021561  \n",
       "Price              -0.178081  1.000000 -0.028458  \n",
       "Amount             -0.021561 -0.028458  1.000000  "
      ]
     },
     "execution_count": 12,
     "metadata": {},
     "output_type": "execute_result"
    }
   ],
   "source": [
    "new_data.corr()"
   ]
  },
  {
   "cell_type": "code",
   "execution_count": 14,
   "metadata": {},
   "outputs": [
    {
     "data": {
      "text/plain": [
       "<matplotlib.axes._subplots.AxesSubplot at 0x1a1842b048>"
      ]
     },
     "execution_count": 14,
     "metadata": {},
     "output_type": "execute_result"
    },
    {
     "data": {
      "image/png": "[encoded data removed]",
      "text/plain": [
       "<Figure size 792x648 with 2 Axes>"
      ]
     },
     "metadata": {
      "needs_background": "light"
     },
     "output_type": "display_data"
    }
   ],
   "source": [
    "import seaborn as sns\n",
    "import matplotlib.pyplot as plt\n",
    "import numpy as np\n",
    "# Compute the correlation matrix\n",
    "corr = new_data.corr()\n",
    "\n",
    "# Generate a mask for the upper triangle\n",
    "mask = np.zeros_like(corr, dtype=np.bool)\n",
    "mask[np.triu_indices_from(mask)] = True\n",
    "\n",
    "# Set up the matplotlib figure\n",
    "f, ax = plt.subplots(figsize=(11, 9))\n",
    "\n",
    "# Generate a custom diverging colormap\n",
    "cmap = sns.diverging_palette(220, 10, as_cmap=True)\n",
    "\n",
    "# Draw the heatmap with the mask and correct aspect ratio\n",
    "sns.heatmap(corr, mask=mask, cmap=cmap, vmax=.3, center=0,\n",
    "            square=True, linewidths=.5, cbar_kws={\"shrink\": .5})\n",
    "\n"
   ]
  },
  {
   "cell_type": "code",
   "execution_count": 8,
   "metadata": {},
   "outputs": [],
   "source": [
    "action = pd.get_dummies(data= data['ACTION'], drop_first = True)\n",
    "cleared = pd.get_dummies(data= data['CLEARED'], drop_first = True)\n",
    "collateralization = pd.get_dummies(data= data['INDICATION_OF_COLLATERALIZATION'], drop_first = True)\n",
    "taxonomy = pd.get_dummies(data = data['TAXONOMY'], drop_first = True)\n",
    "price_type = pd.get_dummies(data = data['PRICE_FORMING_CONTINUATION_DATA'], drop_first = True)"
   ]
  },
  {
   "cell_type": "code",
   "execution_count": 9,
   "metadata": {},
   "outputs": [],
   "source": [
    "new_data = pd.concat([action, cleared, collateralization, taxonomy, price_type, \n",
    "           data['PRICE_NOTATION'], data['ROUNDED_NOTIONAL_AMOUNT_1']],axis = 1)"
   ]
  },
  {
   "cell_type": "code",
   "execution_count": 10,
   "metadata": {},
   "outputs": [
    {
     "data": {
      "text/html": [
       "<div>\n",
       "<style scoped>\n",
       "    .dataframe tbody tr th:only-of-type {\n",
       "        vertical-align: middle;\n",
       "    }\n",
       "\n",
       "    .dataframe tbody tr th {\n",
       "        vertical-align: top;\n",
       "    }\n",
       "\n",
       "    .dataframe thead th {\n",
       "        text-align: right;\n",
       "    }\n",
       "</style>\n",
       "<table border=\"1\" class=\"dataframe\">\n",
       "  <thead>\n",
       "    <tr style=\"text-align: right;\">\n",
       "      <th></th>\n",
       "      <th>CORRECT</th>\n",
       "      <th>NEW</th>\n",
       "      <th>U</th>\n",
       "      <th>OC</th>\n",
       "      <th>PC</th>\n",
       "      <th>UC</th>\n",
       "      <th>Credit:Index:CDX:CDXIG</th>\n",
       "      <th>Novation</th>\n",
       "      <th>Partialtermination</th>\n",
       "      <th>Trade</th>\n",
       "      <th>PRICE_NOTATION</th>\n",
       "      <th>ROUNDED_NOTIONAL_AMOUNT_1</th>\n",
       "    </tr>\n",
       "  </thead>\n",
       "  <tbody>\n",
       "    <tr>\n",
       "      <th>0</th>\n",
       "      <td>0</td>\n",
       "      <td>1</td>\n",
       "      <td>1</td>\n",
       "      <td>0</td>\n",
       "      <td>0</td>\n",
       "      <td>1</td>\n",
       "      <td>1</td>\n",
       "      <td>0</td>\n",
       "      <td>0</td>\n",
       "      <td>1</td>\n",
       "      <td>1.00</td>\n",
       "      <td>100.0</td>\n",
       "    </tr>\n",
       "    <tr>\n",
       "      <th>1</th>\n",
       "      <td>0</td>\n",
       "      <td>1</td>\n",
       "      <td>1</td>\n",
       "      <td>0</td>\n",
       "      <td>1</td>\n",
       "      <td>0</td>\n",
       "      <td>1</td>\n",
       "      <td>0</td>\n",
       "      <td>0</td>\n",
       "      <td>1</td>\n",
       "      <td>1.00</td>\n",
       "      <td>30.0</td>\n",
       "    </tr>\n",
       "    <tr>\n",
       "      <th>2</th>\n",
       "      <td>1</td>\n",
       "      <td>0</td>\n",
       "      <td>1</td>\n",
       "      <td>0</td>\n",
       "      <td>1</td>\n",
       "      <td>0</td>\n",
       "      <td>1</td>\n",
       "      <td>0</td>\n",
       "      <td>0</td>\n",
       "      <td>1</td>\n",
       "      <td>1.00</td>\n",
       "      <td>30.0</td>\n",
       "    </tr>\n",
       "    <tr>\n",
       "      <th>3</th>\n",
       "      <td>0</td>\n",
       "      <td>1</td>\n",
       "      <td>1</td>\n",
       "      <td>0</td>\n",
       "      <td>1</td>\n",
       "      <td>0</td>\n",
       "      <td>1</td>\n",
       "      <td>1</td>\n",
       "      <td>0</td>\n",
       "      <td>0</td>\n",
       "      <td>1.24</td>\n",
       "      <td>25.0</td>\n",
       "    </tr>\n",
       "    <tr>\n",
       "      <th>4</th>\n",
       "      <td>1</td>\n",
       "      <td>0</td>\n",
       "      <td>0</td>\n",
       "      <td>0</td>\n",
       "      <td>0</td>\n",
       "      <td>1</td>\n",
       "      <td>0</td>\n",
       "      <td>0</td>\n",
       "      <td>0</td>\n",
       "      <td>1</td>\n",
       "      <td>1.00</td>\n",
       "      <td>5.0</td>\n",
       "    </tr>\n",
       "  </tbody>\n",
       "</table>\n",
       "</div>"
      ],
      "text/plain": [
       "   CORRECT  NEW  U  OC  PC  UC  Credit:Index:CDX:CDXIG  Novation  \\\n",
       "0        0    1  1   0   0   1                       1         0   \n",
       "1        0    1  1   0   1   0                       1         0   \n",
       "2        1    0  1   0   1   0                       1         0   \n",
       "3        0    1  1   0   1   0                       1         1   \n",
       "4        1    0  0   0   0   1                       0         0   \n",
       "\n",
       "   Partialtermination  Trade  PRICE_NOTATION  ROUNDED_NOTIONAL_AMOUNT_1  \n",
       "0                   0      1            1.00                      100.0  \n",
       "1                   0      1            1.00                       30.0  \n",
       "2                   0      1            1.00                       30.0  \n",
       "3                   0      0            1.24                       25.0  \n",
       "4                   0      1            1.00                        5.0  "
      ]
     },
     "execution_count": 10,
     "metadata": {},
     "output_type": "execute_result"
    }
   ],
   "source": [
    "new_data.head()"
   ]
  },
  {
   "cell_type": "code",
   "execution_count": 11,
   "metadata": {},
   "outputs": [],
   "source": [
    "new_data.rename(columns = {'Credit:Index:CDX:CDXIG':'IG','PRICE_NOTATION':'Price',\n",
    "                           'ROUNDED_NOTIONAL_AMOUNT_1':'Amount','CORRECT':'Correct','NEW':'New'}, inplace = True)"
   ]
  }
 ],
 "metadata": {
  "kernelspec": {
   "display_name": "Python 3",
   "language": "python",
   "name": "python3"
  },
  "language_info": {
   "codemirror_mode": {
    "name": "ipython",
    "version": 3
   },
   "file_extension": ".py",
   "mimetype": "text/x-python",
   "name": "python",
   "nbconvert_exporter": "python",
   "pygments_lexer": "ipython3",
   "version": "3.7.2"
  }
 },
 "nbformat": 4,
 "nbformat_minor": 2
}
